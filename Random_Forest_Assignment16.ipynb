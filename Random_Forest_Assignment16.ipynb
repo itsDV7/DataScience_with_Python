{
  "nbformat": 4,
  "nbformat_minor": 0,
  "metadata": {
    "colab": {
      "name": "Random_Forest_Assignment16.ipynb",
      "provenance": [],
      "include_colab_link": true
    },
    "kernelspec": {
      "name": "python3",
      "display_name": "Python 3"
    },
    "language_info": {
      "name": "python"
    }
  },
  "cells": [
    {
      "cell_type": "markdown",
      "metadata": {
        "id": "view-in-github",
        "colab_type": "text"
      },
      "source": [
        "<a href=\"https://colab.research.google.com/github/itsDV7/DataScience_with_Python/blob/main/Random_Forest_Assignment16.ipynb\" target=\"_parent\"><img src=\"https://colab.research.google.com/assets/colab-badge.svg\" alt=\"Open In Colab\"/></a>"
      ]
    },
    {
      "cell_type": "code",
      "metadata": {
        "id": "eqp7Q6rWnX20"
      },
      "source": [
        "#Social_Network_Ads.csv"
      ],
      "execution_count": 1,
      "outputs": []
    },
    {
      "cell_type": "markdown",
      "metadata": {
        "id": "1jSlqZcZnmrD"
      },
      "source": [
        "**Importing the libraries**"
      ]
    },
    {
      "cell_type": "code",
      "metadata": {
        "id": "ACJTKMfInp-E"
      },
      "source": [
        "import pandas as pd\n",
        "import numpy as np\n",
        "import matplotlib.pyplot as plt\n",
        "from sklearn.preprocessing import LabelEncoder, MinMaxScaler\n",
        "from sklearn.model_selection import train_test_split\n",
        "from sklearn.tree import plot_tree\n",
        "from sklearn.ensemble import RandomForestClassifier\n",
        "from sklearn.metrics import confusion_matrix\n",
        "import seaborn as sns\n",
        "from matplotlib.pylab import rcParams\n",
        "rcParams['figure.figsize'] = 18, 12"
      ],
      "execution_count": 2,
      "outputs": []
    },
    {
      "cell_type": "markdown",
      "metadata": {
        "id": "fRZkaj-dnxIj"
      },
      "source": [
        "**Importing the dataset**"
      ]
    },
    {
      "cell_type": "code",
      "metadata": {
        "id": "vfPLWJHRlM-4"
      },
      "source": [
        "data = pd.read_csv(\"Social_Network_Ads.csv\")\n",
        "df = data.copy()"
      ],
      "execution_count": 3,
      "outputs": []
    },
    {
      "cell_type": "markdown",
      "metadata": {
        "id": "KulopZdFCRD4"
      },
      "source": [
        "**EDA**"
      ]
    },
    {
      "cell_type": "code",
      "metadata": {
        "colab": {
          "base_uri": "https://localhost:8080/",
          "height": 204
        },
        "id": "nqlYz06kCR_s",
        "outputId": "952ebe79-c416-408c-958c-32a6f0749901"
      },
      "source": [
        "df.head()"
      ],
      "execution_count": 4,
      "outputs": [
        {
          "output_type": "execute_result",
          "data": {
            "text/html": [
              "<div>\n",
              "<style scoped>\n",
              "    .dataframe tbody tr th:only-of-type {\n",
              "        vertical-align: middle;\n",
              "    }\n",
              "\n",
              "    .dataframe tbody tr th {\n",
              "        vertical-align: top;\n",
              "    }\n",
              "\n",
              "    .dataframe thead th {\n",
              "        text-align: right;\n",
              "    }\n",
              "</style>\n",
              "<table border=\"1\" class=\"dataframe\">\n",
              "  <thead>\n",
              "    <tr style=\"text-align: right;\">\n",
              "      <th></th>\n",
              "      <th>User ID</th>\n",
              "      <th>Gender</th>\n",
              "      <th>Age</th>\n",
              "      <th>EstimatedSalary</th>\n",
              "      <th>Purchased</th>\n",
              "    </tr>\n",
              "  </thead>\n",
              "  <tbody>\n",
              "    <tr>\n",
              "      <th>0</th>\n",
              "      <td>15624510</td>\n",
              "      <td>Male</td>\n",
              "      <td>19</td>\n",
              "      <td>19000</td>\n",
              "      <td>0</td>\n",
              "    </tr>\n",
              "    <tr>\n",
              "      <th>1</th>\n",
              "      <td>15810944</td>\n",
              "      <td>Male</td>\n",
              "      <td>35</td>\n",
              "      <td>20000</td>\n",
              "      <td>0</td>\n",
              "    </tr>\n",
              "    <tr>\n",
              "      <th>2</th>\n",
              "      <td>15668575</td>\n",
              "      <td>Female</td>\n",
              "      <td>26</td>\n",
              "      <td>43000</td>\n",
              "      <td>0</td>\n",
              "    </tr>\n",
              "    <tr>\n",
              "      <th>3</th>\n",
              "      <td>15603246</td>\n",
              "      <td>Female</td>\n",
              "      <td>27</td>\n",
              "      <td>57000</td>\n",
              "      <td>0</td>\n",
              "    </tr>\n",
              "    <tr>\n",
              "      <th>4</th>\n",
              "      <td>15804002</td>\n",
              "      <td>Male</td>\n",
              "      <td>19</td>\n",
              "      <td>76000</td>\n",
              "      <td>0</td>\n",
              "    </tr>\n",
              "  </tbody>\n",
              "</table>\n",
              "</div>"
            ],
            "text/plain": [
              "    User ID  Gender  Age  EstimatedSalary  Purchased\n",
              "0  15624510    Male   19            19000          0\n",
              "1  15810944    Male   35            20000          0\n",
              "2  15668575  Female   26            43000          0\n",
              "3  15603246  Female   27            57000          0\n",
              "4  15804002    Male   19            76000          0"
            ]
          },
          "metadata": {
            "tags": []
          },
          "execution_count": 4
        }
      ]
    },
    {
      "cell_type": "code",
      "metadata": {
        "id": "3bfY4xAFCSB2"
      },
      "source": [
        "df = df.drop('User ID', axis=1)"
      ],
      "execution_count": 5,
      "outputs": []
    },
    {
      "cell_type": "code",
      "metadata": {
        "colab": {
          "base_uri": "https://localhost:8080/",
          "height": 204
        },
        "id": "kQ_PRNXlCSD_",
        "outputId": "99059a7c-b84a-426d-c16f-9ffb79434264"
      },
      "source": [
        "df.head()"
      ],
      "execution_count": 6,
      "outputs": [
        {
          "output_type": "execute_result",
          "data": {
            "text/html": [
              "<div>\n",
              "<style scoped>\n",
              "    .dataframe tbody tr th:only-of-type {\n",
              "        vertical-align: middle;\n",
              "    }\n",
              "\n",
              "    .dataframe tbody tr th {\n",
              "        vertical-align: top;\n",
              "    }\n",
              "\n",
              "    .dataframe thead th {\n",
              "        text-align: right;\n",
              "    }\n",
              "</style>\n",
              "<table border=\"1\" class=\"dataframe\">\n",
              "  <thead>\n",
              "    <tr style=\"text-align: right;\">\n",
              "      <th></th>\n",
              "      <th>Gender</th>\n",
              "      <th>Age</th>\n",
              "      <th>EstimatedSalary</th>\n",
              "      <th>Purchased</th>\n",
              "    </tr>\n",
              "  </thead>\n",
              "  <tbody>\n",
              "    <tr>\n",
              "      <th>0</th>\n",
              "      <td>Male</td>\n",
              "      <td>19</td>\n",
              "      <td>19000</td>\n",
              "      <td>0</td>\n",
              "    </tr>\n",
              "    <tr>\n",
              "      <th>1</th>\n",
              "      <td>Male</td>\n",
              "      <td>35</td>\n",
              "      <td>20000</td>\n",
              "      <td>0</td>\n",
              "    </tr>\n",
              "    <tr>\n",
              "      <th>2</th>\n",
              "      <td>Female</td>\n",
              "      <td>26</td>\n",
              "      <td>43000</td>\n",
              "      <td>0</td>\n",
              "    </tr>\n",
              "    <tr>\n",
              "      <th>3</th>\n",
              "      <td>Female</td>\n",
              "      <td>27</td>\n",
              "      <td>57000</td>\n",
              "      <td>0</td>\n",
              "    </tr>\n",
              "    <tr>\n",
              "      <th>4</th>\n",
              "      <td>Male</td>\n",
              "      <td>19</td>\n",
              "      <td>76000</td>\n",
              "      <td>0</td>\n",
              "    </tr>\n",
              "  </tbody>\n",
              "</table>\n",
              "</div>"
            ],
            "text/plain": [
              "   Gender  Age  EstimatedSalary  Purchased\n",
              "0    Male   19            19000          0\n",
              "1    Male   35            20000          0\n",
              "2  Female   26            43000          0\n",
              "3  Female   27            57000          0\n",
              "4    Male   19            76000          0"
            ]
          },
          "metadata": {
            "tags": []
          },
          "execution_count": 6
        }
      ]
    },
    {
      "cell_type": "markdown",
      "metadata": {
        "id": "6XxZrxtkCiZb"
      },
      "source": [
        "**Encoding**"
      ]
    },
    {
      "cell_type": "code",
      "metadata": {
        "id": "1ySVCnJNCigr"
      },
      "source": [
        "LE = LabelEncoder()"
      ],
      "execution_count": 7,
      "outputs": []
    },
    {
      "cell_type": "code",
      "metadata": {
        "id": "UXDMjTDXECMM"
      },
      "source": [
        "df['Gender'] = LE.fit_transform(df.Gender)"
      ],
      "execution_count": 8,
      "outputs": []
    },
    {
      "cell_type": "code",
      "metadata": {
        "colab": {
          "base_uri": "https://localhost:8080/",
          "height": 204
        },
        "id": "GB8c10SmECOO",
        "outputId": "adedb21d-b372-4d7e-8f1e-dffab8f1da6a"
      },
      "source": [
        "df.head()"
      ],
      "execution_count": 9,
      "outputs": [
        {
          "output_type": "execute_result",
          "data": {
            "text/html": [
              "<div>\n",
              "<style scoped>\n",
              "    .dataframe tbody tr th:only-of-type {\n",
              "        vertical-align: middle;\n",
              "    }\n",
              "\n",
              "    .dataframe tbody tr th {\n",
              "        vertical-align: top;\n",
              "    }\n",
              "\n",
              "    .dataframe thead th {\n",
              "        text-align: right;\n",
              "    }\n",
              "</style>\n",
              "<table border=\"1\" class=\"dataframe\">\n",
              "  <thead>\n",
              "    <tr style=\"text-align: right;\">\n",
              "      <th></th>\n",
              "      <th>Gender</th>\n",
              "      <th>Age</th>\n",
              "      <th>EstimatedSalary</th>\n",
              "      <th>Purchased</th>\n",
              "    </tr>\n",
              "  </thead>\n",
              "  <tbody>\n",
              "    <tr>\n",
              "      <th>0</th>\n",
              "      <td>1</td>\n",
              "      <td>19</td>\n",
              "      <td>19000</td>\n",
              "      <td>0</td>\n",
              "    </tr>\n",
              "    <tr>\n",
              "      <th>1</th>\n",
              "      <td>1</td>\n",
              "      <td>35</td>\n",
              "      <td>20000</td>\n",
              "      <td>0</td>\n",
              "    </tr>\n",
              "    <tr>\n",
              "      <th>2</th>\n",
              "      <td>0</td>\n",
              "      <td>26</td>\n",
              "      <td>43000</td>\n",
              "      <td>0</td>\n",
              "    </tr>\n",
              "    <tr>\n",
              "      <th>3</th>\n",
              "      <td>0</td>\n",
              "      <td>27</td>\n",
              "      <td>57000</td>\n",
              "      <td>0</td>\n",
              "    </tr>\n",
              "    <tr>\n",
              "      <th>4</th>\n",
              "      <td>1</td>\n",
              "      <td>19</td>\n",
              "      <td>76000</td>\n",
              "      <td>0</td>\n",
              "    </tr>\n",
              "  </tbody>\n",
              "</table>\n",
              "</div>"
            ],
            "text/plain": [
              "   Gender  Age  EstimatedSalary  Purchased\n",
              "0       1   19            19000          0\n",
              "1       1   35            20000          0\n",
              "2       0   26            43000          0\n",
              "3       0   27            57000          0\n",
              "4       1   19            76000          0"
            ]
          },
          "metadata": {
            "tags": []
          },
          "execution_count": 9
        }
      ]
    },
    {
      "cell_type": "markdown",
      "metadata": {
        "id": "9Thl3lvkn9Kr"
      },
      "source": [
        "**Splitting the dataset into the Training set and Test set**"
      ]
    },
    {
      "cell_type": "code",
      "metadata": {
        "id": "76h0CH6dySIe"
      },
      "source": [
        "data = pd.read_csv(\"Social_Network_Ads.csv\")\n",
        "df = data.copy()"
      ],
      "execution_count": 10,
      "outputs": []
    },
    {
      "cell_type": "markdown",
      "metadata": {
        "id": "3oUnBIg5ySIf"
      },
      "source": [
        "**EDA**"
      ]
    },
    {
      "cell_type": "code",
      "metadata": {
        "colab": {
          "base_uri": "https://localhost:8080/",
          "height": 204
        },
        "id": "TvXHDrUpySIf",
        "outputId": "25b4a099-5c9f-4e96-e6fe-309b6ca564b2"
      },
      "source": [
        "df.head()"
      ],
      "execution_count": 11,
      "outputs": [
        {
          "output_type": "execute_result",
          "data": {
            "text/html": [
              "<div>\n",
              "<style scoped>\n",
              "    .dataframe tbody tr th:only-of-type {\n",
              "        vertical-align: middle;\n",
              "    }\n",
              "\n",
              "    .dataframe tbody tr th {\n",
              "        vertical-align: top;\n",
              "    }\n",
              "\n",
              "    .dataframe thead th {\n",
              "        text-align: right;\n",
              "    }\n",
              "</style>\n",
              "<table border=\"1\" class=\"dataframe\">\n",
              "  <thead>\n",
              "    <tr style=\"text-align: right;\">\n",
              "      <th></th>\n",
              "      <th>User ID</th>\n",
              "      <th>Gender</th>\n",
              "      <th>Age</th>\n",
              "      <th>EstimatedSalary</th>\n",
              "      <th>Purchased</th>\n",
              "    </tr>\n",
              "  </thead>\n",
              "  <tbody>\n",
              "    <tr>\n",
              "      <th>0</th>\n",
              "      <td>15624510</td>\n",
              "      <td>Male</td>\n",
              "      <td>19</td>\n",
              "      <td>19000</td>\n",
              "      <td>0</td>\n",
              "    </tr>\n",
              "    <tr>\n",
              "      <th>1</th>\n",
              "      <td>15810944</td>\n",
              "      <td>Male</td>\n",
              "      <td>35</td>\n",
              "      <td>20000</td>\n",
              "      <td>0</td>\n",
              "    </tr>\n",
              "    <tr>\n",
              "      <th>2</th>\n",
              "      <td>15668575</td>\n",
              "      <td>Female</td>\n",
              "      <td>26</td>\n",
              "      <td>43000</td>\n",
              "      <td>0</td>\n",
              "    </tr>\n",
              "    <tr>\n",
              "      <th>3</th>\n",
              "      <td>15603246</td>\n",
              "      <td>Female</td>\n",
              "      <td>27</td>\n",
              "      <td>57000</td>\n",
              "      <td>0</td>\n",
              "    </tr>\n",
              "    <tr>\n",
              "      <th>4</th>\n",
              "      <td>15804002</td>\n",
              "      <td>Male</td>\n",
              "      <td>19</td>\n",
              "      <td>76000</td>\n",
              "      <td>0</td>\n",
              "    </tr>\n",
              "  </tbody>\n",
              "</table>\n",
              "</div>"
            ],
            "text/plain": [
              "    User ID  Gender  Age  EstimatedSalary  Purchased\n",
              "0  15624510    Male   19            19000          0\n",
              "1  15810944    Male   35            20000          0\n",
              "2  15668575  Female   26            43000          0\n",
              "3  15603246  Female   27            57000          0\n",
              "4  15804002    Male   19            76000          0"
            ]
          },
          "metadata": {
            "tags": []
          },
          "execution_count": 11
        }
      ]
    },
    {
      "cell_type": "code",
      "metadata": {
        "id": "n8mn9mnVySIg"
      },
      "source": [
        "df = df.drop('User ID', axis=1)"
      ],
      "execution_count": 12,
      "outputs": []
    },
    {
      "cell_type": "code",
      "metadata": {
        "colab": {
          "base_uri": "https://localhost:8080/",
          "height": 204
        },
        "id": "CRWheFnyySIg",
        "outputId": "e04666ff-ec01-4d9c-a212-8b538543fa7b"
      },
      "source": [
        "df.head()"
      ],
      "execution_count": 13,
      "outputs": [
        {
          "output_type": "execute_result",
          "data": {
            "text/html": [
              "<div>\n",
              "<style scoped>\n",
              "    .dataframe tbody tr th:only-of-type {\n",
              "        vertical-align: middle;\n",
              "    }\n",
              "\n",
              "    .dataframe tbody tr th {\n",
              "        vertical-align: top;\n",
              "    }\n",
              "\n",
              "    .dataframe thead th {\n",
              "        text-align: right;\n",
              "    }\n",
              "</style>\n",
              "<table border=\"1\" class=\"dataframe\">\n",
              "  <thead>\n",
              "    <tr style=\"text-align: right;\">\n",
              "      <th></th>\n",
              "      <th>Gender</th>\n",
              "      <th>Age</th>\n",
              "      <th>EstimatedSalary</th>\n",
              "      <th>Purchased</th>\n",
              "    </tr>\n",
              "  </thead>\n",
              "  <tbody>\n",
              "    <tr>\n",
              "      <th>0</th>\n",
              "      <td>Male</td>\n",
              "      <td>19</td>\n",
              "      <td>19000</td>\n",
              "      <td>0</td>\n",
              "    </tr>\n",
              "    <tr>\n",
              "      <th>1</th>\n",
              "      <td>Male</td>\n",
              "      <td>35</td>\n",
              "      <td>20000</td>\n",
              "      <td>0</td>\n",
              "    </tr>\n",
              "    <tr>\n",
              "      <th>2</th>\n",
              "      <td>Female</td>\n",
              "      <td>26</td>\n",
              "      <td>43000</td>\n",
              "      <td>0</td>\n",
              "    </tr>\n",
              "    <tr>\n",
              "      <th>3</th>\n",
              "      <td>Female</td>\n",
              "      <td>27</td>\n",
              "      <td>57000</td>\n",
              "      <td>0</td>\n",
              "    </tr>\n",
              "    <tr>\n",
              "      <th>4</th>\n",
              "      <td>Male</td>\n",
              "      <td>19</td>\n",
              "      <td>76000</td>\n",
              "      <td>0</td>\n",
              "    </tr>\n",
              "  </tbody>\n",
              "</table>\n",
              "</div>"
            ],
            "text/plain": [
              "   Gender  Age  EstimatedSalary  Purchased\n",
              "0    Male   19            19000          0\n",
              "1    Male   35            20000          0\n",
              "2  Female   26            43000          0\n",
              "3  Female   27            57000          0\n",
              "4    Male   19            76000          0"
            ]
          },
          "metadata": {
            "tags": []
          },
          "execution_count": 13
        }
      ]
    },
    {
      "cell_type": "markdown",
      "metadata": {
        "id": "ZlQJOFDiySIg"
      },
      "source": [
        "**Encoding**"
      ]
    },
    {
      "cell_type": "code",
      "metadata": {
        "id": "Mc0IoViEySIg"
      },
      "source": [
        "LE = LabelEncoder()"
      ],
      "execution_count": 14,
      "outputs": []
    },
    {
      "cell_type": "code",
      "metadata": {
        "id": "rjadjepbySIg"
      },
      "source": [
        "df['Gender'] = LE.fit_transform(df.Gender)"
      ],
      "execution_count": 15,
      "outputs": []
    },
    {
      "cell_type": "code",
      "metadata": {
        "colab": {
          "base_uri": "https://localhost:8080/",
          "height": 204
        },
        "id": "Ddebwl_FySIg",
        "outputId": "2b946348-f87a-4dba-b804-9e381361c801"
      },
      "source": [
        "df.head()"
      ],
      "execution_count": 16,
      "outputs": [
        {
          "output_type": "execute_result",
          "data": {
            "text/html": [
              "<div>\n",
              "<style scoped>\n",
              "    .dataframe tbody tr th:only-of-type {\n",
              "        vertical-align: middle;\n",
              "    }\n",
              "\n",
              "    .dataframe tbody tr th {\n",
              "        vertical-align: top;\n",
              "    }\n",
              "\n",
              "    .dataframe thead th {\n",
              "        text-align: right;\n",
              "    }\n",
              "</style>\n",
              "<table border=\"1\" class=\"dataframe\">\n",
              "  <thead>\n",
              "    <tr style=\"text-align: right;\">\n",
              "      <th></th>\n",
              "      <th>Gender</th>\n",
              "      <th>Age</th>\n",
              "      <th>EstimatedSalary</th>\n",
              "      <th>Purchased</th>\n",
              "    </tr>\n",
              "  </thead>\n",
              "  <tbody>\n",
              "    <tr>\n",
              "      <th>0</th>\n",
              "      <td>1</td>\n",
              "      <td>19</td>\n",
              "      <td>19000</td>\n",
              "      <td>0</td>\n",
              "    </tr>\n",
              "    <tr>\n",
              "      <th>1</th>\n",
              "      <td>1</td>\n",
              "      <td>35</td>\n",
              "      <td>20000</td>\n",
              "      <td>0</td>\n",
              "    </tr>\n",
              "    <tr>\n",
              "      <th>2</th>\n",
              "      <td>0</td>\n",
              "      <td>26</td>\n",
              "      <td>43000</td>\n",
              "      <td>0</td>\n",
              "    </tr>\n",
              "    <tr>\n",
              "      <th>3</th>\n",
              "      <td>0</td>\n",
              "      <td>27</td>\n",
              "      <td>57000</td>\n",
              "      <td>0</td>\n",
              "    </tr>\n",
              "    <tr>\n",
              "      <th>4</th>\n",
              "      <td>1</td>\n",
              "      <td>19</td>\n",
              "      <td>76000</td>\n",
              "      <td>0</td>\n",
              "    </tr>\n",
              "  </tbody>\n",
              "</table>\n",
              "</div>"
            ],
            "text/plain": [
              "   Gender  Age  EstimatedSalary  Purchased\n",
              "0       1   19            19000          0\n",
              "1       1   35            20000          0\n",
              "2       0   26            43000          0\n",
              "3       0   27            57000          0\n",
              "4       1   19            76000          0"
            ]
          },
          "metadata": {
            "tags": []
          },
          "execution_count": 16
        }
      ]
    },
    {
      "cell_type": "code",
      "metadata": {
        "colab": {
          "base_uri": "https://localhost:8080/",
          "height": 419
        },
        "id": "_GHVGupEEUeV",
        "outputId": "d3ac53d5-f24a-4dc5-8014-81be862473c1"
      },
      "source": [
        "X = df.iloc[:,:-1]\n",
        "X"
      ],
      "execution_count": 17,
      "outputs": [
        {
          "output_type": "execute_result",
          "data": {
            "text/html": [
              "<div>\n",
              "<style scoped>\n",
              "    .dataframe tbody tr th:only-of-type {\n",
              "        vertical-align: middle;\n",
              "    }\n",
              "\n",
              "    .dataframe tbody tr th {\n",
              "        vertical-align: top;\n",
              "    }\n",
              "\n",
              "    .dataframe thead th {\n",
              "        text-align: right;\n",
              "    }\n",
              "</style>\n",
              "<table border=\"1\" class=\"dataframe\">\n",
              "  <thead>\n",
              "    <tr style=\"text-align: right;\">\n",
              "      <th></th>\n",
              "      <th>Gender</th>\n",
              "      <th>Age</th>\n",
              "      <th>EstimatedSalary</th>\n",
              "    </tr>\n",
              "  </thead>\n",
              "  <tbody>\n",
              "    <tr>\n",
              "      <th>0</th>\n",
              "      <td>1</td>\n",
              "      <td>19</td>\n",
              "      <td>19000</td>\n",
              "    </tr>\n",
              "    <tr>\n",
              "      <th>1</th>\n",
              "      <td>1</td>\n",
              "      <td>35</td>\n",
              "      <td>20000</td>\n",
              "    </tr>\n",
              "    <tr>\n",
              "      <th>2</th>\n",
              "      <td>0</td>\n",
              "      <td>26</td>\n",
              "      <td>43000</td>\n",
              "    </tr>\n",
              "    <tr>\n",
              "      <th>3</th>\n",
              "      <td>0</td>\n",
              "      <td>27</td>\n",
              "      <td>57000</td>\n",
              "    </tr>\n",
              "    <tr>\n",
              "      <th>4</th>\n",
              "      <td>1</td>\n",
              "      <td>19</td>\n",
              "      <td>76000</td>\n",
              "    </tr>\n",
              "    <tr>\n",
              "      <th>...</th>\n",
              "      <td>...</td>\n",
              "      <td>...</td>\n",
              "      <td>...</td>\n",
              "    </tr>\n",
              "    <tr>\n",
              "      <th>395</th>\n",
              "      <td>0</td>\n",
              "      <td>46</td>\n",
              "      <td>41000</td>\n",
              "    </tr>\n",
              "    <tr>\n",
              "      <th>396</th>\n",
              "      <td>1</td>\n",
              "      <td>51</td>\n",
              "      <td>23000</td>\n",
              "    </tr>\n",
              "    <tr>\n",
              "      <th>397</th>\n",
              "      <td>0</td>\n",
              "      <td>50</td>\n",
              "      <td>20000</td>\n",
              "    </tr>\n",
              "    <tr>\n",
              "      <th>398</th>\n",
              "      <td>1</td>\n",
              "      <td>36</td>\n",
              "      <td>33000</td>\n",
              "    </tr>\n",
              "    <tr>\n",
              "      <th>399</th>\n",
              "      <td>0</td>\n",
              "      <td>49</td>\n",
              "      <td>36000</td>\n",
              "    </tr>\n",
              "  </tbody>\n",
              "</table>\n",
              "<p>400 rows × 3 columns</p>\n",
              "</div>"
            ],
            "text/plain": [
              "     Gender  Age  EstimatedSalary\n",
              "0         1   19            19000\n",
              "1         1   35            20000\n",
              "2         0   26            43000\n",
              "3         0   27            57000\n",
              "4         1   19            76000\n",
              "..      ...  ...              ...\n",
              "395       0   46            41000\n",
              "396       1   51            23000\n",
              "397       0   50            20000\n",
              "398       1   36            33000\n",
              "399       0   49            36000\n",
              "\n",
              "[400 rows x 3 columns]"
            ]
          },
          "metadata": {
            "tags": []
          },
          "execution_count": 17
        }
      ]
    },
    {
      "cell_type": "code",
      "metadata": {
        "colab": {
          "base_uri": "https://localhost:8080/"
        },
        "id": "fp6cyVFpEUkR",
        "outputId": "7d48aa1a-9367-4233-bf1b-de7eaa0b0187"
      },
      "source": [
        "y = df.iloc[:, -1]\n",
        "y"
      ],
      "execution_count": 18,
      "outputs": [
        {
          "output_type": "execute_result",
          "data": {
            "text/plain": [
              "0      0\n",
              "1      0\n",
              "2      0\n",
              "3      0\n",
              "4      0\n",
              "      ..\n",
              "395    1\n",
              "396    1\n",
              "397    1\n",
              "398    0\n",
              "399    1\n",
              "Name: Purchased, Length: 400, dtype: int64"
            ]
          },
          "metadata": {
            "tags": []
          },
          "execution_count": 18
        }
      ]
    },
    {
      "cell_type": "code",
      "metadata": {
        "id": "o9msgi0sj72h",
        "colab": {
          "base_uri": "https://localhost:8080/"
        },
        "outputId": "f121c83f-4c0e-459d-8984-d165394dd699"
      },
      "source": [
        "X_train, X_test, y_train, y_test = train_test_split(X, y, test_size = 0.20, random_state=1)\n",
        "print(f'X Train:\\n{X_train}\\n')\n",
        "print(f'X Test:\\n{X_test}\\n')\n",
        "print(f'Y Train:\\n{y_train}\\n')\n",
        "print(f'Y Test:\\n{y_test}\\n')"
      ],
      "execution_count": 19,
      "outputs": [
        {
          "output_type": "stream",
          "text": [
            "X Train:\n",
            "     Gender  Age  EstimatedSalary\n",
            "93        0   29            28000\n",
            "23        0   45            22000\n",
            "299       1   46           117000\n",
            "13        1   32            18000\n",
            "90        1   22            81000\n",
            "..      ...  ...              ...\n",
            "255       0   52            90000\n",
            "72        0   20            23000\n",
            "396       1   51            23000\n",
            "235       1   46            79000\n",
            "37        1   30            49000\n",
            "\n",
            "[320 rows x 3 columns]\n",
            "\n",
            "X Test:\n",
            "     Gender  Age  EstimatedSalary\n",
            "398       1   36            33000\n",
            "125       0   39            61000\n",
            "328       1   36           118000\n",
            "339       1   39           122000\n",
            "172       0   26           118000\n",
            "..      ...  ...              ...\n",
            "347       0   54           108000\n",
            "41        0   33            51000\n",
            "180       1   26            16000\n",
            "132       1   30            87000\n",
            "224       0   35            60000\n",
            "\n",
            "[80 rows x 3 columns]\n",
            "\n",
            "Y Train:\n",
            "93     0\n",
            "23     1\n",
            "299    1\n",
            "13     0\n",
            "90     0\n",
            "      ..\n",
            "255    1\n",
            "72     0\n",
            "396    1\n",
            "235    1\n",
            "37     0\n",
            "Name: Purchased, Length: 320, dtype: int64\n",
            "\n",
            "Y Test:\n",
            "398    0\n",
            "125    0\n",
            "328    1\n",
            "339    1\n",
            "172    0\n",
            "      ..\n",
            "347    1\n",
            "41     0\n",
            "180    0\n",
            "132    0\n",
            "224    0\n",
            "Name: Purchased, Length: 80, dtype: int64\n",
            "\n"
          ],
          "name": "stdout"
        }
      ]
    },
    {
      "cell_type": "markdown",
      "metadata": {
        "id": "XNNxUncRoG6K"
      },
      "source": [
        "**Feature Scaling**"
      ]
    },
    {
      "cell_type": "code",
      "metadata": {
        "id": "5Sv7rc7dyVXF"
      },
      "source": [
        "data = pd.read_csv(\"Social_Network_Ads.csv\")\n",
        "df = data.copy()"
      ],
      "execution_count": 20,
      "outputs": []
    },
    {
      "cell_type": "markdown",
      "metadata": {
        "id": "iT0C2s_3yVXG"
      },
      "source": [
        "**EDA**"
      ]
    },
    {
      "cell_type": "code",
      "metadata": {
        "colab": {
          "base_uri": "https://localhost:8080/",
          "height": 204
        },
        "id": "9k9nC4wwyVXG",
        "outputId": "d446f965-28da-49ee-cc20-5591191be2f3"
      },
      "source": [
        "df.head()"
      ],
      "execution_count": 21,
      "outputs": [
        {
          "output_type": "execute_result",
          "data": {
            "text/html": [
              "<div>\n",
              "<style scoped>\n",
              "    .dataframe tbody tr th:only-of-type {\n",
              "        vertical-align: middle;\n",
              "    }\n",
              "\n",
              "    .dataframe tbody tr th {\n",
              "        vertical-align: top;\n",
              "    }\n",
              "\n",
              "    .dataframe thead th {\n",
              "        text-align: right;\n",
              "    }\n",
              "</style>\n",
              "<table border=\"1\" class=\"dataframe\">\n",
              "  <thead>\n",
              "    <tr style=\"text-align: right;\">\n",
              "      <th></th>\n",
              "      <th>User ID</th>\n",
              "      <th>Gender</th>\n",
              "      <th>Age</th>\n",
              "      <th>EstimatedSalary</th>\n",
              "      <th>Purchased</th>\n",
              "    </tr>\n",
              "  </thead>\n",
              "  <tbody>\n",
              "    <tr>\n",
              "      <th>0</th>\n",
              "      <td>15624510</td>\n",
              "      <td>Male</td>\n",
              "      <td>19</td>\n",
              "      <td>19000</td>\n",
              "      <td>0</td>\n",
              "    </tr>\n",
              "    <tr>\n",
              "      <th>1</th>\n",
              "      <td>15810944</td>\n",
              "      <td>Male</td>\n",
              "      <td>35</td>\n",
              "      <td>20000</td>\n",
              "      <td>0</td>\n",
              "    </tr>\n",
              "    <tr>\n",
              "      <th>2</th>\n",
              "      <td>15668575</td>\n",
              "      <td>Female</td>\n",
              "      <td>26</td>\n",
              "      <td>43000</td>\n",
              "      <td>0</td>\n",
              "    </tr>\n",
              "    <tr>\n",
              "      <th>3</th>\n",
              "      <td>15603246</td>\n",
              "      <td>Female</td>\n",
              "      <td>27</td>\n",
              "      <td>57000</td>\n",
              "      <td>0</td>\n",
              "    </tr>\n",
              "    <tr>\n",
              "      <th>4</th>\n",
              "      <td>15804002</td>\n",
              "      <td>Male</td>\n",
              "      <td>19</td>\n",
              "      <td>76000</td>\n",
              "      <td>0</td>\n",
              "    </tr>\n",
              "  </tbody>\n",
              "</table>\n",
              "</div>"
            ],
            "text/plain": [
              "    User ID  Gender  Age  EstimatedSalary  Purchased\n",
              "0  15624510    Male   19            19000          0\n",
              "1  15810944    Male   35            20000          0\n",
              "2  15668575  Female   26            43000          0\n",
              "3  15603246  Female   27            57000          0\n",
              "4  15804002    Male   19            76000          0"
            ]
          },
          "metadata": {
            "tags": []
          },
          "execution_count": 21
        }
      ]
    },
    {
      "cell_type": "code",
      "metadata": {
        "id": "PlURK1igyVXG"
      },
      "source": [
        "df = df.drop('User ID', axis=1)"
      ],
      "execution_count": 22,
      "outputs": []
    },
    {
      "cell_type": "code",
      "metadata": {
        "colab": {
          "base_uri": "https://localhost:8080/",
          "height": 204
        },
        "id": "Lj52SkzJyVXG",
        "outputId": "03c84476-6b4f-4e31-9a9b-2d31d9dd3e4c"
      },
      "source": [
        "df.head()"
      ],
      "execution_count": 23,
      "outputs": [
        {
          "output_type": "execute_result",
          "data": {
            "text/html": [
              "<div>\n",
              "<style scoped>\n",
              "    .dataframe tbody tr th:only-of-type {\n",
              "        vertical-align: middle;\n",
              "    }\n",
              "\n",
              "    .dataframe tbody tr th {\n",
              "        vertical-align: top;\n",
              "    }\n",
              "\n",
              "    .dataframe thead th {\n",
              "        text-align: right;\n",
              "    }\n",
              "</style>\n",
              "<table border=\"1\" class=\"dataframe\">\n",
              "  <thead>\n",
              "    <tr style=\"text-align: right;\">\n",
              "      <th></th>\n",
              "      <th>Gender</th>\n",
              "      <th>Age</th>\n",
              "      <th>EstimatedSalary</th>\n",
              "      <th>Purchased</th>\n",
              "    </tr>\n",
              "  </thead>\n",
              "  <tbody>\n",
              "    <tr>\n",
              "      <th>0</th>\n",
              "      <td>Male</td>\n",
              "      <td>19</td>\n",
              "      <td>19000</td>\n",
              "      <td>0</td>\n",
              "    </tr>\n",
              "    <tr>\n",
              "      <th>1</th>\n",
              "      <td>Male</td>\n",
              "      <td>35</td>\n",
              "      <td>20000</td>\n",
              "      <td>0</td>\n",
              "    </tr>\n",
              "    <tr>\n",
              "      <th>2</th>\n",
              "      <td>Female</td>\n",
              "      <td>26</td>\n",
              "      <td>43000</td>\n",
              "      <td>0</td>\n",
              "    </tr>\n",
              "    <tr>\n",
              "      <th>3</th>\n",
              "      <td>Female</td>\n",
              "      <td>27</td>\n",
              "      <td>57000</td>\n",
              "      <td>0</td>\n",
              "    </tr>\n",
              "    <tr>\n",
              "      <th>4</th>\n",
              "      <td>Male</td>\n",
              "      <td>19</td>\n",
              "      <td>76000</td>\n",
              "      <td>0</td>\n",
              "    </tr>\n",
              "  </tbody>\n",
              "</table>\n",
              "</div>"
            ],
            "text/plain": [
              "   Gender  Age  EstimatedSalary  Purchased\n",
              "0    Male   19            19000          0\n",
              "1    Male   35            20000          0\n",
              "2  Female   26            43000          0\n",
              "3  Female   27            57000          0\n",
              "4    Male   19            76000          0"
            ]
          },
          "metadata": {
            "tags": []
          },
          "execution_count": 23
        }
      ]
    },
    {
      "cell_type": "markdown",
      "metadata": {
        "id": "8ZgtkTI4yVXG"
      },
      "source": [
        "**Encoding**"
      ]
    },
    {
      "cell_type": "code",
      "metadata": {
        "id": "1ksoQe1WyVXH"
      },
      "source": [
        "LE = LabelEncoder()"
      ],
      "execution_count": 24,
      "outputs": []
    },
    {
      "cell_type": "code",
      "metadata": {
        "id": "g9QfjsBRyVXH"
      },
      "source": [
        "df['Gender'] = LE.fit_transform(df.Gender)"
      ],
      "execution_count": 25,
      "outputs": []
    },
    {
      "cell_type": "code",
      "metadata": {
        "colab": {
          "base_uri": "https://localhost:8080/",
          "height": 204
        },
        "id": "QoX4tgvsyVXH",
        "outputId": "ca503d95-34a1-4762-baca-4bcc1f763da2"
      },
      "source": [
        "df.head()"
      ],
      "execution_count": 26,
      "outputs": [
        {
          "output_type": "execute_result",
          "data": {
            "text/html": [
              "<div>\n",
              "<style scoped>\n",
              "    .dataframe tbody tr th:only-of-type {\n",
              "        vertical-align: middle;\n",
              "    }\n",
              "\n",
              "    .dataframe tbody tr th {\n",
              "        vertical-align: top;\n",
              "    }\n",
              "\n",
              "    .dataframe thead th {\n",
              "        text-align: right;\n",
              "    }\n",
              "</style>\n",
              "<table border=\"1\" class=\"dataframe\">\n",
              "  <thead>\n",
              "    <tr style=\"text-align: right;\">\n",
              "      <th></th>\n",
              "      <th>Gender</th>\n",
              "      <th>Age</th>\n",
              "      <th>EstimatedSalary</th>\n",
              "      <th>Purchased</th>\n",
              "    </tr>\n",
              "  </thead>\n",
              "  <tbody>\n",
              "    <tr>\n",
              "      <th>0</th>\n",
              "      <td>1</td>\n",
              "      <td>19</td>\n",
              "      <td>19000</td>\n",
              "      <td>0</td>\n",
              "    </tr>\n",
              "    <tr>\n",
              "      <th>1</th>\n",
              "      <td>1</td>\n",
              "      <td>35</td>\n",
              "      <td>20000</td>\n",
              "      <td>0</td>\n",
              "    </tr>\n",
              "    <tr>\n",
              "      <th>2</th>\n",
              "      <td>0</td>\n",
              "      <td>26</td>\n",
              "      <td>43000</td>\n",
              "      <td>0</td>\n",
              "    </tr>\n",
              "    <tr>\n",
              "      <th>3</th>\n",
              "      <td>0</td>\n",
              "      <td>27</td>\n",
              "      <td>57000</td>\n",
              "      <td>0</td>\n",
              "    </tr>\n",
              "    <tr>\n",
              "      <th>4</th>\n",
              "      <td>1</td>\n",
              "      <td>19</td>\n",
              "      <td>76000</td>\n",
              "      <td>0</td>\n",
              "    </tr>\n",
              "  </tbody>\n",
              "</table>\n",
              "</div>"
            ],
            "text/plain": [
              "   Gender  Age  EstimatedSalary  Purchased\n",
              "0       1   19            19000          0\n",
              "1       1   35            20000          0\n",
              "2       0   26            43000          0\n",
              "3       0   27            57000          0\n",
              "4       1   19            76000          0"
            ]
          },
          "metadata": {
            "tags": []
          },
          "execution_count": 26
        }
      ]
    },
    {
      "cell_type": "code",
      "metadata": {
        "colab": {
          "base_uri": "https://localhost:8080/",
          "height": 419
        },
        "id": "WuEiDYVwyVXH",
        "outputId": "55541fc8-8af5-4b0f-e7dd-fb13af4f1d62"
      },
      "source": [
        "X = df.iloc[:,:-1]\n",
        "X"
      ],
      "execution_count": 27,
      "outputs": [
        {
          "output_type": "execute_result",
          "data": {
            "text/html": [
              "<div>\n",
              "<style scoped>\n",
              "    .dataframe tbody tr th:only-of-type {\n",
              "        vertical-align: middle;\n",
              "    }\n",
              "\n",
              "    .dataframe tbody tr th {\n",
              "        vertical-align: top;\n",
              "    }\n",
              "\n",
              "    .dataframe thead th {\n",
              "        text-align: right;\n",
              "    }\n",
              "</style>\n",
              "<table border=\"1\" class=\"dataframe\">\n",
              "  <thead>\n",
              "    <tr style=\"text-align: right;\">\n",
              "      <th></th>\n",
              "      <th>Gender</th>\n",
              "      <th>Age</th>\n",
              "      <th>EstimatedSalary</th>\n",
              "    </tr>\n",
              "  </thead>\n",
              "  <tbody>\n",
              "    <tr>\n",
              "      <th>0</th>\n",
              "      <td>1</td>\n",
              "      <td>19</td>\n",
              "      <td>19000</td>\n",
              "    </tr>\n",
              "    <tr>\n",
              "      <th>1</th>\n",
              "      <td>1</td>\n",
              "      <td>35</td>\n",
              "      <td>20000</td>\n",
              "    </tr>\n",
              "    <tr>\n",
              "      <th>2</th>\n",
              "      <td>0</td>\n",
              "      <td>26</td>\n",
              "      <td>43000</td>\n",
              "    </tr>\n",
              "    <tr>\n",
              "      <th>3</th>\n",
              "      <td>0</td>\n",
              "      <td>27</td>\n",
              "      <td>57000</td>\n",
              "    </tr>\n",
              "    <tr>\n",
              "      <th>4</th>\n",
              "      <td>1</td>\n",
              "      <td>19</td>\n",
              "      <td>76000</td>\n",
              "    </tr>\n",
              "    <tr>\n",
              "      <th>...</th>\n",
              "      <td>...</td>\n",
              "      <td>...</td>\n",
              "      <td>...</td>\n",
              "    </tr>\n",
              "    <tr>\n",
              "      <th>395</th>\n",
              "      <td>0</td>\n",
              "      <td>46</td>\n",
              "      <td>41000</td>\n",
              "    </tr>\n",
              "    <tr>\n",
              "      <th>396</th>\n",
              "      <td>1</td>\n",
              "      <td>51</td>\n",
              "      <td>23000</td>\n",
              "    </tr>\n",
              "    <tr>\n",
              "      <th>397</th>\n",
              "      <td>0</td>\n",
              "      <td>50</td>\n",
              "      <td>20000</td>\n",
              "    </tr>\n",
              "    <tr>\n",
              "      <th>398</th>\n",
              "      <td>1</td>\n",
              "      <td>36</td>\n",
              "      <td>33000</td>\n",
              "    </tr>\n",
              "    <tr>\n",
              "      <th>399</th>\n",
              "      <td>0</td>\n",
              "      <td>49</td>\n",
              "      <td>36000</td>\n",
              "    </tr>\n",
              "  </tbody>\n",
              "</table>\n",
              "<p>400 rows × 3 columns</p>\n",
              "</div>"
            ],
            "text/plain": [
              "     Gender  Age  EstimatedSalary\n",
              "0         1   19            19000\n",
              "1         1   35            20000\n",
              "2         0   26            43000\n",
              "3         0   27            57000\n",
              "4         1   19            76000\n",
              "..      ...  ...              ...\n",
              "395       0   46            41000\n",
              "396       1   51            23000\n",
              "397       0   50            20000\n",
              "398       1   36            33000\n",
              "399       0   49            36000\n",
              "\n",
              "[400 rows x 3 columns]"
            ]
          },
          "metadata": {
            "tags": []
          },
          "execution_count": 27
        }
      ]
    },
    {
      "cell_type": "code",
      "metadata": {
        "colab": {
          "base_uri": "https://localhost:8080/"
        },
        "id": "1Td1gqxkyVXI",
        "outputId": "070f2af0-3b45-4762-e98c-28550791a752"
      },
      "source": [
        "y = df.iloc[:, -1]\n",
        "y"
      ],
      "execution_count": 28,
      "outputs": [
        {
          "output_type": "execute_result",
          "data": {
            "text/plain": [
              "0      0\n",
              "1      0\n",
              "2      0\n",
              "3      0\n",
              "4      0\n",
              "      ..\n",
              "395    1\n",
              "396    1\n",
              "397    1\n",
              "398    0\n",
              "399    1\n",
              "Name: Purchased, Length: 400, dtype: int64"
            ]
          },
          "metadata": {
            "tags": []
          },
          "execution_count": 28
        }
      ]
    },
    {
      "cell_type": "code",
      "metadata": {
        "colab": {
          "base_uri": "https://localhost:8080/"
        },
        "id": "l-gHW9J4yVXI",
        "outputId": "f62ea600-6e4b-4808-9f61-88792635e90e"
      },
      "source": [
        "X_train, X_test, y_train, y_test = train_test_split(X, y, test_size = 0.20, random_state=1)\n",
        "print(f'X Train:\\n{X_train}\\n')\n",
        "print(f'X Test:\\n{X_test}\\n')\n",
        "print(f'Y Train:\\n{y_train}\\n')\n",
        "print(f'Y Test:\\n{y_test}\\n')"
      ],
      "execution_count": 29,
      "outputs": [
        {
          "output_type": "stream",
          "text": [
            "X Train:\n",
            "     Gender  Age  EstimatedSalary\n",
            "93        0   29            28000\n",
            "23        0   45            22000\n",
            "299       1   46           117000\n",
            "13        1   32            18000\n",
            "90        1   22            81000\n",
            "..      ...  ...              ...\n",
            "255       0   52            90000\n",
            "72        0   20            23000\n",
            "396       1   51            23000\n",
            "235       1   46            79000\n",
            "37        1   30            49000\n",
            "\n",
            "[320 rows x 3 columns]\n",
            "\n",
            "X Test:\n",
            "     Gender  Age  EstimatedSalary\n",
            "398       1   36            33000\n",
            "125       0   39            61000\n",
            "328       1   36           118000\n",
            "339       1   39           122000\n",
            "172       0   26           118000\n",
            "..      ...  ...              ...\n",
            "347       0   54           108000\n",
            "41        0   33            51000\n",
            "180       1   26            16000\n",
            "132       1   30            87000\n",
            "224       0   35            60000\n",
            "\n",
            "[80 rows x 3 columns]\n",
            "\n",
            "Y Train:\n",
            "93     0\n",
            "23     1\n",
            "299    1\n",
            "13     0\n",
            "90     0\n",
            "      ..\n",
            "255    1\n",
            "72     0\n",
            "396    1\n",
            "235    1\n",
            "37     0\n",
            "Name: Purchased, Length: 320, dtype: int64\n",
            "\n",
            "Y Test:\n",
            "398    0\n",
            "125    0\n",
            "328    1\n",
            "339    1\n",
            "172    0\n",
            "      ..\n",
            "347    1\n",
            "41     0\n",
            "180    0\n",
            "132    0\n",
            "224    0\n",
            "Name: Purchased, Length: 80, dtype: int64\n",
            "\n"
          ],
          "name": "stdout"
        }
      ]
    },
    {
      "cell_type": "code",
      "metadata": {
        "id": "Xfifr6tlj77A"
      },
      "source": [
        "scaler = MinMaxScaler()"
      ],
      "execution_count": 30,
      "outputs": []
    },
    {
      "cell_type": "code",
      "metadata": {
        "colab": {
          "base_uri": "https://localhost:8080/"
        },
        "id": "V8D6K2JpFG3B",
        "outputId": "2b3510b4-4068-47b5-8679-c76c18fc301f"
      },
      "source": [
        "scaler.fit(X_train)"
      ],
      "execution_count": 31,
      "outputs": [
        {
          "output_type": "execute_result",
          "data": {
            "text/plain": [
              "MinMaxScaler(copy=True, feature_range=(0, 1))"
            ]
          },
          "metadata": {
            "tags": []
          },
          "execution_count": 31
        }
      ]
    },
    {
      "cell_type": "code",
      "metadata": {
        "colab": {
          "base_uri": "https://localhost:8080/"
        },
        "id": "yURk6zp7GX3Y",
        "outputId": "547d9c00-79f2-4f5f-ffa0-2371601459ac"
      },
      "source": [
        "X_train = scaler.transform(X_train)\n",
        "X_train"
      ],
      "execution_count": 32,
      "outputs": [
        {
          "output_type": "execute_result",
          "data": {
            "text/plain": [
              "array([[0.        , 0.26190476, 0.0962963 ],\n",
              "       [0.        , 0.64285714, 0.05185185],\n",
              "       [1.        , 0.66666667, 0.75555556],\n",
              "       [1.        , 0.33333333, 0.02222222],\n",
              "       [1.        , 0.0952381 , 0.48888889],\n",
              "       [1.        , 0.16666667, 0.53333333],\n",
              "       [1.        , 0.71428571, 0.13333333],\n",
              "       [1.        , 0.4047619 , 0.31851852],\n",
              "       [1.        , 0.69047619, 0.05925926],\n",
              "       [1.        , 0.19047619, 0.12592593],\n",
              "       [0.        , 0.33333333, 0.88888889],\n",
              "       [1.        , 1.        , 0.14074074],\n",
              "       [0.        , 0.80952381, 0.04444444],\n",
              "       [0.        , 0.47619048, 0.2962963 ],\n",
              "       [1.        , 0.16666667, 0.55555556],\n",
              "       [0.        , 0.95238095, 0.17037037],\n",
              "       [1.        , 0.73809524, 0.54074074],\n",
              "       [0.        , 0.45238095, 0.46666667],\n",
              "       [0.        , 0.4047619 , 0.45925926],\n",
              "       [0.        , 0.38095238, 0.20740741],\n",
              "       [1.        , 0.04761905, 0.25185185],\n",
              "       [1.        , 0.66666667, 0.54074074],\n",
              "       [0.        , 0.30952381, 0.14074074],\n",
              "       [0.        , 0.69047619, 0.11111111],\n",
              "       [1.        , 0.4047619 , 0.25925926],\n",
              "       [1.        , 0.5       , 0.6       ],\n",
              "       [0.        , 0.35714286, 0.72592593],\n",
              "       [1.        , 0.73809524, 0.52592593],\n",
              "       [1.        , 0.64285714, 0.47407407],\n",
              "       [0.        , 0.61904762, 0.17777778],\n",
              "       [1.        , 0.54761905, 0.32592593],\n",
              "       [0.        , 0.57142857, 0.28148148],\n",
              "       [1.        , 0.4047619 , 0.42962963],\n",
              "       [0.        , 0.54761905, 0.42222222],\n",
              "       [0.        , 0.21428571, 0.6       ],\n",
              "       [0.        , 0.28571429, 0.74814815],\n",
              "       [1.        , 0.54761905, 0.27407407],\n",
              "       [1.        , 0.54761905, 0.27407407],\n",
              "       [0.        , 0.04761905, 0.4962963 ],\n",
              "       [0.        , 0.66666667, 0.19259259],\n",
              "       [0.        , 0.21428571, 0.11851852],\n",
              "       [0.        , 0.4047619 , 0.41481481],\n",
              "       [1.        , 0.73809524, 0.0962963 ],\n",
              "       [1.        , 0.4047619 , 0.56296296],\n",
              "       [1.        , 0.45238095, 0.44444444],\n",
              "       [0.        , 0.33333333, 0.75555556],\n",
              "       [0.        , 0.42857143, 0.44444444],\n",
              "       [1.        , 0.04761905, 0.52592593],\n",
              "       [0.        , 0.47619048, 0.25925926],\n",
              "       [0.        , 0.73809524, 0.15555556],\n",
              "       [1.        , 0.52380952, 0.37037037],\n",
              "       [1.        , 0.45238095, 0.45925926],\n",
              "       [0.        , 1.        , 0.22962963],\n",
              "       [0.        , 0.71428571, 0.91111111],\n",
              "       [1.        , 0.52380952, 0.41481481],\n",
              "       [0.        , 0.42857143, 0.35555556],\n",
              "       [1.        , 0.19047619, 0.48888889],\n",
              "       [1.        , 0.35714286, 0.11851852],\n",
              "       [0.        , 0.54761905, 0.26666667],\n",
              "       [0.        , 0.66666667, 0.43703704],\n",
              "       [1.        , 0.        , 0.4962963 ],\n",
              "       [0.        , 0.45238095, 0.13333333],\n",
              "       [1.        , 0.4047619 , 0.28148148],\n",
              "       [0.        , 0.23809524, 0.32592593],\n",
              "       [0.        , 0.45238095, 0.41481481],\n",
              "       [0.        , 0.        , 0.21481481],\n",
              "       [1.        , 0.47619048, 0.34074074],\n",
              "       [0.        , 0.4047619 , 0.37037037],\n",
              "       [1.        , 0.30952381, 0.37777778],\n",
              "       [1.        , 0.69047619, 0.07407407],\n",
              "       [1.        , 0.57142857, 0.65925926],\n",
              "       [1.        , 0.02380952, 0.02962963],\n",
              "       [1.        , 0.07142857, 0.42222222],\n",
              "       [1.        , 0.23809524, 0.12592593],\n",
              "       [1.        , 0.80952381, 1.        ],\n",
              "       [0.        , 0.83333333, 0.65925926],\n",
              "       [1.        , 0.16666667, 0.48148148],\n",
              "       [0.        , 0.19047619, 0.42222222],\n",
              "       [0.        , 0.19047619, 0.        ],\n",
              "       [0.        , 0.52380952, 0.94074074],\n",
              "       [1.        , 0.4047619 , 0.17037037],\n",
              "       [0.        , 0.92857143, 0.79259259],\n",
              "       [1.        , 0.54761905, 0.53333333],\n",
              "       [0.        , 0.14285714, 0.54814815],\n",
              "       [1.        , 0.45238095, 0.27407407],\n",
              "       [1.        , 0.4047619 , 0.68888889],\n",
              "       [1.        , 0.33333333, 0.62962963],\n",
              "       [0.        , 0.4047619 , 0.97777778],\n",
              "       [0.        , 0.02380952, 0.08148148],\n",
              "       [0.        , 0.66666667, 0.4962963 ],\n",
              "       [1.        , 0.69047619, 0.66666667],\n",
              "       [0.        , 0.64285714, 0.22222222],\n",
              "       [1.        , 0.47619048, 0.26666667],\n",
              "       [0.        , 0.45238095, 0.57777778],\n",
              "       [1.        , 0.26190476, 0.20740741],\n",
              "       [0.        , 0.54761905, 0.11111111],\n",
              "       [0.        , 0.52380952, 0.33333333],\n",
              "       [1.        , 0.21428571, 0.54074074],\n",
              "       [1.        , 0.21428571, 0.55555556],\n",
              "       [0.        , 0.5       , 0.41481481],\n",
              "       [0.        , 0.11904762, 0.0962963 ],\n",
              "       [0.        , 0.78571429, 0.97037037],\n",
              "       [1.        , 0.11904762, 0.35555556],\n",
              "       [0.        , 0.45238095, 0.48148148],\n",
              "       [1.        , 0.52380952, 0.23703704],\n",
              "       [0.        , 0.71428571, 0.1037037 ],\n",
              "       [1.        , 0.4047619 , 0.32592593],\n",
              "       [1.        , 0.19047619, 0.11111111],\n",
              "       [1.        , 0.5       , 0.67407407],\n",
              "       [0.        , 0.23809524, 0.51111111],\n",
              "       [0.        , 0.97619048, 0.45185185],\n",
              "       [1.        , 0.52380952, 0.31111111],\n",
              "       [0.        , 0.4047619 , 0.60740741],\n",
              "       [1.        , 0.19047619, 0.52592593],\n",
              "       [0.        , 0.54761905, 0.35555556],\n",
              "       [0.        , 0.26190476, 0.23703704],\n",
              "       [0.        , 0.19047619, 0.01481481],\n",
              "       [0.        , 0.95238095, 0.05925926],\n",
              "       [0.        , 0.28571429, 0.34814815],\n",
              "       [1.        , 0.16666667, 0.13333333],\n",
              "       [0.        , 0.97619048, 0.1037037 ],\n",
              "       [0.        , 0.23809524, 0.16296296],\n",
              "       [1.        , 0.5       , 0.45925926],\n",
              "       [0.        , 0.69047619, 0.68148148],\n",
              "       [0.        , 0.80952381, 0.91111111],\n",
              "       [1.        , 0.26190476, 0.20740741],\n",
              "       [0.        , 0.21428571, 0.9037037 ],\n",
              "       [0.        , 0.14285714, 0.2962963 ],\n",
              "       [0.        , 0.52380952, 0.42222222],\n",
              "       [0.        , 0.07142857, 0.00740741],\n",
              "       [0.        , 0.92857143, 0.08148148],\n",
              "       [1.        , 0.28571429, 0.88888889],\n",
              "       [0.        , 0.71428571, 0.77037037],\n",
              "       [1.        , 0.52380952, 0.31111111],\n",
              "       [1.        , 0.4047619 , 0.44444444],\n",
              "       [0.        , 0.23809524, 0.21481481],\n",
              "       [1.        , 0.45238095, 0.43703704],\n",
              "       [1.        , 0.4047619 , 0.08888889],\n",
              "       [1.        , 0.45238095, 0.47407407],\n",
              "       [1.        , 0.33333333, 0.77777778],\n",
              "       [1.        , 0.26190476, 0.44444444],\n",
              "       [1.        , 0.28571429, 0.01481481],\n",
              "       [1.        , 0.16666667, 0.47407407],\n",
              "       [1.        , 0.52380952, 0.68148148],\n",
              "       [1.        , 0.14285714, 0.02962963],\n",
              "       [0.        , 0.54761905, 0.42222222],\n",
              "       [1.        , 0.47619048, 0.34074074],\n",
              "       [1.        , 0.42857143, 0.95555556],\n",
              "       [1.        , 0.57142857, 0.36296296],\n",
              "       [1.        , 0.71428571, 0.13333333],\n",
              "       [0.        , 0.71428571, 0.11111111],\n",
              "       [1.        , 0.11904762, 0.03703704],\n",
              "       [0.        , 0.88095238, 0.85185185],\n",
              "       [1.        , 0.26190476, 0.98518519],\n",
              "       [1.        , 0.57142857, 0.37037037],\n",
              "       [0.        , 0.21428571, 0.28888889],\n",
              "       [1.        , 0.45238095, 0.2962963 ],\n",
              "       [1.        , 0.16666667, 0.05185185],\n",
              "       [1.        , 0.97619048, 0.94814815],\n",
              "       [1.        , 0.57142857, 0.28888889],\n",
              "       [0.        , 0.21428571, 0.01481481],\n",
              "       [0.        , 0.69047619, 0.25185185],\n",
              "       [1.        , 0.23809524, 0.32592593],\n",
              "       [0.        , 0.35714286, 0.4       ],\n",
              "       [0.        , 0.30952381, 0.39259259],\n",
              "       [0.        , 0.4047619 , 0.05925926],\n",
              "       [1.        , 0.4047619 , 0.05185185],\n",
              "       [0.        , 0.92857143, 0.13333333],\n",
              "       [1.        , 0.28571429, 0.68148148],\n",
              "       [1.        , 0.66666667, 0.05925926],\n",
              "       [0.        , 0.54761905, 0.33333333],\n",
              "       [0.        , 0.35714286, 0.19259259],\n",
              "       [0.        , 0.35714286, 0.33333333],\n",
              "       [0.        , 0.69047619, 0.23703704],\n",
              "       [0.        , 0.23809524, 0.2962963 ],\n",
              "       [1.        , 0.64285714, 0.12592593],\n",
              "       [1.        , 0.4047619 , 0.44444444],\n",
              "       [0.        , 0.97619048, 0.2       ],\n",
              "       [0.        , 0.69047619, 0.25925926],\n",
              "       [0.        , 0.69047619, 0.26666667],\n",
              "       [1.        , 0.4047619 , 0.47407407],\n",
              "       [1.        , 0.5       , 0.2       ],\n",
              "       [1.        , 0.52380952, 0.46666667],\n",
              "       [0.        , 0.11904762, 0.24444444],\n",
              "       [0.        , 0.5       , 0.44444444],\n",
              "       [0.        , 0.4047619 , 0.31111111],\n",
              "       [1.        , 0.88095238, 0.17777778],\n",
              "       [0.        , 0.30952381, 0.41481481],\n",
              "       [1.        , 0.23809524, 0.8       ],\n",
              "       [1.        , 0.57142857, 0.48148148],\n",
              "       [1.        , 0.52380952, 0.32592593],\n",
              "       [1.        , 0.71428571, 0.43703704],\n",
              "       [1.        , 0.07142857, 0.54074074],\n",
              "       [1.        , 0.83333333, 0.42222222],\n",
              "       [0.        , 0.21428571, 0.31851852],\n",
              "       [0.        , 0.4047619 , 0.23703704],\n",
              "       [1.        , 0.23809524, 0.54814815],\n",
              "       [1.        , 0.19047619, 0.48148148],\n",
              "       [0.        , 0.33333333, 0.75555556],\n",
              "       [0.        , 0.57142857, 0.44444444],\n",
              "       [0.        , 0.35714286, 0.99259259],\n",
              "       [0.        , 0.54761905, 0.48148148],\n",
              "       [1.        , 0.30952381, 0.31851852],\n",
              "       [1.        , 0.5       , 0.88148148],\n",
              "       [1.        , 0.21428571, 0.03703704],\n",
              "       [0.        , 0.26190476, 0.5037037 ],\n",
              "       [1.        , 0.02380952, 0.40740741],\n",
              "       [1.        , 0.02380952, 0.51851852],\n",
              "       [1.        , 0.26190476, 0.34074074],\n",
              "       [0.        , 0.5       , 0.88148148],\n",
              "       [1.        , 0.30952381, 0.45185185],\n",
              "       [1.        , 0.54761905, 0.42222222],\n",
              "       [0.        , 0.19047619, 0.48148148],\n",
              "       [1.        , 0.52380952, 0.34074074],\n",
              "       [0.        , 0.4047619 , 0.07407407],\n",
              "       [0.        , 0.71428571, 0.6       ],\n",
              "       [1.        , 0.57142857, 0.99259259],\n",
              "       [1.        , 0.23809524, 0.47407407],\n",
              "       [0.        , 0.78571429, 0.88148148],\n",
              "       [0.        , 0.35714286, 0.0962963 ],\n",
              "       [1.        , 0.57142857, 0.28888889],\n",
              "       [1.        , 0.64285714, 0.05185185],\n",
              "       [0.        , 0.45238095, 0.31111111],\n",
              "       [1.        , 0.38095238, 0.71851852],\n",
              "       [1.        , 0.4047619 , 0.17777778],\n",
              "       [0.        , 0.0952381 , 0.08888889],\n",
              "       [0.        , 0.4047619 , 0.42222222],\n",
              "       [0.        , 0.5       , 0.32592593],\n",
              "       [1.        , 0.04761905, 0.43703704],\n",
              "       [0.        , 0.66666667, 0.12592593],\n",
              "       [0.        , 0.19047619, 0.20740741],\n",
              "       [0.        , 0.26190476, 0.5037037 ],\n",
              "       [0.        , 0.88095238, 0.81481481],\n",
              "       [0.        , 0.45238095, 0.97037037],\n",
              "       [0.        , 0.64285714, 0.85925926],\n",
              "       [1.        , 0.35714286, 0.20740741],\n",
              "       [1.        , 0.54761905, 0.22222222],\n",
              "       [0.        , 0.57142857, 0.47407407],\n",
              "       [0.        , 0.45238095, 0.9037037 ],\n",
              "       [1.        , 0.14285714, 0.51111111],\n",
              "       [1.        , 0.33333333, 0.02222222],\n",
              "       [0.        , 0.9047619 , 0.65925926],\n",
              "       [0.        , 0.73809524, 0.17777778],\n",
              "       [0.        , 0.23809524, 0.51851852],\n",
              "       [0.        , 0.83333333, 0.94814815],\n",
              "       [1.        , 0.28571429, 0.54814815],\n",
              "       [1.        , 0.92857143, 0.33333333],\n",
              "       [1.        , 0.52380952, 0.44444444],\n",
              "       [1.        , 0.54761905, 0.47407407],\n",
              "       [0.        , 0.04761905, 0.4962963 ],\n",
              "       [0.        , 0.0952381 , 0.2962963 ],\n",
              "       [1.        , 0.4047619 , 0.54074074],\n",
              "       [1.        , 0.85714286, 0.40740741],\n",
              "       [0.        , 0.30952381, 0.        ],\n",
              "       [0.        , 0.76190476, 0.15555556],\n",
              "       [1.        , 0.57142857, 0.37037037],\n",
              "       [1.        , 0.38095238, 0.20740741],\n",
              "       [0.        , 0.57142857, 0.68888889],\n",
              "       [0.        , 0.85714286, 0.08148148],\n",
              "       [0.        , 0.02380952, 0.04444444],\n",
              "       [0.        , 0.42857143, 0.25925926],\n",
              "       [1.        , 0.45238095, 0.40740741],\n",
              "       [0.        , 0.42857143, 0.82222222],\n",
              "       [1.        , 0.69047619, 0.03703704],\n",
              "       [0.        , 0.28571429, 0.47407407],\n",
              "       [0.        , 0.97619048, 0.5037037 ],\n",
              "       [1.        , 0.26190476, 0.48148148],\n",
              "       [0.        , 0.5952381 , 0.71851852],\n",
              "       [0.        , 0.47619048, 0.48148148],\n",
              "       [1.        , 0.95238095, 0.95555556],\n",
              "       [1.        , 0.42857143, 0.81481481],\n",
              "       [1.        , 0.73809524, 0.0962963 ],\n",
              "       [1.        , 0.        , 0.27407407],\n",
              "       [1.        , 0.28571429, 0.        ],\n",
              "       [0.        , 0.97619048, 0.54074074],\n",
              "       [0.        , 0.21428571, 0.31111111],\n",
              "       [1.        , 0.47619048, 0.41481481],\n",
              "       [0.        , 0.30952381, 0.54814815],\n",
              "       [1.        , 0.69047619, 0.14074074],\n",
              "       [1.        , 0.30952381, 0.43703704],\n",
              "       [1.        , 0.45238095, 0.42222222],\n",
              "       [1.        , 0.52380952, 0.31111111],\n",
              "       [1.        , 0.97619048, 0.85185185],\n",
              "       [1.        , 0.73809524, 0.37037037],\n",
              "       [1.        , 0.71428571, 0.55555556],\n",
              "       [0.        , 0.66666667, 0.05185185],\n",
              "       [0.        , 0.85714286, 0.65925926],\n",
              "       [1.        , 0.4047619 , 0.03703704],\n",
              "       [0.        , 0.73809524, 0.93333333],\n",
              "       [1.        , 0.71428571, 0.19259259],\n",
              "       [1.        , 0.4047619 , 0.2962963 ],\n",
              "       [1.        , 0.42857143, 0.33333333],\n",
              "       [0.        , 0.33333333, 1.        ],\n",
              "       [0.        , 0.        , 0.39259259],\n",
              "       [1.        , 0.14285714, 0.2962963 ],\n",
              "       [0.        , 0.57142857, 0.55555556],\n",
              "       [1.        , 0.47619048, 0.32592593],\n",
              "       [0.        , 1.        , 0.68888889],\n",
              "       [0.        , 0.0952381 , 0.35555556],\n",
              "       [0.        , 0.14285714, 0.12592593],\n",
              "       [1.        , 0.66666667, 0.32592593],\n",
              "       [0.        , 0.71428571, 0.88148148],\n",
              "       [0.        , 0.54761905, 0.42222222],\n",
              "       [0.        , 0.76190476, 0.21481481],\n",
              "       [1.        , 0.47619048, 0.41481481],\n",
              "       [1.        , 0.14285714, 0.05925926],\n",
              "       [1.        , 0.4047619 , 0.34074074],\n",
              "       [0.        , 0.45238095, 0.48148148],\n",
              "       [0.        , 0.14285714, 0.08888889],\n",
              "       [0.        , 0.19047619, 0.51111111],\n",
              "       [0.        , 0.38095238, 0.07407407],\n",
              "       [0.        , 0.42857143, 0.28888889],\n",
              "       [0.        , 0.07142857, 0.39259259],\n",
              "       [0.        , 0.54761905, 0.41481481],\n",
              "       [1.        , 1.        , 0.2       ],\n",
              "       [0.        , 0.80952381, 0.55555556],\n",
              "       [0.        , 0.04761905, 0.05925926],\n",
              "       [1.        , 0.78571429, 0.05925926],\n",
              "       [1.        , 0.66666667, 0.47407407],\n",
              "       [1.        , 0.28571429, 0.25185185]])"
            ]
          },
          "metadata": {
            "tags": []
          },
          "execution_count": 32
        }
      ]
    },
    {
      "cell_type": "code",
      "metadata": {
        "colab": {
          "base_uri": "https://localhost:8080/"
        },
        "id": "qa0HeFxjFG5E",
        "outputId": "53e8049c-93fe-49d8-a9c9-cd9d5ef50f0f"
      },
      "source": [
        "X_test = scaler.transform(X_test)\n",
        "X_test"
      ],
      "execution_count": 33,
      "outputs": [
        {
          "output_type": "execute_result",
          "data": {
            "text/plain": [
              "array([[1.        , 0.42857143, 0.13333333],\n",
              "       [0.        , 0.5       , 0.34074074],\n",
              "       [1.        , 0.42857143, 0.76296296],\n",
              "       [1.        , 0.5       , 0.79259259],\n",
              "       [0.        , 0.19047619, 0.76296296],\n",
              "       [0.        , 0.47619048, 0.37037037],\n",
              "       [0.        , 0.04761905, 0.15555556],\n",
              "       [1.        , 0.73809524, 0.54814815],\n",
              "       [1.        , 0.30952381, 0.02222222],\n",
              "       [1.        , 0.71428571, 0.93333333],\n",
              "       [0.        , 0.38095238, 0.42222222],\n",
              "       [0.        , 0.5       , 0.42962963],\n",
              "       [1.        , 0.4047619 , 0.42222222],\n",
              "       [0.        , 0.71428571, 0.85925926],\n",
              "       [0.        , 0.83333333, 0.4962963 ],\n",
              "       [1.        , 0.9047619 , 0.87407407],\n",
              "       [1.        , 1.        , 0.5037037 ],\n",
              "       [1.        , 0.21428571, 0.31851852],\n",
              "       [0.        , 0.23809524, 0.53333333],\n",
              "       [1.        , 1.        , 0.64444444],\n",
              "       [0.        , 0.52380952, 0.44444444],\n",
              "       [0.        , 0.76190476, 0.54074074],\n",
              "       [0.        , 0.61904762, 0.91851852],\n",
              "       [1.        , 0.69047619, 0.20740741],\n",
              "       [1.        , 0.64285714, 0.08148148],\n",
              "       [1.        , 0.19047619, 0.        ],\n",
              "       [0.        , 0.95238095, 0.23703704],\n",
              "       [1.        , 0.73809524, 0.43703704],\n",
              "       [0.        , 0.83333333, 0.14074074],\n",
              "       [0.        , 0.80952381, 0.73333333],\n",
              "       [1.        , 0.5       , 0.2       ],\n",
              "       [1.        , 0.02380952, 0.45185185],\n",
              "       [0.        , 0.        , 0.52592593],\n",
              "       [1.        , 0.92857143, 0.43703704],\n",
              "       [0.        , 0.21428571, 0.51111111],\n",
              "       [1.        , 0.28571429, 0.48148148],\n",
              "       [1.        , 0.0952381 , 0.02222222],\n",
              "       [0.        , 0.33333333, 0.52592593],\n",
              "       [0.        , 0.76190476, 0.03703704],\n",
              "       [1.        , 0.02380952, 0.07407407],\n",
              "       [0.        , 0.69047619, 0.95555556],\n",
              "       [0.        , 0.95238095, 0.63703704],\n",
              "       [1.        , 0.38095238, 0.74074074],\n",
              "       [0.        , 0.11904762, 0.37777778],\n",
              "       [1.        , 0.9047619 , 0.33333333],\n",
              "       [0.        , 0.30952381, 0.76296296],\n",
              "       [0.        , 0.71428571, 0.14814815],\n",
              "       [0.        , 0.69047619, 0.72592593],\n",
              "       [0.        , 0.5       , 0.47407407],\n",
              "       [0.        , 0.80952381, 0.17037037],\n",
              "       [1.        , 0.14285714, 0.31851852],\n",
              "       [1.        , 0.45238095, 0.28148148],\n",
              "       [0.        , 0.57142857, 0.48148148],\n",
              "       [1.        , 0.66666667, 0.0962963 ],\n",
              "       [1.        , 0.57142857, 0.42962963],\n",
              "       [0.        , 0.45238095, 0.34814815],\n",
              "       [1.        , 1.        , 0.2       ],\n",
              "       [1.        , 0.42857143, 0.27407407],\n",
              "       [0.        , 0.95238095, 0.59259259],\n",
              "       [1.        , 0.5952381 , 0.84444444],\n",
              "       [1.        , 0.21428571, 0.54814815],\n",
              "       [0.        , 0.11904762, 0.4962963 ],\n",
              "       [0.        , 0.47619048, 0.71851852],\n",
              "       [0.        , 0.4047619 , 0.25925926],\n",
              "       [1.        , 0.42857143, 0.62222222],\n",
              "       [1.        , 0.45238095, 0.95555556],\n",
              "       [0.        , 0.19047619, 0.14814815],\n",
              "       [0.        , 0.57142857, 0.40740741],\n",
              "       [0.        , 0.5952381 , 0.87407407],\n",
              "       [0.        , 0.47619048, 0.25925926],\n",
              "       [0.        , 0.66666667, 0.6       ],\n",
              "       [0.        , 0.4047619 , 0.21481481],\n",
              "       [0.        , 0.47619048, 0.72592593],\n",
              "       [1.        , 0.5       , 0.41481481],\n",
              "       [0.        , 0.19047619, 0.27407407],\n",
              "       [0.        , 0.85714286, 0.68888889],\n",
              "       [0.        , 0.35714286, 0.26666667],\n",
              "       [1.        , 0.19047619, 0.00740741],\n",
              "       [1.        , 0.28571429, 0.53333333],\n",
              "       [0.        , 0.4047619 , 0.33333333]])"
            ]
          },
          "metadata": {
            "tags": []
          },
          "execution_count": 33
        }
      ]
    },
    {
      "cell_type": "markdown",
      "metadata": {
        "id": "_VB4b09roPhq"
      },
      "source": [
        "**Fitting Decision Tree Classification to the Training set**"
      ]
    },
    {
      "cell_type": "code",
      "metadata": {
        "id": "0UxhDc2lnqKu"
      },
      "source": [
        "rf = RandomForestClassifier()"
      ],
      "execution_count": 34,
      "outputs": []
    },
    {
      "cell_type": "code",
      "metadata": {
        "colab": {
          "base_uri": "https://localhost:8080/"
        },
        "id": "ulaakHWOyk7-",
        "outputId": "a9e10ab6-9509-4599-f196-d3a42a6c41ab"
      },
      "source": [
        "rf.fit(X_train, y_train)"
      ],
      "execution_count": 35,
      "outputs": [
        {
          "output_type": "execute_result",
          "data": {
            "text/plain": [
              "RandomForestClassifier(bootstrap=True, ccp_alpha=0.0, class_weight=None,\n",
              "                       criterion='gini', max_depth=None, max_features='auto',\n",
              "                       max_leaf_nodes=None, max_samples=None,\n",
              "                       min_impurity_decrease=0.0, min_impurity_split=None,\n",
              "                       min_samples_leaf=1, min_samples_split=2,\n",
              "                       min_weight_fraction_leaf=0.0, n_estimators=100,\n",
              "                       n_jobs=None, oob_score=False, random_state=None,\n",
              "                       verbose=0, warm_start=False)"
            ]
          },
          "metadata": {
            "tags": []
          },
          "execution_count": 35
        }
      ]
    },
    {
      "cell_type": "markdown",
      "metadata": {
        "id": "XOl6_ERWoYh2"
      },
      "source": [
        "**Predicting the Test set results**"
      ]
    },
    {
      "cell_type": "code",
      "metadata": {
        "colab": {
          "base_uri": "https://localhost:8080/"
        },
        "id": "gZWHWQ67yk98",
        "outputId": "b6a95eaa-5e54-424c-b6e4-271d076ea1f0"
      },
      "source": [
        "rf.predict(X_test)"
      ],
      "execution_count": 36,
      "outputs": [
        {
          "output_type": "execute_result",
          "data": {
            "text/plain": [
              "array([0, 0, 1, 1, 0, 0, 0, 1, 0, 1, 0, 0, 0, 1, 1, 1, 1, 0, 0, 1, 0, 1,\n",
              "       1, 1, 1, 0, 1, 1, 1, 1, 0, 0, 0, 1, 0, 0, 0, 0, 1, 0, 1, 1, 1, 0,\n",
              "       1, 0, 1, 1, 0, 1, 0, 0, 0, 1, 0, 0, 1, 0, 1, 1, 0, 0, 1, 0, 1, 1,\n",
              "       0, 0, 1, 0, 1, 0, 1, 0, 0, 1, 0, 0, 0, 0])"
            ]
          },
          "metadata": {
            "tags": []
          },
          "execution_count": 36
        }
      ]
    },
    {
      "cell_type": "code",
      "metadata": {
        "colab": {
          "base_uri": "https://localhost:8080/"
        },
        "id": "uPLjifS3zMhb",
        "outputId": "3d35a472-0356-41ba-f80f-3fcc736be04b"
      },
      "source": [
        "rf.score(X_test, y_test)*100"
      ],
      "execution_count": 37,
      "outputs": [
        {
          "output_type": "execute_result",
          "data": {
            "text/plain": [
              "86.25"
            ]
          },
          "metadata": {
            "tags": []
          },
          "execution_count": 37
        }
      ]
    },
    {
      "cell_type": "markdown",
      "metadata": {
        "id": "pqaQ_HTZogaZ"
      },
      "source": [
        "**Making the Confusion Matrix**"
      ]
    },
    {
      "cell_type": "code",
      "metadata": {
        "id": "DdqNOMK8nqSs",
        "colab": {
          "base_uri": "https://localhost:8080/"
        },
        "outputId": "b2eb1cc5-4358-44a7-d94c-f6b7e40c633e"
      },
      "source": [
        "cm = confusion_matrix(y_test, rf.predict(X_test))\n",
        "cm"
      ],
      "execution_count": 39,
      "outputs": [
        {
          "output_type": "execute_result",
          "data": {
            "text/plain": [
              "array([[40,  8],\n",
              "       [ 3, 29]])"
            ]
          },
          "metadata": {
            "tags": []
          },
          "execution_count": 39
        }
      ]
    },
    {
      "cell_type": "markdown",
      "metadata": {
        "id": "Ko5EDqqiopBl"
      },
      "source": [
        "**Visualising the results**"
      ]
    },
    {
      "cell_type": "code",
      "metadata": {
        "id": "uqmwBaVm3u6v"
      },
      "source": [
        "def plot_decision_boundaries(X, y, model_class, **model_params):\n",
        "    \"\"\"\n",
        "    Function to plot the decision boundaries of a classification model.\n",
        "    This uses just the first two columns of the data for fitting \n",
        "    the model as we need to find the predicted value for every point in \n",
        "    scatter plot.\n",
        "    Arguments:\n",
        "            X: Feature data as a NumPy-type array.\n",
        "            y: Label data as a NumPy-type array.\n",
        "            model_class: A Scikit-learn ML estimator class \n",
        "            e.g. GaussianNB (imported from sklearn.naive_bayes) or\n",
        "            LogisticRegression (imported from sklearn.linear_model)\n",
        "            **model_params: Model parameters to be passed on to the ML estimator\n",
        "    \n",
        "    Typical code example:\n",
        "            plt.figure()\n",
        "            plt.title(\"KNN decision boundary with neighbros: 5\",fontsize=16)\n",
        "            plot_decision_boundaries(X_train,y_train,KNeighborsClassifier,n_neighbors=5)\n",
        "            plt.show()\n",
        "    \"\"\"\n",
        "    try:\n",
        "        X = np.array(X)\n",
        "        y = np.array(y).flatten()\n",
        "    except:\n",
        "        print(\"Coercing input data to NumPy arrays failed\")\n",
        "    # Reduces to the first two columns of data\n",
        "    reduced_data = X[:, :2]\n",
        "    # Instantiate the model object\n",
        "    model = model_class(**model_params)\n",
        "    # Fits the model with the reduced data\n",
        "    model.fit(reduced_data, y)\n",
        "\n",
        "    # Step size of the mesh. Decrease to increase the quality of the VQ.\n",
        "    h = .02     # point in the mesh [x_min, m_max]x[y_min, y_max].    \n",
        "\n",
        "    # Plot the decision boundary. For that, we will assign a color to each\n",
        "    x_min, x_max = reduced_data[:, 0].min() - 1, reduced_data[:, 0].max() + 1\n",
        "    y_min, y_max = reduced_data[:, 1].min() - 1, reduced_data[:, 1].max() + 1\n",
        "    # Meshgrid creation\n",
        "    xx, yy = np.meshgrid(np.arange(x_min, x_max, h), np.arange(y_min, y_max, h))\n",
        "\n",
        "    # Obtain labels for each point in mesh using the model.\n",
        "    Z = model.predict(np.c_[xx.ravel(), yy.ravel()])    \n",
        "\n",
        "    x_min, x_max = X[:, 0].min() - 1, X[:, 0].max() + 1\n",
        "    y_min, y_max = X[:, 1].min() - 1, X[:, 1].max() + 1\n",
        "    xx, yy = np.meshgrid(np.arange(x_min, x_max, 0.1),\n",
        "                         np.arange(y_min, y_max, 0.1))\n",
        "\n",
        "    # Predictions to obtain the classification results\n",
        "    Z = model.predict(np.c_[xx.ravel(), yy.ravel()]).reshape(xx.shape)\n",
        "\n",
        "    # Plotting\n",
        "    plt.contourf(xx, yy, Z, alpha=0.4)\n",
        "    plt.scatter(X[:, 0], X[:, 1], c=y, alpha=0.8)\n",
        "    plt.xlabel(\"Feature-1\",fontsize=15)\n",
        "    plt.ylabel(\"Feature-2\",fontsize=15)\n",
        "    plt.xticks(fontsize=14)\n",
        "    plt.yticks(fontsize=14)\n",
        "    return plt"
      ],
      "execution_count": 42,
      "outputs": []
    },
    {
      "cell_type": "markdown",
      "metadata": {
        "id": "DUVWBDqn4z9r"
      },
      "source": [
        "**Visualising the Train set results**"
      ]
    },
    {
      "cell_type": "code",
      "metadata": {
        "colab": {
          "base_uri": "https://localhost:8080/",
          "height": 740
        },
        "id": "j_Sr7IGt3u9D",
        "outputId": "a715baad-8636-4d56-a461-a75af8050ec0"
      },
      "source": [
        "plot_decision_boundaries(X_train[:,1:], y_train, RandomForestClassifier)"
      ],
      "execution_count": 45,
      "outputs": [
        {
          "output_type": "execute_result",
          "data": {
            "text/plain": [
              "<module 'matplotlib.pyplot' from '/usr/local/lib/python3.7/dist-packages/matplotlib/pyplot.py'>"
            ]
          },
          "metadata": {
            "tags": []
          },
          "execution_count": 45
        },
        {
          "output_type": "display_data",
          "data": {
            "image/png": "[encoded data removed]",
            "text/plain": [
              "<Figure size 1296x864 with 1 Axes>"
            ]
          },
          "metadata": {
            "tags": [],
            "needs_background": "light"
          }
        }
      ]
    },
    {
      "cell_type": "markdown",
      "metadata": {
        "id": "HsJMtDFf44UB"
      },
      "source": [
        "**Visualising the Test set results**"
      ]
    },
    {
      "cell_type": "code",
      "metadata": {
        "colab": {
          "base_uri": "https://localhost:8080/",
          "height": 740
        },
        "id": "Gfrj9sMC44UC",
        "outputId": "6fa03747-e215-459f-ebe5-fe2017156ab6"
      },
      "source": [
        "plot_decision_boundaries(X_test[:,1:], y_test, RandomForestClassifier)"
      ],
      "execution_count": 46,
      "outputs": [
        {
          "output_type": "execute_result",
          "data": {
            "text/plain": [
              "<module 'matplotlib.pyplot' from '/usr/local/lib/python3.7/dist-packages/matplotlib/pyplot.py'>"
            ]
          },
          "metadata": {
            "tags": []
          },
          "execution_count": 46
        },
        {
          "output_type": "display_data",
          "data": {
            "image/png": "[encoded data removed]",
            "text/plain": [
              "<Figure size 1296x864 with 1 Axes>"
            ]
          },
          "metadata": {
            "tags": [],
            "needs_background": "light"
          }
        }
      ]
    },
    {
      "cell_type": "code",
      "metadata": {
        "id": "TIsygcaw5aU1"
      },
      "source": [
        ""
      ],
      "execution_count": null,
      "outputs": []
    }
  ]
}