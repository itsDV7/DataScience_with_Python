{
  "nbformat": 4,
  "nbformat_minor": 0,
  "metadata": {
    "colab": {
      "name": "Logistic_Regression_Assignment12.ipynb",
      "provenance": [],
      "include_colab_link": true
    },
    "kernelspec": {
      "name": "python3",
      "display_name": "Python 3"
    },
    "language_info": {
      "name": "python"
    }
  },
  "cells": [
    {
      "cell_type": "markdown",
      "metadata": {
        "id": "view-in-github",
        "colab_type": "text"
      },
      "source": [
        "<a href=\"https://colab.research.google.com/github/itsDV7/DataScience_with_Python/blob/main/Logistic_Regression_Assignment12.ipynb\" target=\"_parent\"><img src=\"https://colab.research.google.com/assets/colab-badge.svg\" alt=\"Open In Colab\"/></a>"
      ]
    },
    {
      "cell_type": "code",
      "metadata": {
        "id": "xugUQsM_jkbL"
      },
      "source": [
        "# Social_Network_Ads.csv"
      ],
      "execution_count": null,
      "outputs": []
    },
    {
      "cell_type": "markdown",
      "metadata": {
        "id": "t_YJ-uqLmRuD"
      },
      "source": [
        "This dataset contains information of users in a social network. Those informations are the user id the gender the age and the estimated salary. A car company has just launched their brand new luxury SUV. And we're trying to see which of these users of the social network are going to buy this brand new SUV And the last column here tells If yes or no the user bought this SUV we are going to build a model that is going to predict if a user is going to buy or not the SUV based on two variables which are going to be the age and the estimated salary. So our matrix of feature is only going to be these two columns. We want to find some correlations between the age and the estimated salary of a user and his decision to purchase yes or no the SUV.\n"
      ]
    },
    {
      "cell_type": "markdown",
      "metadata": {
        "id": "sgTgwccsk5Yu"
      },
      "source": [
        "**Step 1 | Data Pre-Processing**"
      ]
    },
    {
      "cell_type": "markdown",
      "metadata": {
        "id": "bKWN0MOblEKa"
      },
      "source": [
        "**Importing the Libraries**"
      ]
    },
    {
      "cell_type": "code",
      "metadata": {
        "id": "8cIjONoJj8u0"
      },
      "source": [
        "import pandas as pd\n",
        "import numpy as np\n",
        "import matplotlib.pyplot as plt\n",
        "from sklearn.preprocessing import LabelEncoder, MinMaxScaler\n",
        "from sklearn.model_selection import train_test_split\n",
        "from sklearn.linear_model import LogisticRegression\n",
        "from sklearn.metrics import confusion_matrix\n",
        "import seaborn as sns"
      ],
      "execution_count": 50,
      "outputs": []
    },
    {
      "cell_type": "markdown",
      "metadata": {
        "id": "bM9O8a0YlNWk"
      },
      "source": [
        "**Importing the dataset**"
      ]
    },
    {
      "cell_type": "code",
      "metadata": {
        "id": "vfPLWJHRlM-4"
      },
      "source": [
        "data = pd.read_csv(\"Social_Network_Ads.csv\")\n",
        "df = data.copy()"
      ],
      "execution_count": 4,
      "outputs": []
    },
    {
      "cell_type": "markdown",
      "metadata": {
        "id": "KulopZdFCRD4"
      },
      "source": [
        "**EDA**"
      ]
    },
    {
      "cell_type": "code",
      "metadata": {
        "colab": {
          "base_uri": "https://localhost:8080/",
          "height": 204
        },
        "id": "nqlYz06kCR_s",
        "outputId": "e3c6bd02-1895-401e-ecd3-96d247216635"
      },
      "source": [
        "df.head()"
      ],
      "execution_count": 5,
      "outputs": [
        {
          "output_type": "execute_result",
          "data": {
            "text/html": [
              "<div>\n",
              "<style scoped>\n",
              "    .dataframe tbody tr th:only-of-type {\n",
              "        vertical-align: middle;\n",
              "    }\n",
              "\n",
              "    .dataframe tbody tr th {\n",
              "        vertical-align: top;\n",
              "    }\n",
              "\n",
              "    .dataframe thead th {\n",
              "        text-align: right;\n",
              "    }\n",
              "</style>\n",
              "<table border=\"1\" class=\"dataframe\">\n",
              "  <thead>\n",
              "    <tr style=\"text-align: right;\">\n",
              "      <th></th>\n",
              "      <th>User ID</th>\n",
              "      <th>Gender</th>\n",
              "      <th>Age</th>\n",
              "      <th>EstimatedSalary</th>\n",
              "      <th>Purchased</th>\n",
              "    </tr>\n",
              "  </thead>\n",
              "  <tbody>\n",
              "    <tr>\n",
              "      <th>0</th>\n",
              "      <td>15624510</td>\n",
              "      <td>Male</td>\n",
              "      <td>19</td>\n",
              "      <td>19000</td>\n",
              "      <td>0</td>\n",
              "    </tr>\n",
              "    <tr>\n",
              "      <th>1</th>\n",
              "      <td>15810944</td>\n",
              "      <td>Male</td>\n",
              "      <td>35</td>\n",
              "      <td>20000</td>\n",
              "      <td>0</td>\n",
              "    </tr>\n",
              "    <tr>\n",
              "      <th>2</th>\n",
              "      <td>15668575</td>\n",
              "      <td>Female</td>\n",
              "      <td>26</td>\n",
              "      <td>43000</td>\n",
              "      <td>0</td>\n",
              "    </tr>\n",
              "    <tr>\n",
              "      <th>3</th>\n",
              "      <td>15603246</td>\n",
              "      <td>Female</td>\n",
              "      <td>27</td>\n",
              "      <td>57000</td>\n",
              "      <td>0</td>\n",
              "    </tr>\n",
              "    <tr>\n",
              "      <th>4</th>\n",
              "      <td>15804002</td>\n",
              "      <td>Male</td>\n",
              "      <td>19</td>\n",
              "      <td>76000</td>\n",
              "      <td>0</td>\n",
              "    </tr>\n",
              "  </tbody>\n",
              "</table>\n",
              "</div>"
            ],
            "text/plain": [
              "    User ID  Gender  Age  EstimatedSalary  Purchased\n",
              "0  15624510    Male   19            19000          0\n",
              "1  15810944    Male   35            20000          0\n",
              "2  15668575  Female   26            43000          0\n",
              "3  15603246  Female   27            57000          0\n",
              "4  15804002    Male   19            76000          0"
            ]
          },
          "metadata": {
            "tags": []
          },
          "execution_count": 5
        }
      ]
    },
    {
      "cell_type": "code",
      "metadata": {
        "id": "3bfY4xAFCSB2"
      },
      "source": [
        "df = df.drop('User ID', axis=1)"
      ],
      "execution_count": 6,
      "outputs": []
    },
    {
      "cell_type": "code",
      "metadata": {
        "colab": {
          "base_uri": "https://localhost:8080/",
          "height": 204
        },
        "id": "kQ_PRNXlCSD_",
        "outputId": "59cdb2da-4762-4214-e051-7b2f43b99837"
      },
      "source": [
        "df.head()"
      ],
      "execution_count": 7,
      "outputs": [
        {
          "output_type": "execute_result",
          "data": {
            "text/html": [
              "<div>\n",
              "<style scoped>\n",
              "    .dataframe tbody tr th:only-of-type {\n",
              "        vertical-align: middle;\n",
              "    }\n",
              "\n",
              "    .dataframe tbody tr th {\n",
              "        vertical-align: top;\n",
              "    }\n",
              "\n",
              "    .dataframe thead th {\n",
              "        text-align: right;\n",
              "    }\n",
              "</style>\n",
              "<table border=\"1\" class=\"dataframe\">\n",
              "  <thead>\n",
              "    <tr style=\"text-align: right;\">\n",
              "      <th></th>\n",
              "      <th>Gender</th>\n",
              "      <th>Age</th>\n",
              "      <th>EstimatedSalary</th>\n",
              "      <th>Purchased</th>\n",
              "    </tr>\n",
              "  </thead>\n",
              "  <tbody>\n",
              "    <tr>\n",
              "      <th>0</th>\n",
              "      <td>Male</td>\n",
              "      <td>19</td>\n",
              "      <td>19000</td>\n",
              "      <td>0</td>\n",
              "    </tr>\n",
              "    <tr>\n",
              "      <th>1</th>\n",
              "      <td>Male</td>\n",
              "      <td>35</td>\n",
              "      <td>20000</td>\n",
              "      <td>0</td>\n",
              "    </tr>\n",
              "    <tr>\n",
              "      <th>2</th>\n",
              "      <td>Female</td>\n",
              "      <td>26</td>\n",
              "      <td>43000</td>\n",
              "      <td>0</td>\n",
              "    </tr>\n",
              "    <tr>\n",
              "      <th>3</th>\n",
              "      <td>Female</td>\n",
              "      <td>27</td>\n",
              "      <td>57000</td>\n",
              "      <td>0</td>\n",
              "    </tr>\n",
              "    <tr>\n",
              "      <th>4</th>\n",
              "      <td>Male</td>\n",
              "      <td>19</td>\n",
              "      <td>76000</td>\n",
              "      <td>0</td>\n",
              "    </tr>\n",
              "  </tbody>\n",
              "</table>\n",
              "</div>"
            ],
            "text/plain": [
              "   Gender  Age  EstimatedSalary  Purchased\n",
              "0    Male   19            19000          0\n",
              "1    Male   35            20000          0\n",
              "2  Female   26            43000          0\n",
              "3  Female   27            57000          0\n",
              "4    Male   19            76000          0"
            ]
          },
          "metadata": {
            "tags": []
          },
          "execution_count": 7
        }
      ]
    },
    {
      "cell_type": "markdown",
      "metadata": {
        "id": "6XxZrxtkCiZb"
      },
      "source": [
        "**Encoding**"
      ]
    },
    {
      "cell_type": "code",
      "metadata": {
        "id": "1ySVCnJNCigr"
      },
      "source": [
        "LE = LabelEncoder()"
      ],
      "execution_count": 8,
      "outputs": []
    },
    {
      "cell_type": "code",
      "metadata": {
        "id": "UXDMjTDXECMM"
      },
      "source": [
        "df['Gender'] = LE.fit_transform(df.Gender)"
      ],
      "execution_count": 9,
      "outputs": []
    },
    {
      "cell_type": "code",
      "metadata": {
        "colab": {
          "base_uri": "https://localhost:8080/",
          "height": 204
        },
        "id": "GB8c10SmECOO",
        "outputId": "066513ce-39f1-4659-bf38-7f78acc9923a"
      },
      "source": [
        "df.head()"
      ],
      "execution_count": 10,
      "outputs": [
        {
          "output_type": "execute_result",
          "data": {
            "text/html": [
              "<div>\n",
              "<style scoped>\n",
              "    .dataframe tbody tr th:only-of-type {\n",
              "        vertical-align: middle;\n",
              "    }\n",
              "\n",
              "    .dataframe tbody tr th {\n",
              "        vertical-align: top;\n",
              "    }\n",
              "\n",
              "    .dataframe thead th {\n",
              "        text-align: right;\n",
              "    }\n",
              "</style>\n",
              "<table border=\"1\" class=\"dataframe\">\n",
              "  <thead>\n",
              "    <tr style=\"text-align: right;\">\n",
              "      <th></th>\n",
              "      <th>Gender</th>\n",
              "      <th>Age</th>\n",
              "      <th>EstimatedSalary</th>\n",
              "      <th>Purchased</th>\n",
              "    </tr>\n",
              "  </thead>\n",
              "  <tbody>\n",
              "    <tr>\n",
              "      <th>0</th>\n",
              "      <td>1</td>\n",
              "      <td>19</td>\n",
              "      <td>19000</td>\n",
              "      <td>0</td>\n",
              "    </tr>\n",
              "    <tr>\n",
              "      <th>1</th>\n",
              "      <td>1</td>\n",
              "      <td>35</td>\n",
              "      <td>20000</td>\n",
              "      <td>0</td>\n",
              "    </tr>\n",
              "    <tr>\n",
              "      <th>2</th>\n",
              "      <td>0</td>\n",
              "      <td>26</td>\n",
              "      <td>43000</td>\n",
              "      <td>0</td>\n",
              "    </tr>\n",
              "    <tr>\n",
              "      <th>3</th>\n",
              "      <td>0</td>\n",
              "      <td>27</td>\n",
              "      <td>57000</td>\n",
              "      <td>0</td>\n",
              "    </tr>\n",
              "    <tr>\n",
              "      <th>4</th>\n",
              "      <td>1</td>\n",
              "      <td>19</td>\n",
              "      <td>76000</td>\n",
              "      <td>0</td>\n",
              "    </tr>\n",
              "  </tbody>\n",
              "</table>\n",
              "</div>"
            ],
            "text/plain": [
              "   Gender  Age  EstimatedSalary  Purchased\n",
              "0       1   19            19000          0\n",
              "1       1   35            20000          0\n",
              "2       0   26            43000          0\n",
              "3       0   27            57000          0\n",
              "4       1   19            76000          0"
            ]
          },
          "metadata": {
            "tags": []
          },
          "execution_count": 10
        }
      ]
    },
    {
      "cell_type": "markdown",
      "metadata": {
        "id": "eHCKYPHylT5K"
      },
      "source": [
        "**Splitting the dataset into the Training set and Test set**"
      ]
    },
    {
      "cell_type": "code",
      "metadata": {
        "colab": {
          "base_uri": "https://localhost:8080/",
          "height": 419
        },
        "id": "_GHVGupEEUeV",
        "outputId": "4d9a117b-0b0c-4787-c071-39d1e1f068a3"
      },
      "source": [
        "X = df.iloc[:,:-1]\n",
        "X"
      ],
      "execution_count": 11,
      "outputs": [
        {
          "output_type": "execute_result",
          "data": {
            "text/html": [
              "<div>\n",
              "<style scoped>\n",
              "    .dataframe tbody tr th:only-of-type {\n",
              "        vertical-align: middle;\n",
              "    }\n",
              "\n",
              "    .dataframe tbody tr th {\n",
              "        vertical-align: top;\n",
              "    }\n",
              "\n",
              "    .dataframe thead th {\n",
              "        text-align: right;\n",
              "    }\n",
              "</style>\n",
              "<table border=\"1\" class=\"dataframe\">\n",
              "  <thead>\n",
              "    <tr style=\"text-align: right;\">\n",
              "      <th></th>\n",
              "      <th>Gender</th>\n",
              "      <th>Age</th>\n",
              "      <th>EstimatedSalary</th>\n",
              "    </tr>\n",
              "  </thead>\n",
              "  <tbody>\n",
              "    <tr>\n",
              "      <th>0</th>\n",
              "      <td>1</td>\n",
              "      <td>19</td>\n",
              "      <td>19000</td>\n",
              "    </tr>\n",
              "    <tr>\n",
              "      <th>1</th>\n",
              "      <td>1</td>\n",
              "      <td>35</td>\n",
              "      <td>20000</td>\n",
              "    </tr>\n",
              "    <tr>\n",
              "      <th>2</th>\n",
              "      <td>0</td>\n",
              "      <td>26</td>\n",
              "      <td>43000</td>\n",
              "    </tr>\n",
              "    <tr>\n",
              "      <th>3</th>\n",
              "      <td>0</td>\n",
              "      <td>27</td>\n",
              "      <td>57000</td>\n",
              "    </tr>\n",
              "    <tr>\n",
              "      <th>4</th>\n",
              "      <td>1</td>\n",
              "      <td>19</td>\n",
              "      <td>76000</td>\n",
              "    </tr>\n",
              "    <tr>\n",
              "      <th>...</th>\n",
              "      <td>...</td>\n",
              "      <td>...</td>\n",
              "      <td>...</td>\n",
              "    </tr>\n",
              "    <tr>\n",
              "      <th>395</th>\n",
              "      <td>0</td>\n",
              "      <td>46</td>\n",
              "      <td>41000</td>\n",
              "    </tr>\n",
              "    <tr>\n",
              "      <th>396</th>\n",
              "      <td>1</td>\n",
              "      <td>51</td>\n",
              "      <td>23000</td>\n",
              "    </tr>\n",
              "    <tr>\n",
              "      <th>397</th>\n",
              "      <td>0</td>\n",
              "      <td>50</td>\n",
              "      <td>20000</td>\n",
              "    </tr>\n",
              "    <tr>\n",
              "      <th>398</th>\n",
              "      <td>1</td>\n",
              "      <td>36</td>\n",
              "      <td>33000</td>\n",
              "    </tr>\n",
              "    <tr>\n",
              "      <th>399</th>\n",
              "      <td>0</td>\n",
              "      <td>49</td>\n",
              "      <td>36000</td>\n",
              "    </tr>\n",
              "  </tbody>\n",
              "</table>\n",
              "<p>400 rows × 3 columns</p>\n",
              "</div>"
            ],
            "text/plain": [
              "     Gender  Age  EstimatedSalary\n",
              "0         1   19            19000\n",
              "1         1   35            20000\n",
              "2         0   26            43000\n",
              "3         0   27            57000\n",
              "4         1   19            76000\n",
              "..      ...  ...              ...\n",
              "395       0   46            41000\n",
              "396       1   51            23000\n",
              "397       0   50            20000\n",
              "398       1   36            33000\n",
              "399       0   49            36000\n",
              "\n",
              "[400 rows x 3 columns]"
            ]
          },
          "metadata": {
            "tags": []
          },
          "execution_count": 11
        }
      ]
    },
    {
      "cell_type": "code",
      "metadata": {
        "colab": {
          "base_uri": "https://localhost:8080/"
        },
        "id": "fp6cyVFpEUkR",
        "outputId": "75cb3a6e-e134-4c30-c16a-abf2c3f6774c"
      },
      "source": [
        "y = df.iloc[:, -1]\n",
        "y"
      ],
      "execution_count": 12,
      "outputs": [
        {
          "output_type": "execute_result",
          "data": {
            "text/plain": [
              "0      0\n",
              "1      0\n",
              "2      0\n",
              "3      0\n",
              "4      0\n",
              "      ..\n",
              "395    1\n",
              "396    1\n",
              "397    1\n",
              "398    0\n",
              "399    1\n",
              "Name: Purchased, Length: 400, dtype: int64"
            ]
          },
          "metadata": {
            "tags": []
          },
          "execution_count": 12
        }
      ]
    },
    {
      "cell_type": "code",
      "metadata": {
        "id": "o9msgi0sj72h",
        "colab": {
          "base_uri": "https://localhost:8080/"
        },
        "outputId": "110e6187-54f9-477f-f373-f7a9a5519dea"
      },
      "source": [
        "X_train, X_test, y_train, y_test = train_test_split(X, y, test_size = 0.20, random_state=1)\n",
        "print(f'X Train:\\n{X_train}\\n')\n",
        "print(f'X Test:\\n{X_test}\\n')\n",
        "print(f'Y Train:\\n{y_train}\\n')\n",
        "print(f'Y Test:\\n{y_test}\\n')"
      ],
      "execution_count": 77,
      "outputs": [
        {
          "output_type": "stream",
          "text": [
            "X Train:\n",
            "     Gender  Age  EstimatedSalary\n",
            "93        0   29            28000\n",
            "23        0   45            22000\n",
            "299       1   46           117000\n",
            "13        1   32            18000\n",
            "90        1   22            81000\n",
            "..      ...  ...              ...\n",
            "255       0   52            90000\n",
            "72        0   20            23000\n",
            "396       1   51            23000\n",
            "235       1   46            79000\n",
            "37        1   30            49000\n",
            "\n",
            "[320 rows x 3 columns]\n",
            "\n",
            "X Test:\n",
            "     Gender  Age  EstimatedSalary\n",
            "398       1   36            33000\n",
            "125       0   39            61000\n",
            "328       1   36           118000\n",
            "339       1   39           122000\n",
            "172       0   26           118000\n",
            "..      ...  ...              ...\n",
            "347       0   54           108000\n",
            "41        0   33            51000\n",
            "180       1   26            16000\n",
            "132       1   30            87000\n",
            "224       0   35            60000\n",
            "\n",
            "[80 rows x 3 columns]\n",
            "\n",
            "Y Train:\n",
            "93     0\n",
            "23     1\n",
            "299    1\n",
            "13     0\n",
            "90     0\n",
            "      ..\n",
            "255    1\n",
            "72     0\n",
            "396    1\n",
            "235    1\n",
            "37     0\n",
            "Name: Purchased, Length: 320, dtype: int64\n",
            "\n",
            "Y Test:\n",
            "398    0\n",
            "125    0\n",
            "328    1\n",
            "339    1\n",
            "172    0\n",
            "      ..\n",
            "347    1\n",
            "41     0\n",
            "180    0\n",
            "132    0\n",
            "224    0\n",
            "Name: Purchased, Length: 80, dtype: int64\n",
            "\n"
          ],
          "name": "stdout"
        }
      ]
    },
    {
      "cell_type": "markdown",
      "metadata": {
        "id": "AsfmGeH6lZ0O"
      },
      "source": [
        "**Feature Scaling**"
      ]
    },
    {
      "cell_type": "code",
      "metadata": {
        "id": "Xfifr6tlj77A"
      },
      "source": [
        "scaler = MinMaxScaler()"
      ],
      "execution_count": 78,
      "outputs": []
    },
    {
      "cell_type": "code",
      "metadata": {
        "colab": {
          "base_uri": "https://localhost:8080/"
        },
        "id": "V8D6K2JpFG3B",
        "outputId": "133deece-0ca6-4c91-c3a4-4c9036d9f7c0"
      },
      "source": [
        "scaler.fit(X_train)"
      ],
      "execution_count": 79,
      "outputs": [
        {
          "output_type": "execute_result",
          "data": {
            "text/plain": [
              "MinMaxScaler(copy=True, feature_range=(0, 1))"
            ]
          },
          "metadata": {
            "tags": []
          },
          "execution_count": 79
        }
      ]
    },
    {
      "cell_type": "code",
      "metadata": {
        "colab": {
          "base_uri": "https://localhost:8080/"
        },
        "id": "yURk6zp7GX3Y",
        "outputId": "ad6fe1d2-21e6-4262-a97f-42d0003eb65f"
      },
      "source": [
        "X_train = scaler.transform(X_train)\n",
        "X_train"
      ],
      "execution_count": 80,
      "outputs": [
        {
          "output_type": "execute_result",
          "data": {
            "text/plain": [
              "array([[0.        , 0.26190476, 0.0962963 ],\n",
              "       [0.        , 0.64285714, 0.05185185],\n",
              "       [1.        , 0.66666667, 0.75555556],\n",
              "       [1.        , 0.33333333, 0.02222222],\n",
              "       [1.        , 0.0952381 , 0.48888889],\n",
              "       [1.        , 0.16666667, 0.53333333],\n",
              "       [1.        , 0.71428571, 0.13333333],\n",
              "       [1.        , 0.4047619 , 0.31851852],\n",
              "       [1.        , 0.69047619, 0.05925926],\n",
              "       [1.        , 0.19047619, 0.12592593],\n",
              "       [0.        , 0.33333333, 0.88888889],\n",
              "       [1.        , 1.        , 0.14074074],\n",
              "       [0.        , 0.80952381, 0.04444444],\n",
              "       [0.        , 0.47619048, 0.2962963 ],\n",
              "       [1.        , 0.16666667, 0.55555556],\n",
              "       [0.        , 0.95238095, 0.17037037],\n",
              "       [1.        , 0.73809524, 0.54074074],\n",
              "       [0.        , 0.45238095, 0.46666667],\n",
              "       [0.        , 0.4047619 , 0.45925926],\n",
              "       [0.        , 0.38095238, 0.20740741],\n",
              "       [1.        , 0.04761905, 0.25185185],\n",
              "       [1.        , 0.66666667, 0.54074074],\n",
              "       [0.        , 0.30952381, 0.14074074],\n",
              "       [0.        , 0.69047619, 0.11111111],\n",
              "       [1.        , 0.4047619 , 0.25925926],\n",
              "       [1.        , 0.5       , 0.6       ],\n",
              "       [0.        , 0.35714286, 0.72592593],\n",
              "       [1.        , 0.73809524, 0.52592593],\n",
              "       [1.        , 0.64285714, 0.47407407],\n",
              "       [0.        , 0.61904762, 0.17777778],\n",
              "       [1.        , 0.54761905, 0.32592593],\n",
              "       [0.        , 0.57142857, 0.28148148],\n",
              "       [1.        , 0.4047619 , 0.42962963],\n",
              "       [0.        , 0.54761905, 0.42222222],\n",
              "       [0.        , 0.21428571, 0.6       ],\n",
              "       [0.        , 0.28571429, 0.74814815],\n",
              "       [1.        , 0.54761905, 0.27407407],\n",
              "       [1.        , 0.54761905, 0.27407407],\n",
              "       [0.        , 0.04761905, 0.4962963 ],\n",
              "       [0.        , 0.66666667, 0.19259259],\n",
              "       [0.        , 0.21428571, 0.11851852],\n",
              "       [0.        , 0.4047619 , 0.41481481],\n",
              "       [1.        , 0.73809524, 0.0962963 ],\n",
              "       [1.        , 0.4047619 , 0.56296296],\n",
              "       [1.        , 0.45238095, 0.44444444],\n",
              "       [0.        , 0.33333333, 0.75555556],\n",
              "       [0.        , 0.42857143, 0.44444444],\n",
              "       [1.        , 0.04761905, 0.52592593],\n",
              "       [0.        , 0.47619048, 0.25925926],\n",
              "       [0.        , 0.73809524, 0.15555556],\n",
              "       [1.        , 0.52380952, 0.37037037],\n",
              "       [1.        , 0.45238095, 0.45925926],\n",
              "       [0.        , 1.        , 0.22962963],\n",
              "       [0.        , 0.71428571, 0.91111111],\n",
              "       [1.        , 0.52380952, 0.41481481],\n",
              "       [0.        , 0.42857143, 0.35555556],\n",
              "       [1.        , 0.19047619, 0.48888889],\n",
              "       [1.        , 0.35714286, 0.11851852],\n",
              "       [0.        , 0.54761905, 0.26666667],\n",
              "       [0.        , 0.66666667, 0.43703704],\n",
              "       [1.        , 0.        , 0.4962963 ],\n",
              "       [0.        , 0.45238095, 0.13333333],\n",
              "       [1.        , 0.4047619 , 0.28148148],\n",
              "       [0.        , 0.23809524, 0.32592593],\n",
              "       [0.        , 0.45238095, 0.41481481],\n",
              "       [0.        , 0.        , 0.21481481],\n",
              "       [1.        , 0.47619048, 0.34074074],\n",
              "       [0.        , 0.4047619 , 0.37037037],\n",
              "       [1.        , 0.30952381, 0.37777778],\n",
              "       [1.        , 0.69047619, 0.07407407],\n",
              "       [1.        , 0.57142857, 0.65925926],\n",
              "       [1.        , 0.02380952, 0.02962963],\n",
              "       [1.        , 0.07142857, 0.42222222],\n",
              "       [1.        , 0.23809524, 0.12592593],\n",
              "       [1.        , 0.80952381, 1.        ],\n",
              "       [0.        , 0.83333333, 0.65925926],\n",
              "       [1.        , 0.16666667, 0.48148148],\n",
              "       [0.        , 0.19047619, 0.42222222],\n",
              "       [0.        , 0.19047619, 0.        ],\n",
              "       [0.        , 0.52380952, 0.94074074],\n",
              "       [1.        , 0.4047619 , 0.17037037],\n",
              "       [0.        , 0.92857143, 0.79259259],\n",
              "       [1.        , 0.54761905, 0.53333333],\n",
              "       [0.        , 0.14285714, 0.54814815],\n",
              "       [1.        , 0.45238095, 0.27407407],\n",
              "       [1.        , 0.4047619 , 0.68888889],\n",
              "       [1.        , 0.33333333, 0.62962963],\n",
              "       [0.        , 0.4047619 , 0.97777778],\n",
              "       [0.        , 0.02380952, 0.08148148],\n",
              "       [0.        , 0.66666667, 0.4962963 ],\n",
              "       [1.        , 0.69047619, 0.66666667],\n",
              "       [0.        , 0.64285714, 0.22222222],\n",
              "       [1.        , 0.47619048, 0.26666667],\n",
              "       [0.        , 0.45238095, 0.57777778],\n",
              "       [1.        , 0.26190476, 0.20740741],\n",
              "       [0.        , 0.54761905, 0.11111111],\n",
              "       [0.        , 0.52380952, 0.33333333],\n",
              "       [1.        , 0.21428571, 0.54074074],\n",
              "       [1.        , 0.21428571, 0.55555556],\n",
              "       [0.        , 0.5       , 0.41481481],\n",
              "       [0.        , 0.11904762, 0.0962963 ],\n",
              "       [0.        , 0.78571429, 0.97037037],\n",
              "       [1.        , 0.11904762, 0.35555556],\n",
              "       [0.        , 0.45238095, 0.48148148],\n",
              "       [1.        , 0.52380952, 0.23703704],\n",
              "       [0.        , 0.71428571, 0.1037037 ],\n",
              "       [1.        , 0.4047619 , 0.32592593],\n",
              "       [1.        , 0.19047619, 0.11111111],\n",
              "       [1.        , 0.5       , 0.67407407],\n",
              "       [0.        , 0.23809524, 0.51111111],\n",
              "       [0.        , 0.97619048, 0.45185185],\n",
              "       [1.        , 0.52380952, 0.31111111],\n",
              "       [0.        , 0.4047619 , 0.60740741],\n",
              "       [1.        , 0.19047619, 0.52592593],\n",
              "       [0.        , 0.54761905, 0.35555556],\n",
              "       [0.        , 0.26190476, 0.23703704],\n",
              "       [0.        , 0.19047619, 0.01481481],\n",
              "       [0.        , 0.95238095, 0.05925926],\n",
              "       [0.        , 0.28571429, 0.34814815],\n",
              "       [1.        , 0.16666667, 0.13333333],\n",
              "       [0.        , 0.97619048, 0.1037037 ],\n",
              "       [0.        , 0.23809524, 0.16296296],\n",
              "       [1.        , 0.5       , 0.45925926],\n",
              "       [0.        , 0.69047619, 0.68148148],\n",
              "       [0.        , 0.80952381, 0.91111111],\n",
              "       [1.        , 0.26190476, 0.20740741],\n",
              "       [0.        , 0.21428571, 0.9037037 ],\n",
              "       [0.        , 0.14285714, 0.2962963 ],\n",
              "       [0.        , 0.52380952, 0.42222222],\n",
              "       [0.        , 0.07142857, 0.00740741],\n",
              "       [0.        , 0.92857143, 0.08148148],\n",
              "       [1.        , 0.28571429, 0.88888889],\n",
              "       [0.        , 0.71428571, 0.77037037],\n",
              "       [1.        , 0.52380952, 0.31111111],\n",
              "       [1.        , 0.4047619 , 0.44444444],\n",
              "       [0.        , 0.23809524, 0.21481481],\n",
              "       [1.        , 0.45238095, 0.43703704],\n",
              "       [1.        , 0.4047619 , 0.08888889],\n",
              "       [1.        , 0.45238095, 0.47407407],\n",
              "       [1.        , 0.33333333, 0.77777778],\n",
              "       [1.        , 0.26190476, 0.44444444],\n",
              "       [1.        , 0.28571429, 0.01481481],\n",
              "       [1.        , 0.16666667, 0.47407407],\n",
              "       [1.        , 0.52380952, 0.68148148],\n",
              "       [1.        , 0.14285714, 0.02962963],\n",
              "       [0.        , 0.54761905, 0.42222222],\n",
              "       [1.        , 0.47619048, 0.34074074],\n",
              "       [1.        , 0.42857143, 0.95555556],\n",
              "       [1.        , 0.57142857, 0.36296296],\n",
              "       [1.        , 0.71428571, 0.13333333],\n",
              "       [0.        , 0.71428571, 0.11111111],\n",
              "       [1.        , 0.11904762, 0.03703704],\n",
              "       [0.        , 0.88095238, 0.85185185],\n",
              "       [1.        , 0.26190476, 0.98518519],\n",
              "       [1.        , 0.57142857, 0.37037037],\n",
              "       [0.        , 0.21428571, 0.28888889],\n",
              "       [1.        , 0.45238095, 0.2962963 ],\n",
              "       [1.        , 0.16666667, 0.05185185],\n",
              "       [1.        , 0.97619048, 0.94814815],\n",
              "       [1.        , 0.57142857, 0.28888889],\n",
              "       [0.        , 0.21428571, 0.01481481],\n",
              "       [0.        , 0.69047619, 0.25185185],\n",
              "       [1.        , 0.23809524, 0.32592593],\n",
              "       [0.        , 0.35714286, 0.4       ],\n",
              "       [0.        , 0.30952381, 0.39259259],\n",
              "       [0.        , 0.4047619 , 0.05925926],\n",
              "       [1.        , 0.4047619 , 0.05185185],\n",
              "       [0.        , 0.92857143, 0.13333333],\n",
              "       [1.        , 0.28571429, 0.68148148],\n",
              "       [1.        , 0.66666667, 0.05925926],\n",
              "       [0.        , 0.54761905, 0.33333333],\n",
              "       [0.        , 0.35714286, 0.19259259],\n",
              "       [0.        , 0.35714286, 0.33333333],\n",
              "       [0.        , 0.69047619, 0.23703704],\n",
              "       [0.        , 0.23809524, 0.2962963 ],\n",
              "       [1.        , 0.64285714, 0.12592593],\n",
              "       [1.        , 0.4047619 , 0.44444444],\n",
              "       [0.        , 0.97619048, 0.2       ],\n",
              "       [0.        , 0.69047619, 0.25925926],\n",
              "       [0.        , 0.69047619, 0.26666667],\n",
              "       [1.        , 0.4047619 , 0.47407407],\n",
              "       [1.        , 0.5       , 0.2       ],\n",
              "       [1.        , 0.52380952, 0.46666667],\n",
              "       [0.        , 0.11904762, 0.24444444],\n",
              "       [0.        , 0.5       , 0.44444444],\n",
              "       [0.        , 0.4047619 , 0.31111111],\n",
              "       [1.        , 0.88095238, 0.17777778],\n",
              "       [0.        , 0.30952381, 0.41481481],\n",
              "       [1.        , 0.23809524, 0.8       ],\n",
              "       [1.        , 0.57142857, 0.48148148],\n",
              "       [1.        , 0.52380952, 0.32592593],\n",
              "       [1.        , 0.71428571, 0.43703704],\n",
              "       [1.        , 0.07142857, 0.54074074],\n",
              "       [1.        , 0.83333333, 0.42222222],\n",
              "       [0.        , 0.21428571, 0.31851852],\n",
              "       [0.        , 0.4047619 , 0.23703704],\n",
              "       [1.        , 0.23809524, 0.54814815],\n",
              "       [1.        , 0.19047619, 0.48148148],\n",
              "       [0.        , 0.33333333, 0.75555556],\n",
              "       [0.        , 0.57142857, 0.44444444],\n",
              "       [0.        , 0.35714286, 0.99259259],\n",
              "       [0.        , 0.54761905, 0.48148148],\n",
              "       [1.        , 0.30952381, 0.31851852],\n",
              "       [1.        , 0.5       , 0.88148148],\n",
              "       [1.        , 0.21428571, 0.03703704],\n",
              "       [0.        , 0.26190476, 0.5037037 ],\n",
              "       [1.        , 0.02380952, 0.40740741],\n",
              "       [1.        , 0.02380952, 0.51851852],\n",
              "       [1.        , 0.26190476, 0.34074074],\n",
              "       [0.        , 0.5       , 0.88148148],\n",
              "       [1.        , 0.30952381, 0.45185185],\n",
              "       [1.        , 0.54761905, 0.42222222],\n",
              "       [0.        , 0.19047619, 0.48148148],\n",
              "       [1.        , 0.52380952, 0.34074074],\n",
              "       [0.        , 0.4047619 , 0.07407407],\n",
              "       [0.        , 0.71428571, 0.6       ],\n",
              "       [1.        , 0.57142857, 0.99259259],\n",
              "       [1.        , 0.23809524, 0.47407407],\n",
              "       [0.        , 0.78571429, 0.88148148],\n",
              "       [0.        , 0.35714286, 0.0962963 ],\n",
              "       [1.        , 0.57142857, 0.28888889],\n",
              "       [1.        , 0.64285714, 0.05185185],\n",
              "       [0.        , 0.45238095, 0.31111111],\n",
              "       [1.        , 0.38095238, 0.71851852],\n",
              "       [1.        , 0.4047619 , 0.17777778],\n",
              "       [0.        , 0.0952381 , 0.08888889],\n",
              "       [0.        , 0.4047619 , 0.42222222],\n",
              "       [0.        , 0.5       , 0.32592593],\n",
              "       [1.        , 0.04761905, 0.43703704],\n",
              "       [0.        , 0.66666667, 0.12592593],\n",
              "       [0.        , 0.19047619, 0.20740741],\n",
              "       [0.        , 0.26190476, 0.5037037 ],\n",
              "       [0.        , 0.88095238, 0.81481481],\n",
              "       [0.        , 0.45238095, 0.97037037],\n",
              "       [0.        , 0.64285714, 0.85925926],\n",
              "       [1.        , 0.35714286, 0.20740741],\n",
              "       [1.        , 0.54761905, 0.22222222],\n",
              "       [0.        , 0.57142857, 0.47407407],\n",
              "       [0.        , 0.45238095, 0.9037037 ],\n",
              "       [1.        , 0.14285714, 0.51111111],\n",
              "       [1.        , 0.33333333, 0.02222222],\n",
              "       [0.        , 0.9047619 , 0.65925926],\n",
              "       [0.        , 0.73809524, 0.17777778],\n",
              "       [0.        , 0.23809524, 0.51851852],\n",
              "       [0.        , 0.83333333, 0.94814815],\n",
              "       [1.        , 0.28571429, 0.54814815],\n",
              "       [1.        , 0.92857143, 0.33333333],\n",
              "       [1.        , 0.52380952, 0.44444444],\n",
              "       [1.        , 0.54761905, 0.47407407],\n",
              "       [0.        , 0.04761905, 0.4962963 ],\n",
              "       [0.        , 0.0952381 , 0.2962963 ],\n",
              "       [1.        , 0.4047619 , 0.54074074],\n",
              "       [1.        , 0.85714286, 0.40740741],\n",
              "       [0.        , 0.30952381, 0.        ],\n",
              "       [0.        , 0.76190476, 0.15555556],\n",
              "       [1.        , 0.57142857, 0.37037037],\n",
              "       [1.        , 0.38095238, 0.20740741],\n",
              "       [0.        , 0.57142857, 0.68888889],\n",
              "       [0.        , 0.85714286, 0.08148148],\n",
              "       [0.        , 0.02380952, 0.04444444],\n",
              "       [0.        , 0.42857143, 0.25925926],\n",
              "       [1.        , 0.45238095, 0.40740741],\n",
              "       [0.        , 0.42857143, 0.82222222],\n",
              "       [1.        , 0.69047619, 0.03703704],\n",
              "       [0.        , 0.28571429, 0.47407407],\n",
              "       [0.        , 0.97619048, 0.5037037 ],\n",
              "       [1.        , 0.26190476, 0.48148148],\n",
              "       [0.        , 0.5952381 , 0.71851852],\n",
              "       [0.        , 0.47619048, 0.48148148],\n",
              "       [1.        , 0.95238095, 0.95555556],\n",
              "       [1.        , 0.42857143, 0.81481481],\n",
              "       [1.        , 0.73809524, 0.0962963 ],\n",
              "       [1.        , 0.        , 0.27407407],\n",
              "       [1.        , 0.28571429, 0.        ],\n",
              "       [0.        , 0.97619048, 0.54074074],\n",
              "       [0.        , 0.21428571, 0.31111111],\n",
              "       [1.        , 0.47619048, 0.41481481],\n",
              "       [0.        , 0.30952381, 0.54814815],\n",
              "       [1.        , 0.69047619, 0.14074074],\n",
              "       [1.        , 0.30952381, 0.43703704],\n",
              "       [1.        , 0.45238095, 0.42222222],\n",
              "       [1.        , 0.52380952, 0.31111111],\n",
              "       [1.        , 0.97619048, 0.85185185],\n",
              "       [1.        , 0.73809524, 0.37037037],\n",
              "       [1.        , 0.71428571, 0.55555556],\n",
              "       [0.        , 0.66666667, 0.05185185],\n",
              "       [0.        , 0.85714286, 0.65925926],\n",
              "       [1.        , 0.4047619 , 0.03703704],\n",
              "       [0.        , 0.73809524, 0.93333333],\n",
              "       [1.        , 0.71428571, 0.19259259],\n",
              "       [1.        , 0.4047619 , 0.2962963 ],\n",
              "       [1.        , 0.42857143, 0.33333333],\n",
              "       [0.        , 0.33333333, 1.        ],\n",
              "       [0.        , 0.        , 0.39259259],\n",
              "       [1.        , 0.14285714, 0.2962963 ],\n",
              "       [0.        , 0.57142857, 0.55555556],\n",
              "       [1.        , 0.47619048, 0.32592593],\n",
              "       [0.        , 1.        , 0.68888889],\n",
              "       [0.        , 0.0952381 , 0.35555556],\n",
              "       [0.        , 0.14285714, 0.12592593],\n",
              "       [1.        , 0.66666667, 0.32592593],\n",
              "       [0.        , 0.71428571, 0.88148148],\n",
              "       [0.        , 0.54761905, 0.42222222],\n",
              "       [0.        , 0.76190476, 0.21481481],\n",
              "       [1.        , 0.47619048, 0.41481481],\n",
              "       [1.        , 0.14285714, 0.05925926],\n",
              "       [1.        , 0.4047619 , 0.34074074],\n",
              "       [0.        , 0.45238095, 0.48148148],\n",
              "       [0.        , 0.14285714, 0.08888889],\n",
              "       [0.        , 0.19047619, 0.51111111],\n",
              "       [0.        , 0.38095238, 0.07407407],\n",
              "       [0.        , 0.42857143, 0.28888889],\n",
              "       [0.        , 0.07142857, 0.39259259],\n",
              "       [0.        , 0.54761905, 0.41481481],\n",
              "       [1.        , 1.        , 0.2       ],\n",
              "       [0.        , 0.80952381, 0.55555556],\n",
              "       [0.        , 0.04761905, 0.05925926],\n",
              "       [1.        , 0.78571429, 0.05925926],\n",
              "       [1.        , 0.66666667, 0.47407407],\n",
              "       [1.        , 0.28571429, 0.25185185]])"
            ]
          },
          "metadata": {
            "tags": []
          },
          "execution_count": 80
        }
      ]
    },
    {
      "cell_type": "code",
      "metadata": {
        "colab": {
          "base_uri": "https://localhost:8080/"
        },
        "id": "qa0HeFxjFG5E",
        "outputId": "fdf2eaaa-2343-4b0b-8355-c64e99f4df27"
      },
      "source": [
        "X_test = scaler.transform(X_test)\n",
        "X_test"
      ],
      "execution_count": 81,
      "outputs": [
        {
          "output_type": "execute_result",
          "data": {
            "text/plain": [
              "array([[1.        , 0.42857143, 0.13333333],\n",
              "       [0.        , 0.5       , 0.34074074],\n",
              "       [1.        , 0.42857143, 0.76296296],\n",
              "       [1.        , 0.5       , 0.79259259],\n",
              "       [0.        , 0.19047619, 0.76296296],\n",
              "       [0.        , 0.47619048, 0.37037037],\n",
              "       [0.        , 0.04761905, 0.15555556],\n",
              "       [1.        , 0.73809524, 0.54814815],\n",
              "       [1.        , 0.30952381, 0.02222222],\n",
              "       [1.        , 0.71428571, 0.93333333],\n",
              "       [0.        , 0.38095238, 0.42222222],\n",
              "       [0.        , 0.5       , 0.42962963],\n",
              "       [1.        , 0.4047619 , 0.42222222],\n",
              "       [0.        , 0.71428571, 0.85925926],\n",
              "       [0.        , 0.83333333, 0.4962963 ],\n",
              "       [1.        , 0.9047619 , 0.87407407],\n",
              "       [1.        , 1.        , 0.5037037 ],\n",
              "       [1.        , 0.21428571, 0.31851852],\n",
              "       [0.        , 0.23809524, 0.53333333],\n",
              "       [1.        , 1.        , 0.64444444],\n",
              "       [0.        , 0.52380952, 0.44444444],\n",
              "       [0.        , 0.76190476, 0.54074074],\n",
              "       [0.        , 0.61904762, 0.91851852],\n",
              "       [1.        , 0.69047619, 0.20740741],\n",
              "       [1.        , 0.64285714, 0.08148148],\n",
              "       [1.        , 0.19047619, 0.        ],\n",
              "       [0.        , 0.95238095, 0.23703704],\n",
              "       [1.        , 0.73809524, 0.43703704],\n",
              "       [0.        , 0.83333333, 0.14074074],\n",
              "       [0.        , 0.80952381, 0.73333333],\n",
              "       [1.        , 0.5       , 0.2       ],\n",
              "       [1.        , 0.02380952, 0.45185185],\n",
              "       [0.        , 0.        , 0.52592593],\n",
              "       [1.        , 0.92857143, 0.43703704],\n",
              "       [0.        , 0.21428571, 0.51111111],\n",
              "       [1.        , 0.28571429, 0.48148148],\n",
              "       [1.        , 0.0952381 , 0.02222222],\n",
              "       [0.        , 0.33333333, 0.52592593],\n",
              "       [0.        , 0.76190476, 0.03703704],\n",
              "       [1.        , 0.02380952, 0.07407407],\n",
              "       [0.        , 0.69047619, 0.95555556],\n",
              "       [0.        , 0.95238095, 0.63703704],\n",
              "       [1.        , 0.38095238, 0.74074074],\n",
              "       [0.        , 0.11904762, 0.37777778],\n",
              "       [1.        , 0.9047619 , 0.33333333],\n",
              "       [0.        , 0.30952381, 0.76296296],\n",
              "       [0.        , 0.71428571, 0.14814815],\n",
              "       [0.        , 0.69047619, 0.72592593],\n",
              "       [0.        , 0.5       , 0.47407407],\n",
              "       [0.        , 0.80952381, 0.17037037],\n",
              "       [1.        , 0.14285714, 0.31851852],\n",
              "       [1.        , 0.45238095, 0.28148148],\n",
              "       [0.        , 0.57142857, 0.48148148],\n",
              "       [1.        , 0.66666667, 0.0962963 ],\n",
              "       [1.        , 0.57142857, 0.42962963],\n",
              "       [0.        , 0.45238095, 0.34814815],\n",
              "       [1.        , 1.        , 0.2       ],\n",
              "       [1.        , 0.42857143, 0.27407407],\n",
              "       [0.        , 0.95238095, 0.59259259],\n",
              "       [1.        , 0.5952381 , 0.84444444],\n",
              "       [1.        , 0.21428571, 0.54814815],\n",
              "       [0.        , 0.11904762, 0.4962963 ],\n",
              "       [0.        , 0.47619048, 0.71851852],\n",
              "       [0.        , 0.4047619 , 0.25925926],\n",
              "       [1.        , 0.42857143, 0.62222222],\n",
              "       [1.        , 0.45238095, 0.95555556],\n",
              "       [0.        , 0.19047619, 0.14814815],\n",
              "       [0.        , 0.57142857, 0.40740741],\n",
              "       [0.        , 0.5952381 , 0.87407407],\n",
              "       [0.        , 0.47619048, 0.25925926],\n",
              "       [0.        , 0.66666667, 0.6       ],\n",
              "       [0.        , 0.4047619 , 0.21481481],\n",
              "       [0.        , 0.47619048, 0.72592593],\n",
              "       [1.        , 0.5       , 0.41481481],\n",
              "       [0.        , 0.19047619, 0.27407407],\n",
              "       [0.        , 0.85714286, 0.68888889],\n",
              "       [0.        , 0.35714286, 0.26666667],\n",
              "       [1.        , 0.19047619, 0.00740741],\n",
              "       [1.        , 0.28571429, 0.53333333],\n",
              "       [0.        , 0.4047619 , 0.33333333]])"
            ]
          },
          "metadata": {
            "tags": []
          },
          "execution_count": 81
        }
      ]
    },
    {
      "cell_type": "markdown",
      "metadata": {
        "id": "UkiSpylklf7z"
      },
      "source": [
        "**Step 2 | Logistic Regression Model**"
      ]
    },
    {
      "cell_type": "markdown",
      "metadata": {
        "id": "rhZgd1t_mfYg"
      },
      "source": [
        "The library for this job which is going to be the linear model library and it is called linear because the logistic regression is a linear classifier which means that here since we're in two dimensions, our two categories of users are going to be separated by a straight line. Then import the logistic regression class. Next we will create a new object from this class which is going to be our classifier that we are going to fit on our training set."
      ]
    },
    {
      "cell_type": "markdown",
      "metadata": {
        "id": "oCUEcLBflmPn"
      },
      "source": [
        "**Fitting Logistic Regression to the Training set**"
      ]
    },
    {
      "cell_type": "code",
      "metadata": {
        "id": "l8YSpSphj8FN"
      },
      "source": [
        "regressor = LogisticRegression()"
      ],
      "execution_count": 82,
      "outputs": []
    },
    {
      "cell_type": "code",
      "metadata": {
        "colab": {
          "base_uri": "https://localhost:8080/"
        },
        "id": "AIZMJ59SGKIN",
        "outputId": "8f63b0e8-ec82-4d7c-b1dd-ff60b0d6c83c"
      },
      "source": [
        "regressor.fit(X_train, y_train)"
      ],
      "execution_count": 83,
      "outputs": [
        {
          "output_type": "execute_result",
          "data": {
            "text/plain": [
              "LogisticRegression(C=1.0, class_weight=None, dual=False, fit_intercept=True,\n",
              "                   intercept_scaling=1, l1_ratio=None, max_iter=100,\n",
              "                   multi_class='auto', n_jobs=None, penalty='l2',\n",
              "                   random_state=None, solver='lbfgs', tol=0.0001, verbose=0,\n",
              "                   warm_start=False)"
            ]
          },
          "metadata": {
            "tags": []
          },
          "execution_count": 83
        }
      ]
    },
    {
      "cell_type": "code",
      "metadata": {
        "colab": {
          "base_uri": "https://localhost:8080/"
        },
        "id": "WF2he4YMGKKY",
        "outputId": "3ef2d8db-c288-4634-df29-f67548e6c5b1"
      },
      "source": [
        "regressor.score(X_train, y_train)"
      ],
      "execution_count": 84,
      "outputs": [
        {
          "output_type": "execute_result",
          "data": {
            "text/plain": [
              "0.825"
            ]
          },
          "metadata": {
            "tags": []
          },
          "execution_count": 84
        }
      ]
    },
    {
      "cell_type": "markdown",
      "metadata": {
        "id": "0DpkLwdRlvXX"
      },
      "source": [
        "**Step 3 | Predection**"
      ]
    },
    {
      "cell_type": "code",
      "metadata": {
        "colab": {
          "base_uri": "https://localhost:8080/"
        },
        "id": "sCx632QvGKWL",
        "outputId": "4b10ca4b-aa6c-43a5-8d35-7523df499574"
      },
      "source": [
        "predictions = regressor.predict(X_test)\n",
        "predictions"
      ],
      "execution_count": 85,
      "outputs": [
        {
          "output_type": "execute_result",
          "data": {
            "text/plain": [
              "array([0, 0, 1, 1, 0, 0, 0, 1, 0, 1, 0, 0, 0, 1, 1, 1, 1, 0, 0, 1, 0, 1,\n",
              "       1, 0, 0, 0, 1, 1, 1, 1, 0, 0, 0, 1, 0, 0, 0, 0, 0, 0, 1, 1, 0, 0,\n",
              "       1, 0, 0, 1, 0, 1, 0, 0, 0, 0, 0, 0, 1, 0, 1, 1, 0, 0, 1, 0, 0, 1,\n",
              "       0, 0, 1, 0, 1, 0, 1, 0, 0, 1, 0, 0, 0, 0])"
            ]
          },
          "metadata": {
            "tags": []
          },
          "execution_count": 85
        }
      ]
    },
    {
      "cell_type": "code",
      "metadata": {
        "id": "5X1PxviQlp0C",
        "colab": {
          "base_uri": "https://localhost:8080/"
        },
        "outputId": "3a715218-c096-4c53-b1dd-fe6d305e11c1"
      },
      "source": [
        "regressor.score(X_test, y_test)"
      ],
      "execution_count": 86,
      "outputs": [
        {
          "output_type": "execute_result",
          "data": {
            "text/plain": [
              "0.825"
            ]
          },
          "metadata": {
            "tags": []
          },
          "execution_count": 86
        }
      ]
    },
    {
      "cell_type": "markdown",
      "metadata": {
        "id": "vdX1IU-Fl7Ak"
      },
      "source": [
        "**Step 4 | Evaluating The Predection**"
      ]
    },
    {
      "cell_type": "markdown",
      "metadata": {
        "id": "zPdZLTTQmqa9"
      },
      "source": [
        "We predicted the test results and now we will evaluate if our logistic regression model learned and understood correctly. So this confusion matrix is going to contain the correct predictions that our model made on the set as well as the incorrect predictions."
      ]
    },
    {
      "cell_type": "markdown",
      "metadata": {
        "id": "bxjKgSYvmBDn"
      },
      "source": [
        "**Making the Confusion Matrix**"
      ]
    },
    {
      "cell_type": "code",
      "metadata": {
        "id": "2_afjfcjlp88",
        "colab": {
          "base_uri": "https://localhost:8080/"
        },
        "outputId": "dd3bd460-8e13-4e8c-d655-c8389cda6533"
      },
      "source": [
        "cm = confusion_matrix(y_test, predictions)\n",
        "cm"
      ],
      "execution_count": 87,
      "outputs": [
        {
          "output_type": "execute_result",
          "data": {
            "text/plain": [
              "array([[42,  6],\n",
              "       [ 8, 24]])"
            ]
          },
          "metadata": {
            "tags": []
          },
          "execution_count": 87
        }
      ]
    },
    {
      "cell_type": "markdown",
      "metadata": {
        "id": "DARs2T8GmG3v"
      },
      "source": [
        "**Visualization**"
      ]
    },
    {
      "cell_type": "code",
      "metadata": {
        "id": "v_qMnhVilqBW",
        "colab": {
          "base_uri": "https://localhost:8080/",
          "height": 282
        },
        "outputId": "94b8aadc-e0e2-4fcd-c1e9-a8d21a0b2732"
      },
      "source": [
        "sns.heatmap(cm, annot=True)"
      ],
      "execution_count": 88,
      "outputs": [
        {
          "output_type": "execute_result",
          "data": {
            "text/plain": [
              "<matplotlib.axes._subplots.AxesSubplot at 0x7f9833117b50>"
            ]
          },
          "metadata": {
            "tags": []
          },
          "execution_count": 88
        },
        {
          "output_type": "display_data",
          "data": {
            "image/png": "[encoded data removed]",
            "text/plain": [
              "<Figure size 432x288 with 2 Axes>"
            ]
          },
          "metadata": {
            "tags": [],
            "needs_background": "light"
          }
        }
      ]
    },
    {
      "cell_type": "code",
      "metadata": {
        "colab": {
          "base_uri": "https://localhost:8080/",
          "height": 282
        },
        "id": "ewLiesaRcTD5",
        "outputId": "97ba4966-b0c1-4324-c270-e9073f9ff7dd"
      },
      "source": [
        "sns.regplot(x=X_test[:,1], y=predictions, logistic=True)"
      ],
      "execution_count": 107,
      "outputs": [
        {
          "output_type": "execute_result",
          "data": {
            "text/plain": [
              "<matplotlib.axes._subplots.AxesSubplot at 0x7f98322363d0>"
            ]
          },
          "metadata": {
            "tags": []
          },
          "execution_count": 107
        },
        {
          "output_type": "display_data",
          "data": {
            "image/png": "[encoded data removed]",
            "text/plain": [
              "<Figure size 432x288 with 1 Axes>"
            ]
          },
          "metadata": {
            "tags": [],
            "needs_background": "light"
          }
        }
      ]
    }
  ]
}