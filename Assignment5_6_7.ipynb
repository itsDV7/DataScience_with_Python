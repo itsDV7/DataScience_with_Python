{
  "nbformat": 4,
  "nbformat_minor": 0,
  "metadata": {
    "kernelspec": {
      "display_name": "Python 3",
      "language": "python",
      "name": "python3"
    },
    "language_info": {
      "codemirror_mode": {
        "name": "ipython",
        "version": 3
      },
      "file_extension": ".py",
      "mimetype": "text/x-python",
      "name": "python",
      "nbconvert_exporter": "python",
      "pygments_lexer": "ipython3",
      "version": "3.8.3"
    },
    "colab": {
      "name": "Assignment5_6_7.ipynb",
      "provenance": []
    }
  },
  "cells": [
    {
      "cell_type": "code",
      "metadata": {
        "id": "WEYY--Bo1meZ"
      },
      "source": [
        "import pandas as pd\n",
        "import matplotlib.pyplot as plt\n",
        "import numpy as np\n",
        "from sklearn import linear_model"
      ],
      "execution_count": 1,
      "outputs": []
    },
    {
      "cell_type": "markdown",
      "metadata": {
        "id": "NrfoEGnm1meb"
      },
      "source": [
        "# Assignment5\n"
      ]
    },
    {
      "cell_type": "markdown",
      "metadata": {
        "id": "qL7UcpS21meb"
      },
      "source": [
        "## Ground Cricket Chirps\n",
        "\n",
        "In _The Song of Insects_ (1948) by George W. Pierce, Pierce mechanically measured the frequency (the number of wing vibrations per second) of chirps (or pulses of sound) made by a striped ground cricket, at various ground temperatures.  Since crickets are ectotherms (cold-blooded), the rate of their physiological processes and their overall metabolism are influenced by temperature.  Consequently, there is reason to believe that temperature would have a profound effect on aspects of their behavior, such as chirp frequency.\n",
        "\n",
        "In general, it was found that crickets did not sing at temperatures colder than 60º F. or warmer than 100º F."
      ]
    },
    {
      "cell_type": "code",
      "metadata": {
        "id": "5FSQG4_N1meb"
      },
      "source": [
        "ground_cricket_data = {\"Chirps/Second\": [20.0, 16.0, 19.8, 18.4, 17.1, 15.5, 14.7,\n",
        "                                         15.7, 15.4, 16.3, 15.0, 17.2, 16.0, 17.0,\n",
        "                                         14.4],\n",
        "                       \"Ground Temperature\": [88.6, 71.6, 93.3, 84.3, 80.6, 75.2, 69.7,\n",
        "                                              71.6, 69.4, 83.3, 79.6, 82.6, 80.6, 83.5,\n",
        "                                              76.3]}\n",
        "df = pd.DataFrame(ground_cricket_data)"
      ],
      "execution_count": 2,
      "outputs": []
    },
    {
      "cell_type": "markdown",
      "metadata": {
        "id": "z-HgN_la1mec"
      },
      "source": [
        "### Tasks\n",
        "\n",
        "1. Find the linear regression equation for this data.\n",
        "2. Chart the original data and the equation on the chart.\n",
        "3. Find the equation's $R^2$ score (use the `.score` method) to determine whether the\n",
        "equation is a good fit for this data. (0.8 and greater is considered a strong correlation.)\n",
        "4. Extrapolate data:  If the ground temperature reached 95, then at what approximate rate would you expect the crickets to be chirping?\n",
        "5. Interpolate data:  With a listening device, you discovered that on a particular morning the crickets were chirping at a rate of 18 chirps per second.  What was the approximate ground temperature that morning? "
      ]
    },
    {
      "cell_type": "code",
      "metadata": {
        "id": "xjWxIy9Y2u8O",
        "outputId": "4c3e6a70-5f38-4b61-af26-461d22f350e8",
        "colab": {
          "base_uri": "https://localhost:8080/"
        }
      },
      "source": [
        "# Data Frame\n",
        "print(df)"
      ],
      "execution_count": 3,
      "outputs": [
        {
          "output_type": "stream",
          "text": [
            "    Chirps/Second  Ground Temperature\n",
            "0            20.0                88.6\n",
            "1            16.0                71.6\n",
            "2            19.8                93.3\n",
            "3            18.4                84.3\n",
            "4            17.1                80.6\n",
            "5            15.5                75.2\n",
            "6            14.7                69.7\n",
            "7            15.7                71.6\n",
            "8            15.4                69.4\n",
            "9            16.3                83.3\n",
            "10           15.0                79.6\n",
            "11           17.2                82.6\n",
            "12           16.0                80.6\n",
            "13           17.0                83.5\n",
            "14           14.4                76.3\n"
          ],
          "name": "stdout"
        }
      ]
    },
    {
      "cell_type": "code",
      "metadata": {
        "id": "QN_mm1R785Jx",
        "outputId": "68a7792c-71b5-4575-e0bc-7262ce8d05ec",
        "colab": {
          "base_uri": "https://localhost:8080/"
        }
      },
      "source": [
        "# Linear Regression Equation\n",
        "X = np.array(df[\"Chirps/Second\"])\n",
        "Y = np.array(df[\"Ground Temperature\"])\n",
        "print(\"Xmean: \",np.mean(X))\n",
        "print(\"Ymean: \",np.mean(Y))\n",
        "b1 = np.sum((X-np.mean(X))*(Y-np.mean(Y)))/np.sum(pow(X-np.mean(X),2))\n",
        "print(\"\\nb1: \",round(b1,2))\n",
        "b0 = np.mean(Y) - b1*np.mean(X)\n",
        "print(\"b0: \",round(b0,2))\n",
        "print(\"\\nEquation: Y = {} +({})X\".format(round(b0,2),round(b1,2)))"
      ],
      "execution_count": 4,
      "outputs": [
        {
          "output_type": "stream",
          "text": [
            "Xmean:  16.566666666666666\n",
            "Ymean:  79.34666666666665\n",
            "\n",
            "b1:  3.41\n",
            "b0:  22.85\n",
            "\n",
            "Equation: Y = 22.85 +(3.41)X\n"
          ],
          "name": "stdout"
        }
      ]
    },
    {
      "cell_type": "code",
      "metadata": {
        "id": "SjTOVDpUE-yz",
        "outputId": "16c1cd95-878e-41b7-e9de-6bb5bb47f699",
        "colab": {
          "base_uri": "https://localhost:8080/"
        }
      },
      "source": [
        "# Y prediction\n",
        "Y_pred = b0 + (b1)*X\n",
        "print(f\"Predicted Y: {Y_pred}\")"
      ],
      "execution_count": 40,
      "outputs": [
        {
          "output_type": "stream",
          "text": [
            "Predicted Y: [91.0554423 77.4141503 90.3733777 85.5989255 81.1655056 75.7089888\n",
            " 72.9807304 76.3910534 75.3679565 78.4372472 74.0038273 81.5065379\n",
            " 77.4141503 80.8244733 71.9576335]\n"
          ],
          "name": "stdout"
        }
      ]
    },
    {
      "cell_type": "code",
      "metadata": {
        "id": "gzNTgk9KTzl_",
        "outputId": "5fbbcb1d-58a4-4825-97e5-dff4acf8ef52",
        "colab": {
          "base_uri": "https://localhost:8080/"
        }
      },
      "source": [
        "# R2 Score using Equation\n",
        "r2_score = np.sum((Y_pred - np.mean(Y))**2) / np.sum((Y - np.mean(Y))**2)\n",
        "print(r2_score)"
      ],
      "execution_count": 20,
      "outputs": [
        {
          "output_type": "stream",
          "text": [
            "0.6922946529147 0.6922946529147013\n"
          ],
          "name": "stdout"
        }
      ]
    },
    {
      "cell_type": "code",
      "metadata": {
        "id": "950KaXqzXKyw",
        "outputId": "0d876dc3-86ea-4b4c-b82c-fc754d15cd18",
        "colab": {
          "base_uri": "https://localhost:8080/"
        }
      },
      "source": [
        "# Extrapolate\n",
        "# input_Y: Ground Temperature, predict_X: Chirps/Second\n",
        "input_Y = 95\n",
        "predict_X = (input_Y - b0)/b1\n",
        "print(f\"Chirps/Second when Ground Temperature is {input_Y} = {predict_X}\")"
      ],
      "execution_count": 24,
      "outputs": [
        {
          "output_type": "stream",
          "text": [
            "Chirps/Second when Ground Temperature is 95 = 21.156652229784402\n"
          ],
          "name": "stdout"
        }
      ]
    },
    {
      "cell_type": "code",
      "metadata": {
        "id": "sAG5936jYP-D",
        "outputId": "23fbc193-50a9-4c7e-a1d9-2b795a668128",
        "colab": {
          "base_uri": "https://localhost:8080/"
        }
      },
      "source": [
        "# Interpolate\n",
        "# input_X: Chirps/Second, predict_Y: Ground Temperature\n",
        "input_X = 18\n",
        "predict_Y = b0 + b1*(input_X)\n",
        "print(f\"Ground Temperature when Chirps/Second is {input_X} = {predict_Y}\")"
      ],
      "execution_count": 26,
      "outputs": [
        {
          "output_type": "stream",
          "text": [
            "Ground Temperature when Chirps/Second is 18 = 84.23479629930205\n"
          ],
          "name": "stdout"
        }
      ]
    },
    {
      "cell_type": "code",
      "metadata": {
        "id": "7j65eqo89RBI",
        "outputId": "6a3e31da-b4f2-4a90-d993-0cad13bc493d",
        "colab": {
          "base_uri": "https://localhost:8080/",
          "height": 312
        }
      },
      "source": [
        "# Scatter Plot - Plot Data Points\n",
        "plt.scatter(X, Y)\n",
        "plt.title(\"Scatter Plot\")\n",
        "plt.xlabel(\"Chirps/Second\")\n",
        "plt.ylabel(\"Ground Temperature\")\n",
        "plt.plot()"
      ],
      "execution_count": 6,
      "outputs": [
        {
          "output_type": "execute_result",
          "data": {
            "text/plain": [
              "[]"
            ]
          },
          "metadata": {
            "tags": []
          },
          "execution_count": 6
        },
        {
          "output_type": "display_data",
          "data": {
            "image/png": "[encoded data removed]",
            "text/plain": [
              "<Figure size 432x288 with 1 Axes>"
            ]
          },
          "metadata": {
            "tags": [],
            "needs_background": "light"
          }
        }
      ]
    },
    {
      "cell_type": "code",
      "metadata": {
        "id": "kd2j3dQkAEwg",
        "outputId": "d3215d33-af00-44db-8aa0-bac3f7807ce0",
        "colab": {
          "base_uri": "https://localhost:8080/",
          "height": 312
        }
      },
      "source": [
        "# Linear Regression Line Plot\n",
        "plt.scatter(X, Y)\n",
        "plt.plot(X, b0 +(b1)*X, color='RED')\n",
        "plt.title(\"Linear Regression\")\n",
        "plt.xlabel(\"Chirps/Second\")\n",
        "plt.ylabel(\"Ground Temperature\")\n",
        "plt.plot()"
      ],
      "execution_count": 8,
      "outputs": [
        {
          "output_type": "execute_result",
          "data": {
            "text/plain": [
              "[]"
            ]
          },
          "metadata": {
            "tags": []
          },
          "execution_count": 8
        },
        {
          "output_type": "display_data",
          "data": {
            "image/png": "[encoded data removed]",
            "text/plain": [
              "<Figure size 432x288 with 1 Axes>"
            ]
          },
          "metadata": {
            "tags": [],
            "needs_background": "light"
          }
        }
      ]
    },
    {
      "cell_type": "code",
      "metadata": {
        "id": "R0oiGckyCY59",
        "outputId": "b1545cde-1eb4-446b-d2c8-5a1f2afbc199",
        "colab": {
          "base_uri": "https://localhost:8080/"
        }
      },
      "source": [
        "# Using sklearn\n",
        "reg = linear_model.LinearRegression()\n",
        "reshape_X = X.reshape(-1, 1)\n",
        "model = reg.fit(reshape_X, Y)\n",
        "r2_score_sklearn = reg.score(reshape_X, Y)\n",
        "input_X = np.array(18).reshape(-1, 1)\n",
        "reg_opp = linear_model.LinearRegression()\n",
        "reshape_Y = Y.reshape(-1, 1)\n",
        "model_opp = reg_opp.fit(reshape_Y, X)\n",
        "input_Y = np.array(95).reshape(-1, 1)\n",
        "print(f\"Coefficient: {model.coef_}\")\n",
        "print(f\"Intercept: {model.intercept_}\")\n",
        "print(f\"R2 Score: {r2_score_sklearn}\")\n",
        "print(f\"Predicted Chirps/Second: {reg_opp.predict(input_Y)}\")\n",
        "print(f\"Predicted Ground Temperature: {reg.predict(input_X)}\")"
      ],
      "execution_count": 39,
      "outputs": [
        {
          "output_type": "stream",
          "text": [
            "Coefficient: [3.410323]\n",
            "Intercept: 22.848982308066887\n",
            "R2 Score: 0.6922946529147003\n",
            "Predicted Chirps/Second: [19.74428913]\n",
            "Predicted Ground Temperature: [84.2347963]\n"
          ],
          "name": "stdout"
        }
      ]
    },
    {
      "cell_type": "markdown",
      "metadata": {
        "id": "7Lh5qwYQ1mec"
      },
      "source": [
        "# Assignment6"
      ]
    },
    {
      "cell_type": "markdown",
      "metadata": {
        "id": "GPhckAUb1mec"
      },
      "source": [
        "## Brain vs. Body Weight\n",
        "\n",
        "In the file `brain_body.txt`, the average brain and body weight for a number of mammal species are recorded. Load this data into a Pandas data frame.\n",
        "\n",
        "### Tasks\n",
        "\n",
        "1. Find the linear regression equation for this data for brain weight to body weight.\n",
        "2. Chart the original data and the equation on the chart.\n",
        "3. Find the equation's $R^2$ score (use the `.score` method) to determine whether the\n",
        "equation is a good fit for this data. (0.8 and greater is considered a strong correlation.)"
      ]
    },
    {
      "cell_type": "code",
      "metadata": {
        "id": "UjSEIwEM1mec"
      },
      "source": [
        "df = pd.read_fwf(\"/content/brain_body.txt\")"
      ],
      "execution_count": 42,
      "outputs": []
    },
    {
      "cell_type": "code",
      "metadata": {
        "id": "ACkZBxp_gD2i"
      },
      "source": [
        "from sklearn.preprocessing import MinMaxScaler, Normalizer"
      ],
      "execution_count": 54,
      "outputs": []
    },
    {
      "cell_type": "code",
      "metadata": {
        "id": "0UqZ-m8yetdZ",
        "outputId": "b2d2522f-0d4e-4555-e463-e94790356973",
        "colab": {
          "base_uri": "https://localhost:8080/"
        }
      },
      "source": [
        "print(df)"
      ],
      "execution_count": 48,
      "outputs": [
        {
          "output_type": "stream",
          "text": [
            "      Brain   Body\n",
            "0     3.385   44.5\n",
            "1     0.480   15.5\n",
            "2     1.350    8.1\n",
            "3   465.000  423.0\n",
            "4    36.330  119.5\n",
            "..      ...    ...\n",
            "57  160.000  169.0\n",
            "58    0.900    2.6\n",
            "59    1.620   11.4\n",
            "60    0.104    2.5\n",
            "61    4.235   50.4\n",
            "\n",
            "[62 rows x 2 columns]\n"
          ],
          "name": "stdout"
        }
      ]
    },
    {
      "cell_type": "code",
      "metadata": {
        "id": "gfA3bFYKe8L0",
        "outputId": "fbd8410f-4c5f-4064-b5e5-e885ff0921ce",
        "colab": {
          "base_uri": "https://localhost:8080/"
        }
      },
      "source": [
        "# Linear Regression Equation\n",
        "X = np.array(df[\"Brain\"])\n",
        "Y = np.array(df[\"Body\"])\n",
        "print(\"Xmean: \",np.mean(X))\n",
        "print(\"Ymean: \",np.mean(Y))\n",
        "b1 = np.sum((X-np.mean(X))*(Y-np.mean(Y)))/np.sum(pow(X-np.mean(X),2))\n",
        "print(\"\\nb1: \",round(b1,2))\n",
        "b0 = np.mean(Y) - b1*np.mean(X)\n",
        "print(\"b0: \",round(b0,2))\n",
        "print(\"\\nEquation: Y = {} +({})X\".format(round(b0,2),round(b1,2)))"
      ],
      "execution_count": 57,
      "outputs": [
        {
          "output_type": "stream",
          "text": [
            "Xmean:  198.78998387096775\n",
            "Ymean:  283.13419354838715\n",
            "\n",
            "b1:  0.97\n",
            "b0:  91.0\n",
            "\n",
            "Equation: Y = 91.0 +(0.97)X\n"
          ],
          "name": "stdout"
        }
      ]
    },
    {
      "cell_type": "code",
      "metadata": {
        "id": "nesBp6v6lqEW",
        "outputId": "c724dc2f-e78d-4980-fecc-64e194da6bf9",
        "colab": {
          "base_uri": "https://localhost:8080/"
        }
      },
      "source": [
        "# Y prediction\n",
        "Y_pred = b0 + (b1)*X\n",
        "print(f\"Predicted Y: {Y_pred}\")"
      ],
      "execution_count": 61,
      "outputs": [
        {
          "output_type": "stream",
          "text": [
            "Predicted Y: [  94.27598641   91.46831446   92.3091663   540.42520718  126.11720924\n",
            "  117.73768574  105.33753734   92.00955243   95.05401599   91.41515716\n",
            "   91.10201234   91.89357287   91.97089258   91.00922869   91.06238599\n",
            "   94.38713349   92.93738894   92.64744003 2552.67064467   91.02662562\n",
            "  271.8358666   594.54900376   91.76309586  100.66935988   94.19383422\n",
            "   91.19769548   92.36715609  602.28097471  291.06914432  173.15658746\n",
            "   91.72926848  150.927171   6522.0712267    94.38713349   97.57657151\n",
            "  124.83176908   94.9187065    91.12037577   91.02662562   91.01406117\n",
            "   92.35749112  332.62848813   93.42063713  144.64494461  187.65403297\n",
            "  141.41684675  101.20093289   91.53596921  148.99417827   94.48378313\n",
            "   95.14873263   91.27501519   91.07688343   91.12230876   91.05078803\n",
            "  276.5716988    93.90388531  245.64381504   91.87424294   92.57012032\n",
            "   91.10491183   95.09750832]\n"
          ],
          "name": "stdout"
        }
      ]
    },
    {
      "cell_type": "code",
      "metadata": {
        "id": "dREK3AM2lqxI",
        "outputId": "f41a9f7d-2558-4553-deb2-ea335c662479",
        "colab": {
          "base_uri": "https://localhost:8080/"
        }
      },
      "source": [
        "# R2 Score using Equation\n",
        "r2_score = np.sum((Y_pred - np.mean(Y))**2) / np.sum((Y - np.mean(Y))**2)\n",
        "print(r2_score)"
      ],
      "execution_count": 62,
      "outputs": [
        {
          "output_type": "stream",
          "text": [
            "0.8726620843043326\n"
          ],
          "name": "stdout"
        }
      ]
    },
    {
      "cell_type": "code",
      "metadata": {
        "id": "aDINyCUlfZGG",
        "outputId": "5179f3ef-b0b4-4afd-e8b2-deb679a96fda",
        "colab": {
          "base_uri": "https://localhost:8080/",
          "height": 312
        }
      },
      "source": [
        "# Scatter Plot - Plot Data Points\n",
        "plt.scatter(X, Y)\n",
        "plt.title(\"Scatter Plot\")\n",
        "plt.xlabel(\"Brain\")\n",
        "plt.ylabel(\"Body\")\n",
        "plt.xlim(-10, 600)\n",
        "plt.ylim(-10, 700)\n",
        "plt.plot()"
      ],
      "execution_count": 74,
      "outputs": [
        {
          "output_type": "execute_result",
          "data": {
            "text/plain": [
              "[]"
            ]
          },
          "metadata": {
            "tags": []
          },
          "execution_count": 74
        },
        {
          "output_type": "display_data",
          "data": {
            "image/png": "[encoded data removed]",
            "text/plain": [
              "<Figure size 432x288 with 1 Axes>"
            ]
          },
          "metadata": {
            "tags": [],
            "needs_background": "light"
          }
        }
      ]
    },
    {
      "cell_type": "code",
      "metadata": {
        "id": "Mj7wCkx3lUVa",
        "outputId": "8924ec26-f00b-498a-eb23-ccf05e07d57b",
        "colab": {
          "base_uri": "https://localhost:8080/",
          "height": 312
        }
      },
      "source": [
        "# Linear Regression Line Plot\n",
        "plt.scatter(X, Y)\n",
        "plt.plot(X, b0 +(b1)*X, color='RED')\n",
        "plt.title(\"Linear Regression\")\n",
        "plt.xlabel(\"Brain\")\n",
        "plt.ylabel(\"Body\")\n",
        "plt.xlim(-10, 600)\n",
        "plt.ylim(-10, 700)\n",
        "plt.plot()"
      ],
      "execution_count": 75,
      "outputs": [
        {
          "output_type": "execute_result",
          "data": {
            "text/plain": [
              "[]"
            ]
          },
          "metadata": {
            "tags": []
          },
          "execution_count": 75
        },
        {
          "output_type": "display_data",
          "data": {
            "image/png": "[encoded data removed]",
            "text/plain": [
              "<Figure size 432x288 with 1 Axes>"
            ]
          },
          "metadata": {
            "tags": [],
            "needs_background": "light"
          }
        }
      ]
    },
    {
      "cell_type": "code",
      "metadata": {
        "id": "qObsyzhHlXiJ",
        "outputId": "4b379e99-a74d-4656-e4a0-821d8d025ac0",
        "colab": {
          "base_uri": "https://localhost:8080/"
        }
      },
      "source": [
        "# Using sklearn\n",
        "reg = linear_model.LinearRegression()\n",
        "reshape_X = X.reshape(-1, 1)\n",
        "model = reg.fit(reshape_X, Y)\n",
        "r2_score_sklearn = reg.score(reshape_X, Y)\n",
        "print(f\"Coefficient: {model.coef_}\")\n",
        "print(f\"Intercept: {model.intercept_}\")\n",
        "print(f\"R2 Score: {r2_score_sklearn}\")"
      ],
      "execution_count": 60,
      "outputs": [
        {
          "output_type": "stream",
          "text": [
            "Coefficient: [0.96649637]\n",
            "Intercept: 91.00439620740687\n",
            "R2 Score: 0.8726620843043331\n"
          ],
          "name": "stdout"
        }
      ]
    },
    {
      "cell_type": "markdown",
      "metadata": {
        "id": "NpW5AzPp1med"
      },
      "source": [
        "# Assignment7"
      ]
    },
    {
      "cell_type": "markdown",
      "metadata": {
        "id": "UMccKOBF1med"
      },
      "source": [
        "## Salary Discrimination\n",
        "\n",
        "The file `salary.txt` contains data for 52 tenure-track professors at a small Midwestern college. This data was used in legal proceedings in the 1980s about discrimination against women in salary.\n",
        "\n",
        "The data in the file, by column:\n",
        "\n",
        "1. Sex. 1 for female, 0 for male.\n",
        "2. Rank. 1 for assistant professor, 2 for associate professor, 3 for full professor.\n",
        "3. Year. Number of years in current rank.\n",
        "4. Degree. Highest degree. 1 for doctorate, 0 for master's.\n",
        "5. YSdeg. Years since highest degree was earned.\n",
        "6. Salary. Salary/year in dollars.\n",
        "\n",
        "### Tasks\n",
        "\n",
        "1. Find the linear regression equation for this data using columns 1-5 to column 6.\n",
        "2. Find the selection of columns with the best $R^2$ score.\n",
        "3. Report whether sex is a factor in salary."
      ]
    },
    {
      "cell_type": "code",
      "metadata": {
        "id": "RaGoGieT1med"
      },
      "source": [
        "df = pd.read_fwf(\"salary.txt\", header=None, \n",
        "                 names=[\"Sex\", \"Rank\", \"Year\", \"Degree\", \"YSdeg\", \"Salary\"])"
      ],
      "execution_count": 76,
      "outputs": []
    },
    {
      "cell_type": "code",
      "metadata": {
        "id": "PbKR8sZXntK8",
        "outputId": "d643fca7-341d-4b60-c2ba-de182c6a7323",
        "colab": {
          "base_uri": "https://localhost:8080/"
        }
      },
      "source": [
        "print(df)"
      ],
      "execution_count": 77,
      "outputs": [
        {
          "output_type": "stream",
          "text": [
            "    Sex  Rank  Year  Degree  YSdeg  Salary\n",
            "0     0     3    25       1     35   36350\n",
            "1     0     3    13       1     22   35350\n",
            "2     0     3    10       1     23   28200\n",
            "3     1     3     7       1     27   26775\n",
            "4     0     3    19       0     30   33696\n",
            "5     0     3    16       1     21   28516\n",
            "6     1     3     0       0     32   24900\n",
            "7     0     3    16       1     18   31909\n",
            "8     0     3    13       0     30   31850\n",
            "9     0     3    13       0     31   32850\n",
            "10    0     3    12       1     22   27025\n",
            "11    0     2    15       1     19   24750\n",
            "12    0     3     9       1     17   28200\n",
            "13    0     2     9       0     27   23712\n",
            "14    0     3     9       1     24   25748\n",
            "15    0     3     7       1     15   29342\n",
            "16    0     3    13       1     20   31114\n",
            "17    0     2    11       0     14   24742\n",
            "18    0     2    10       0     15   22906\n",
            "19    0     3     6       0     21   24450\n",
            "20    0     1    16       0     23   19175\n",
            "21    0     2     8       0     31   20525\n",
            "22    0     3     7       1     13   27959\n",
            "23    1     3     8       1     24   38045\n",
            "24    0     2     9       1     12   24832\n",
            "25    0     3     5       1     18   25400\n",
            "26    0     2    11       1     14   24800\n",
            "27    1     3     5       1     16   25500\n",
            "28    0     2     3       0      7   26182\n",
            "29    0     2     3       0     17   23725\n",
            "30    1     1    10       0     15   21600\n",
            "31    0     2    11       0     31   23300\n",
            "32    0     1     9       0     14   23713\n",
            "33    1     2     4       0     33   20690\n",
            "34    1     2     6       0     29   22450\n",
            "35    0     2     1       1      9   20850\n",
            "36    1     1     8       1     14   18304\n",
            "37    0     1     4       1      4   17095\n",
            "38    0     1     4       1      5   16700\n",
            "39    0     1     4       1      4   17600\n",
            "40    0     1     3       1      4   18075\n",
            "41    0     1     3       0     11   18000\n",
            "42    0     2     0       1      7   20999\n",
            "43    1     1     3       1      3   17250\n",
            "44    0     1     2       1      3   16500\n",
            "45    0     1     2       1      1   16094\n",
            "46    1     1     2       1      6   16150\n",
            "47    1     1     2       1      2   15350\n",
            "48    0     1     1       1      1   16244\n",
            "49    1     1     1       1      1   16686\n",
            "50    1     1     1       1      1   15000\n",
            "51    1     1     0       1      2   20300\n"
          ],
          "name": "stdout"
        }
      ]
    },
    {
      "cell_type": "code",
      "metadata": {
        "id": "NFR8FCggnud3"
      },
      "source": [
        "independent_columns = [\"Sex\", \"Rank\", \"Year\", \"Degree\", \"YSdeg\"]\n",
        "dependent_column = \"Salary\"\n",
        "X = df.loc[:, independent_columns]\n",
        "Y = df.loc[:, dependent_column]"
      ],
      "execution_count": 117,
      "outputs": []
    },
    {
      "cell_type": "code",
      "metadata": {
        "id": "ve7yz-FLoV6N"
      },
      "source": [
        "# Regression\n",
        "reg = linear_model.LinearRegression(normalize=True)\n",
        "model = reg.fit(X, Y)\n",
        "r2_score_sklearn = reg.score(X, Y)"
      ],
      "execution_count": 118,
      "outputs": []
    },
    {
      "cell_type": "code",
      "metadata": {
        "id": "pzLyOKMVqB-6",
        "outputId": "4b74a2f3-153f-4fba-d0d9-b7b05ecc7f61",
        "colab": {
          "base_uri": "https://localhost:8080/"
        }
      },
      "source": [
        "print(f\"Coefficient: {model.coef_}\")\n",
        "print(f\"Intercept: {model.intercept_}\")\n",
        "print(f\"R2 Score: {r2_score_sklearn}\")"
      ],
      "execution_count": 119,
      "outputs": [
        {
          "output_type": "stream",
          "text": [
            "Coefficient: [ 1241.7924996   5586.18144952   482.85976783 -1331.64406341\n",
            "  -128.79057354]\n",
            "Intercept: 11410.146547255608\n",
            "R2 Score: 0.8547180674410971\n"
          ],
          "name": "stdout"
        }
      ]
    },
    {
      "cell_type": "code",
      "metadata": {
        "id": "W3OsHfj-wtSs",
        "outputId": "d8adb626-6ee6-4767-e514-be7e03c68860",
        "colab": {
          "base_uri": "https://localhost:8080/",
          "height": 286
        }
      },
      "source": [
        "# Feature Importance\n",
        "import seaborn as sns\n",
        "sns.heatmap(df.corr(), annot=True)"
      ],
      "execution_count": 122,
      "outputs": [
        {
          "output_type": "execute_result",
          "data": {
            "text/plain": [
              "<matplotlib.axes._subplots.AxesSubplot at 0x7f4c08efce50>"
            ]
          },
          "metadata": {
            "tags": []
          },
          "execution_count": 122
        },
        {
          "output_type": "display_data",
          "data": {
            "image/png": "[encoded data removed]",
            "text/plain": [
              "<Figure size 432x288 with 2 Axes>"
            ]
          },
          "metadata": {
            "tags": [],
            "needs_background": "light"
          }
        }
      ]
    },
    {
      "cell_type": "markdown",
      "metadata": {
        "id": "teIluCLD0BK4"
      },
      "source": [
        "### Task 3\n",
        "As clear from the heatmap using pearson coefficient, column \"Sex\" is sufficiently correlated with Dependent Variable \"Salary\" and not correlated to other control variables so as to exclude it from the model."
      ]
    }
  ]
}