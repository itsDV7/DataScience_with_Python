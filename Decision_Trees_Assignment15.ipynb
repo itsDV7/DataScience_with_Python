{
  "nbformat": 4,
  "nbformat_minor": 0,
  "metadata": {
    "colab": {
      "name": "Decision_Trees_Assignment15.ipynb",
      "provenance": [],
      "include_colab_link": true
    },
    "kernelspec": {
      "name": "python3",
      "display_name": "Python 3"
    },
    "language_info": {
      "name": "python"
    }
  },
  "cells": [
    {
      "cell_type": "markdown",
      "metadata": {
        "id": "view-in-github",
        "colab_type": "text"
      },
      "source": [
        "<a href=\"https://colab.research.google.com/github/itsDV7/DataScience_with_Python/blob/main/Decision_Trees_Assignment15.ipynb\" target=\"_parent\"><img src=\"https://colab.research.google.com/assets/colab-badge.svg\" alt=\"Open In Colab\"/></a>"
      ]
    },
    {
      "cell_type": "code",
      "metadata": {
        "id": "eqp7Q6rWnX20"
      },
      "source": [
        "#Social_Network_Ads.csv"
      ],
      "execution_count": null,
      "outputs": []
    },
    {
      "cell_type": "markdown",
      "metadata": {
        "id": "1jSlqZcZnmrD"
      },
      "source": [
        "**Importing the libraries**"
      ]
    },
    {
      "cell_type": "code",
      "metadata": {
        "id": "ACJTKMfInp-E"
      },
      "source": [
        "import pandas as pd\n",
        "import numpy as np\n",
        "import matplotlib.pyplot as plt\n",
        "from sklearn.preprocessing import LabelEncoder, MinMaxScaler\n",
        "from sklearn.model_selection import train_test_split\n",
        "from sklearn.tree import DecisionTreeClassifier, plot_tree\n",
        "from sklearn.metrics import confusion_matrix\n",
        "import seaborn as sns\n",
        "from matplotlib.pylab import rcParams\n",
        "rcParams['figure.figsize'] = 18, 12"
      ],
      "execution_count": 43,
      "outputs": []
    },
    {
      "cell_type": "markdown",
      "metadata": {
        "id": "fRZkaj-dnxIj"
      },
      "source": [
        "**Importing the dataset**"
      ]
    },
    {
      "cell_type": "code",
      "metadata": {
        "id": "vfPLWJHRlM-4"
      },
      "source": [
        "data = pd.read_csv(\"Social_Network_Ads.csv\")\n",
        "df = data.copy()"
      ],
      "execution_count": 2,
      "outputs": []
    },
    {
      "cell_type": "markdown",
      "metadata": {
        "id": "KulopZdFCRD4"
      },
      "source": [
        "**EDA**"
      ]
    },
    {
      "cell_type": "code",
      "metadata": {
        "colab": {
          "base_uri": "https://localhost:8080/",
          "height": 204
        },
        "id": "nqlYz06kCR_s",
        "outputId": "bb7734f5-3dcf-4491-c1b0-bc07b35bd22f"
      },
      "source": [
        "df.head()"
      ],
      "execution_count": 3,
      "outputs": [
        {
          "output_type": "execute_result",
          "data": {
            "text/html": [
              "<div>\n",
              "<style scoped>\n",
              "    .dataframe tbody tr th:only-of-type {\n",
              "        vertical-align: middle;\n",
              "    }\n",
              "\n",
              "    .dataframe tbody tr th {\n",
              "        vertical-align: top;\n",
              "    }\n",
              "\n",
              "    .dataframe thead th {\n",
              "        text-align: right;\n",
              "    }\n",
              "</style>\n",
              "<table border=\"1\" class=\"dataframe\">\n",
              "  <thead>\n",
              "    <tr style=\"text-align: right;\">\n",
              "      <th></th>\n",
              "      <th>User ID</th>\n",
              "      <th>Gender</th>\n",
              "      <th>Age</th>\n",
              "      <th>EstimatedSalary</th>\n",
              "      <th>Purchased</th>\n",
              "    </tr>\n",
              "  </thead>\n",
              "  <tbody>\n",
              "    <tr>\n",
              "      <th>0</th>\n",
              "      <td>15624510</td>\n",
              "      <td>Male</td>\n",
              "      <td>19</td>\n",
              "      <td>19000</td>\n",
              "      <td>0</td>\n",
              "    </tr>\n",
              "    <tr>\n",
              "      <th>1</th>\n",
              "      <td>15810944</td>\n",
              "      <td>Male</td>\n",
              "      <td>35</td>\n",
              "      <td>20000</td>\n",
              "      <td>0</td>\n",
              "    </tr>\n",
              "    <tr>\n",
              "      <th>2</th>\n",
              "      <td>15668575</td>\n",
              "      <td>Female</td>\n",
              "      <td>26</td>\n",
              "      <td>43000</td>\n",
              "      <td>0</td>\n",
              "    </tr>\n",
              "    <tr>\n",
              "      <th>3</th>\n",
              "      <td>15603246</td>\n",
              "      <td>Female</td>\n",
              "      <td>27</td>\n",
              "      <td>57000</td>\n",
              "      <td>0</td>\n",
              "    </tr>\n",
              "    <tr>\n",
              "      <th>4</th>\n",
              "      <td>15804002</td>\n",
              "      <td>Male</td>\n",
              "      <td>19</td>\n",
              "      <td>76000</td>\n",
              "      <td>0</td>\n",
              "    </tr>\n",
              "  </tbody>\n",
              "</table>\n",
              "</div>"
            ],
            "text/plain": [
              "    User ID  Gender  Age  EstimatedSalary  Purchased\n",
              "0  15624510    Male   19            19000          0\n",
              "1  15810944    Male   35            20000          0\n",
              "2  15668575  Female   26            43000          0\n",
              "3  15603246  Female   27            57000          0\n",
              "4  15804002    Male   19            76000          0"
            ]
          },
          "metadata": {
            "tags": []
          },
          "execution_count": 3
        }
      ]
    },
    {
      "cell_type": "code",
      "metadata": {
        "id": "3bfY4xAFCSB2"
      },
      "source": [
        "df = df.drop('User ID', axis=1)"
      ],
      "execution_count": 4,
      "outputs": []
    },
    {
      "cell_type": "code",
      "metadata": {
        "colab": {
          "base_uri": "https://localhost:8080/",
          "height": 204
        },
        "id": "kQ_PRNXlCSD_",
        "outputId": "c5a67008-fed7-40cf-d884-ef533741548a"
      },
      "source": [
        "df.head()"
      ],
      "execution_count": 5,
      "outputs": [
        {
          "output_type": "execute_result",
          "data": {
            "text/html": [
              "<div>\n",
              "<style scoped>\n",
              "    .dataframe tbody tr th:only-of-type {\n",
              "        vertical-align: middle;\n",
              "    }\n",
              "\n",
              "    .dataframe tbody tr th {\n",
              "        vertical-align: top;\n",
              "    }\n",
              "\n",
              "    .dataframe thead th {\n",
              "        text-align: right;\n",
              "    }\n",
              "</style>\n",
              "<table border=\"1\" class=\"dataframe\">\n",
              "  <thead>\n",
              "    <tr style=\"text-align: right;\">\n",
              "      <th></th>\n",
              "      <th>Gender</th>\n",
              "      <th>Age</th>\n",
              "      <th>EstimatedSalary</th>\n",
              "      <th>Purchased</th>\n",
              "    </tr>\n",
              "  </thead>\n",
              "  <tbody>\n",
              "    <tr>\n",
              "      <th>0</th>\n",
              "      <td>Male</td>\n",
              "      <td>19</td>\n",
              "      <td>19000</td>\n",
              "      <td>0</td>\n",
              "    </tr>\n",
              "    <tr>\n",
              "      <th>1</th>\n",
              "      <td>Male</td>\n",
              "      <td>35</td>\n",
              "      <td>20000</td>\n",
              "      <td>0</td>\n",
              "    </tr>\n",
              "    <tr>\n",
              "      <th>2</th>\n",
              "      <td>Female</td>\n",
              "      <td>26</td>\n",
              "      <td>43000</td>\n",
              "      <td>0</td>\n",
              "    </tr>\n",
              "    <tr>\n",
              "      <th>3</th>\n",
              "      <td>Female</td>\n",
              "      <td>27</td>\n",
              "      <td>57000</td>\n",
              "      <td>0</td>\n",
              "    </tr>\n",
              "    <tr>\n",
              "      <th>4</th>\n",
              "      <td>Male</td>\n",
              "      <td>19</td>\n",
              "      <td>76000</td>\n",
              "      <td>0</td>\n",
              "    </tr>\n",
              "  </tbody>\n",
              "</table>\n",
              "</div>"
            ],
            "text/plain": [
              "   Gender  Age  EstimatedSalary  Purchased\n",
              "0    Male   19            19000          0\n",
              "1    Male   35            20000          0\n",
              "2  Female   26            43000          0\n",
              "3  Female   27            57000          0\n",
              "4    Male   19            76000          0"
            ]
          },
          "metadata": {
            "tags": []
          },
          "execution_count": 5
        }
      ]
    },
    {
      "cell_type": "markdown",
      "metadata": {
        "id": "6XxZrxtkCiZb"
      },
      "source": [
        "**Encoding**"
      ]
    },
    {
      "cell_type": "code",
      "metadata": {
        "id": "1ySVCnJNCigr"
      },
      "source": [
        "LE = LabelEncoder()"
      ],
      "execution_count": 6,
      "outputs": []
    },
    {
      "cell_type": "code",
      "metadata": {
        "id": "UXDMjTDXECMM"
      },
      "source": [
        "df['Gender'] = LE.fit_transform(df.Gender)"
      ],
      "execution_count": 7,
      "outputs": []
    },
    {
      "cell_type": "code",
      "metadata": {
        "colab": {
          "base_uri": "https://localhost:8080/",
          "height": 204
        },
        "id": "GB8c10SmECOO",
        "outputId": "f9849573-417c-410b-aaaa-eda8aa42b0d9"
      },
      "source": [
        "df.head()"
      ],
      "execution_count": 8,
      "outputs": [
        {
          "output_type": "execute_result",
          "data": {
            "text/html": [
              "<div>\n",
              "<style scoped>\n",
              "    .dataframe tbody tr th:only-of-type {\n",
              "        vertical-align: middle;\n",
              "    }\n",
              "\n",
              "    .dataframe tbody tr th {\n",
              "        vertical-align: top;\n",
              "    }\n",
              "\n",
              "    .dataframe thead th {\n",
              "        text-align: right;\n",
              "    }\n",
              "</style>\n",
              "<table border=\"1\" class=\"dataframe\">\n",
              "  <thead>\n",
              "    <tr style=\"text-align: right;\">\n",
              "      <th></th>\n",
              "      <th>Gender</th>\n",
              "      <th>Age</th>\n",
              "      <th>EstimatedSalary</th>\n",
              "      <th>Purchased</th>\n",
              "    </tr>\n",
              "  </thead>\n",
              "  <tbody>\n",
              "    <tr>\n",
              "      <th>0</th>\n",
              "      <td>1</td>\n",
              "      <td>19</td>\n",
              "      <td>19000</td>\n",
              "      <td>0</td>\n",
              "    </tr>\n",
              "    <tr>\n",
              "      <th>1</th>\n",
              "      <td>1</td>\n",
              "      <td>35</td>\n",
              "      <td>20000</td>\n",
              "      <td>0</td>\n",
              "    </tr>\n",
              "    <tr>\n",
              "      <th>2</th>\n",
              "      <td>0</td>\n",
              "      <td>26</td>\n",
              "      <td>43000</td>\n",
              "      <td>0</td>\n",
              "    </tr>\n",
              "    <tr>\n",
              "      <th>3</th>\n",
              "      <td>0</td>\n",
              "      <td>27</td>\n",
              "      <td>57000</td>\n",
              "      <td>0</td>\n",
              "    </tr>\n",
              "    <tr>\n",
              "      <th>4</th>\n",
              "      <td>1</td>\n",
              "      <td>19</td>\n",
              "      <td>76000</td>\n",
              "      <td>0</td>\n",
              "    </tr>\n",
              "  </tbody>\n",
              "</table>\n",
              "</div>"
            ],
            "text/plain": [
              "   Gender  Age  EstimatedSalary  Purchased\n",
              "0       1   19            19000          0\n",
              "1       1   35            20000          0\n",
              "2       0   26            43000          0\n",
              "3       0   27            57000          0\n",
              "4       1   19            76000          0"
            ]
          },
          "metadata": {
            "tags": []
          },
          "execution_count": 8
        }
      ]
    },
    {
      "cell_type": "markdown",
      "metadata": {
        "id": "9Thl3lvkn9Kr"
      },
      "source": [
        "**Splitting the dataset into the Training set and Test set**"
      ]
    },
    {
      "cell_type": "code",
      "metadata": {
        "id": "76h0CH6dySIe"
      },
      "source": [
        "data = pd.read_csv(\"Social_Network_Ads.csv\")\n",
        "df = data.copy()"
      ],
      "execution_count": 9,
      "outputs": []
    },
    {
      "cell_type": "markdown",
      "metadata": {
        "id": "3oUnBIg5ySIf"
      },
      "source": [
        "**EDA**"
      ]
    },
    {
      "cell_type": "code",
      "metadata": {
        "colab": {
          "base_uri": "https://localhost:8080/",
          "height": 204
        },
        "id": "TvXHDrUpySIf",
        "outputId": "2429675a-fac5-4cbe-ec8a-a58828ad5b0e"
      },
      "source": [
        "df.head()"
      ],
      "execution_count": 10,
      "outputs": [
        {
          "output_type": "execute_result",
          "data": {
            "text/html": [
              "<div>\n",
              "<style scoped>\n",
              "    .dataframe tbody tr th:only-of-type {\n",
              "        vertical-align: middle;\n",
              "    }\n",
              "\n",
              "    .dataframe tbody tr th {\n",
              "        vertical-align: top;\n",
              "    }\n",
              "\n",
              "    .dataframe thead th {\n",
              "        text-align: right;\n",
              "    }\n",
              "</style>\n",
              "<table border=\"1\" class=\"dataframe\">\n",
              "  <thead>\n",
              "    <tr style=\"text-align: right;\">\n",
              "      <th></th>\n",
              "      <th>User ID</th>\n",
              "      <th>Gender</th>\n",
              "      <th>Age</th>\n",
              "      <th>EstimatedSalary</th>\n",
              "      <th>Purchased</th>\n",
              "    </tr>\n",
              "  </thead>\n",
              "  <tbody>\n",
              "    <tr>\n",
              "      <th>0</th>\n",
              "      <td>15624510</td>\n",
              "      <td>Male</td>\n",
              "      <td>19</td>\n",
              "      <td>19000</td>\n",
              "      <td>0</td>\n",
              "    </tr>\n",
              "    <tr>\n",
              "      <th>1</th>\n",
              "      <td>15810944</td>\n",
              "      <td>Male</td>\n",
              "      <td>35</td>\n",
              "      <td>20000</td>\n",
              "      <td>0</td>\n",
              "    </tr>\n",
              "    <tr>\n",
              "      <th>2</th>\n",
              "      <td>15668575</td>\n",
              "      <td>Female</td>\n",
              "      <td>26</td>\n",
              "      <td>43000</td>\n",
              "      <td>0</td>\n",
              "    </tr>\n",
              "    <tr>\n",
              "      <th>3</th>\n",
              "      <td>15603246</td>\n",
              "      <td>Female</td>\n",
              "      <td>27</td>\n",
              "      <td>57000</td>\n",
              "      <td>0</td>\n",
              "    </tr>\n",
              "    <tr>\n",
              "      <th>4</th>\n",
              "      <td>15804002</td>\n",
              "      <td>Male</td>\n",
              "      <td>19</td>\n",
              "      <td>76000</td>\n",
              "      <td>0</td>\n",
              "    </tr>\n",
              "  </tbody>\n",
              "</table>\n",
              "</div>"
            ],
            "text/plain": [
              "    User ID  Gender  Age  EstimatedSalary  Purchased\n",
              "0  15624510    Male   19            19000          0\n",
              "1  15810944    Male   35            20000          0\n",
              "2  15668575  Female   26            43000          0\n",
              "3  15603246  Female   27            57000          0\n",
              "4  15804002    Male   19            76000          0"
            ]
          },
          "metadata": {
            "tags": []
          },
          "execution_count": 10
        }
      ]
    },
    {
      "cell_type": "code",
      "metadata": {
        "id": "n8mn9mnVySIg"
      },
      "source": [
        "df = df.drop('User ID', axis=1)"
      ],
      "execution_count": 11,
      "outputs": []
    },
    {
      "cell_type": "code",
      "metadata": {
        "colab": {
          "base_uri": "https://localhost:8080/",
          "height": 204
        },
        "id": "CRWheFnyySIg",
        "outputId": "7e41b713-b9b8-4465-db62-a064c52cbadd"
      },
      "source": [
        "df.head()"
      ],
      "execution_count": 12,
      "outputs": [
        {
          "output_type": "execute_result",
          "data": {
            "text/html": [
              "<div>\n",
              "<style scoped>\n",
              "    .dataframe tbody tr th:only-of-type {\n",
              "        vertical-align: middle;\n",
              "    }\n",
              "\n",
              "    .dataframe tbody tr th {\n",
              "        vertical-align: top;\n",
              "    }\n",
              "\n",
              "    .dataframe thead th {\n",
              "        text-align: right;\n",
              "    }\n",
              "</style>\n",
              "<table border=\"1\" class=\"dataframe\">\n",
              "  <thead>\n",
              "    <tr style=\"text-align: right;\">\n",
              "      <th></th>\n",
              "      <th>Gender</th>\n",
              "      <th>Age</th>\n",
              "      <th>EstimatedSalary</th>\n",
              "      <th>Purchased</th>\n",
              "    </tr>\n",
              "  </thead>\n",
              "  <tbody>\n",
              "    <tr>\n",
              "      <th>0</th>\n",
              "      <td>Male</td>\n",
              "      <td>19</td>\n",
              "      <td>19000</td>\n",
              "      <td>0</td>\n",
              "    </tr>\n",
              "    <tr>\n",
              "      <th>1</th>\n",
              "      <td>Male</td>\n",
              "      <td>35</td>\n",
              "      <td>20000</td>\n",
              "      <td>0</td>\n",
              "    </tr>\n",
              "    <tr>\n",
              "      <th>2</th>\n",
              "      <td>Female</td>\n",
              "      <td>26</td>\n",
              "      <td>43000</td>\n",
              "      <td>0</td>\n",
              "    </tr>\n",
              "    <tr>\n",
              "      <th>3</th>\n",
              "      <td>Female</td>\n",
              "      <td>27</td>\n",
              "      <td>57000</td>\n",
              "      <td>0</td>\n",
              "    </tr>\n",
              "    <tr>\n",
              "      <th>4</th>\n",
              "      <td>Male</td>\n",
              "      <td>19</td>\n",
              "      <td>76000</td>\n",
              "      <td>0</td>\n",
              "    </tr>\n",
              "  </tbody>\n",
              "</table>\n",
              "</div>"
            ],
            "text/plain": [
              "   Gender  Age  EstimatedSalary  Purchased\n",
              "0    Male   19            19000          0\n",
              "1    Male   35            20000          0\n",
              "2  Female   26            43000          0\n",
              "3  Female   27            57000          0\n",
              "4    Male   19            76000          0"
            ]
          },
          "metadata": {
            "tags": []
          },
          "execution_count": 12
        }
      ]
    },
    {
      "cell_type": "markdown",
      "metadata": {
        "id": "ZlQJOFDiySIg"
      },
      "source": [
        "**Encoding**"
      ]
    },
    {
      "cell_type": "code",
      "metadata": {
        "id": "Mc0IoViEySIg"
      },
      "source": [
        "LE = LabelEncoder()"
      ],
      "execution_count": 13,
      "outputs": []
    },
    {
      "cell_type": "code",
      "metadata": {
        "id": "rjadjepbySIg"
      },
      "source": [
        "df['Gender'] = LE.fit_transform(df.Gender)"
      ],
      "execution_count": 14,
      "outputs": []
    },
    {
      "cell_type": "code",
      "metadata": {
        "colab": {
          "base_uri": "https://localhost:8080/",
          "height": 204
        },
        "id": "Ddebwl_FySIg",
        "outputId": "862e664e-00a8-4d8a-cc2d-f717ca22b0c0"
      },
      "source": [
        "df.head()"
      ],
      "execution_count": 15,
      "outputs": [
        {
          "output_type": "execute_result",
          "data": {
            "text/html": [
              "<div>\n",
              "<style scoped>\n",
              "    .dataframe tbody tr th:only-of-type {\n",
              "        vertical-align: middle;\n",
              "    }\n",
              "\n",
              "    .dataframe tbody tr th {\n",
              "        vertical-align: top;\n",
              "    }\n",
              "\n",
              "    .dataframe thead th {\n",
              "        text-align: right;\n",
              "    }\n",
              "</style>\n",
              "<table border=\"1\" class=\"dataframe\">\n",
              "  <thead>\n",
              "    <tr style=\"text-align: right;\">\n",
              "      <th></th>\n",
              "      <th>Gender</th>\n",
              "      <th>Age</th>\n",
              "      <th>EstimatedSalary</th>\n",
              "      <th>Purchased</th>\n",
              "    </tr>\n",
              "  </thead>\n",
              "  <tbody>\n",
              "    <tr>\n",
              "      <th>0</th>\n",
              "      <td>1</td>\n",
              "      <td>19</td>\n",
              "      <td>19000</td>\n",
              "      <td>0</td>\n",
              "    </tr>\n",
              "    <tr>\n",
              "      <th>1</th>\n",
              "      <td>1</td>\n",
              "      <td>35</td>\n",
              "      <td>20000</td>\n",
              "      <td>0</td>\n",
              "    </tr>\n",
              "    <tr>\n",
              "      <th>2</th>\n",
              "      <td>0</td>\n",
              "      <td>26</td>\n",
              "      <td>43000</td>\n",
              "      <td>0</td>\n",
              "    </tr>\n",
              "    <tr>\n",
              "      <th>3</th>\n",
              "      <td>0</td>\n",
              "      <td>27</td>\n",
              "      <td>57000</td>\n",
              "      <td>0</td>\n",
              "    </tr>\n",
              "    <tr>\n",
              "      <th>4</th>\n",
              "      <td>1</td>\n",
              "      <td>19</td>\n",
              "      <td>76000</td>\n",
              "      <td>0</td>\n",
              "    </tr>\n",
              "  </tbody>\n",
              "</table>\n",
              "</div>"
            ],
            "text/plain": [
              "   Gender  Age  EstimatedSalary  Purchased\n",
              "0       1   19            19000          0\n",
              "1       1   35            20000          0\n",
              "2       0   26            43000          0\n",
              "3       0   27            57000          0\n",
              "4       1   19            76000          0"
            ]
          },
          "metadata": {
            "tags": []
          },
          "execution_count": 15
        }
      ]
    },
    {
      "cell_type": "code",
      "metadata": {
        "colab": {
          "base_uri": "https://localhost:8080/",
          "height": 419
        },
        "id": "_GHVGupEEUeV",
        "outputId": "3247a335-926a-48f8-f77a-fcb098756778"
      },
      "source": [
        "X = df.iloc[:,:-1]\n",
        "X"
      ],
      "execution_count": 16,
      "outputs": [
        {
          "output_type": "execute_result",
          "data": {
            "text/html": [
              "<div>\n",
              "<style scoped>\n",
              "    .dataframe tbody tr th:only-of-type {\n",
              "        vertical-align: middle;\n",
              "    }\n",
              "\n",
              "    .dataframe tbody tr th {\n",
              "        vertical-align: top;\n",
              "    }\n",
              "\n",
              "    .dataframe thead th {\n",
              "        text-align: right;\n",
              "    }\n",
              "</style>\n",
              "<table border=\"1\" class=\"dataframe\">\n",
              "  <thead>\n",
              "    <tr style=\"text-align: right;\">\n",
              "      <th></th>\n",
              "      <th>Gender</th>\n",
              "      <th>Age</th>\n",
              "      <th>EstimatedSalary</th>\n",
              "    </tr>\n",
              "  </thead>\n",
              "  <tbody>\n",
              "    <tr>\n",
              "      <th>0</th>\n",
              "      <td>1</td>\n",
              "      <td>19</td>\n",
              "      <td>19000</td>\n",
              "    </tr>\n",
              "    <tr>\n",
              "      <th>1</th>\n",
              "      <td>1</td>\n",
              "      <td>35</td>\n",
              "      <td>20000</td>\n",
              "    </tr>\n",
              "    <tr>\n",
              "      <th>2</th>\n",
              "      <td>0</td>\n",
              "      <td>26</td>\n",
              "      <td>43000</td>\n",
              "    </tr>\n",
              "    <tr>\n",
              "      <th>3</th>\n",
              "      <td>0</td>\n",
              "      <td>27</td>\n",
              "      <td>57000</td>\n",
              "    </tr>\n",
              "    <tr>\n",
              "      <th>4</th>\n",
              "      <td>1</td>\n",
              "      <td>19</td>\n",
              "      <td>76000</td>\n",
              "    </tr>\n",
              "    <tr>\n",
              "      <th>...</th>\n",
              "      <td>...</td>\n",
              "      <td>...</td>\n",
              "      <td>...</td>\n",
              "    </tr>\n",
              "    <tr>\n",
              "      <th>395</th>\n",
              "      <td>0</td>\n",
              "      <td>46</td>\n",
              "      <td>41000</td>\n",
              "    </tr>\n",
              "    <tr>\n",
              "      <th>396</th>\n",
              "      <td>1</td>\n",
              "      <td>51</td>\n",
              "      <td>23000</td>\n",
              "    </tr>\n",
              "    <tr>\n",
              "      <th>397</th>\n",
              "      <td>0</td>\n",
              "      <td>50</td>\n",
              "      <td>20000</td>\n",
              "    </tr>\n",
              "    <tr>\n",
              "      <th>398</th>\n",
              "      <td>1</td>\n",
              "      <td>36</td>\n",
              "      <td>33000</td>\n",
              "    </tr>\n",
              "    <tr>\n",
              "      <th>399</th>\n",
              "      <td>0</td>\n",
              "      <td>49</td>\n",
              "      <td>36000</td>\n",
              "    </tr>\n",
              "  </tbody>\n",
              "</table>\n",
              "<p>400 rows × 3 columns</p>\n",
              "</div>"
            ],
            "text/plain": [
              "     Gender  Age  EstimatedSalary\n",
              "0         1   19            19000\n",
              "1         1   35            20000\n",
              "2         0   26            43000\n",
              "3         0   27            57000\n",
              "4         1   19            76000\n",
              "..      ...  ...              ...\n",
              "395       0   46            41000\n",
              "396       1   51            23000\n",
              "397       0   50            20000\n",
              "398       1   36            33000\n",
              "399       0   49            36000\n",
              "\n",
              "[400 rows x 3 columns]"
            ]
          },
          "metadata": {
            "tags": []
          },
          "execution_count": 16
        }
      ]
    },
    {
      "cell_type": "code",
      "metadata": {
        "colab": {
          "base_uri": "https://localhost:8080/"
        },
        "id": "fp6cyVFpEUkR",
        "outputId": "2e950dc8-b5a5-4e94-87cf-5bf2a90b6806"
      },
      "source": [
        "y = df.iloc[:, -1]\n",
        "y"
      ],
      "execution_count": 17,
      "outputs": [
        {
          "output_type": "execute_result",
          "data": {
            "text/plain": [
              "0      0\n",
              "1      0\n",
              "2      0\n",
              "3      0\n",
              "4      0\n",
              "      ..\n",
              "395    1\n",
              "396    1\n",
              "397    1\n",
              "398    0\n",
              "399    1\n",
              "Name: Purchased, Length: 400, dtype: int64"
            ]
          },
          "metadata": {
            "tags": []
          },
          "execution_count": 17
        }
      ]
    },
    {
      "cell_type": "code",
      "metadata": {
        "id": "o9msgi0sj72h",
        "colab": {
          "base_uri": "https://localhost:8080/"
        },
        "outputId": "03a32063-f86c-4022-d2b3-3fa5c90df04c"
      },
      "source": [
        "X_train, X_test, y_train, y_test = train_test_split(X, y, test_size = 0.20, random_state=1)\n",
        "print(f'X Train:\\n{X_train}\\n')\n",
        "print(f'X Test:\\n{X_test}\\n')\n",
        "print(f'Y Train:\\n{y_train}\\n')\n",
        "print(f'Y Test:\\n{y_test}\\n')"
      ],
      "execution_count": 18,
      "outputs": [
        {
          "output_type": "stream",
          "text": [
            "X Train:\n",
            "     Gender  Age  EstimatedSalary\n",
            "93        0   29            28000\n",
            "23        0   45            22000\n",
            "299       1   46           117000\n",
            "13        1   32            18000\n",
            "90        1   22            81000\n",
            "..      ...  ...              ...\n",
            "255       0   52            90000\n",
            "72        0   20            23000\n",
            "396       1   51            23000\n",
            "235       1   46            79000\n",
            "37        1   30            49000\n",
            "\n",
            "[320 rows x 3 columns]\n",
            "\n",
            "X Test:\n",
            "     Gender  Age  EstimatedSalary\n",
            "398       1   36            33000\n",
            "125       0   39            61000\n",
            "328       1   36           118000\n",
            "339       1   39           122000\n",
            "172       0   26           118000\n",
            "..      ...  ...              ...\n",
            "347       0   54           108000\n",
            "41        0   33            51000\n",
            "180       1   26            16000\n",
            "132       1   30            87000\n",
            "224       0   35            60000\n",
            "\n",
            "[80 rows x 3 columns]\n",
            "\n",
            "Y Train:\n",
            "93     0\n",
            "23     1\n",
            "299    1\n",
            "13     0\n",
            "90     0\n",
            "      ..\n",
            "255    1\n",
            "72     0\n",
            "396    1\n",
            "235    1\n",
            "37     0\n",
            "Name: Purchased, Length: 320, dtype: int64\n",
            "\n",
            "Y Test:\n",
            "398    0\n",
            "125    0\n",
            "328    1\n",
            "339    1\n",
            "172    0\n",
            "      ..\n",
            "347    1\n",
            "41     0\n",
            "180    0\n",
            "132    0\n",
            "224    0\n",
            "Name: Purchased, Length: 80, dtype: int64\n",
            "\n"
          ],
          "name": "stdout"
        }
      ]
    },
    {
      "cell_type": "markdown",
      "metadata": {
        "id": "XNNxUncRoG6K"
      },
      "source": [
        "**Feature Scaling**"
      ]
    },
    {
      "cell_type": "code",
      "metadata": {
        "id": "5Sv7rc7dyVXF"
      },
      "source": [
        "data = pd.read_csv(\"Social_Network_Ads.csv\")\n",
        "df = data.copy()"
      ],
      "execution_count": 19,
      "outputs": []
    },
    {
      "cell_type": "markdown",
      "metadata": {
        "id": "iT0C2s_3yVXG"
      },
      "source": [
        "**EDA**"
      ]
    },
    {
      "cell_type": "code",
      "metadata": {
        "colab": {
          "base_uri": "https://localhost:8080/",
          "height": 204
        },
        "id": "9k9nC4wwyVXG",
        "outputId": "0eae1a1a-5240-46f4-942a-c7c17b553d01"
      },
      "source": [
        "df.head()"
      ],
      "execution_count": 20,
      "outputs": [
        {
          "output_type": "execute_result",
          "data": {
            "text/html": [
              "<div>\n",
              "<style scoped>\n",
              "    .dataframe tbody tr th:only-of-type {\n",
              "        vertical-align: middle;\n",
              "    }\n",
              "\n",
              "    .dataframe tbody tr th {\n",
              "        vertical-align: top;\n",
              "    }\n",
              "\n",
              "    .dataframe thead th {\n",
              "        text-align: right;\n",
              "    }\n",
              "</style>\n",
              "<table border=\"1\" class=\"dataframe\">\n",
              "  <thead>\n",
              "    <tr style=\"text-align: right;\">\n",
              "      <th></th>\n",
              "      <th>User ID</th>\n",
              "      <th>Gender</th>\n",
              "      <th>Age</th>\n",
              "      <th>EstimatedSalary</th>\n",
              "      <th>Purchased</th>\n",
              "    </tr>\n",
              "  </thead>\n",
              "  <tbody>\n",
              "    <tr>\n",
              "      <th>0</th>\n",
              "      <td>15624510</td>\n",
              "      <td>Male</td>\n",
              "      <td>19</td>\n",
              "      <td>19000</td>\n",
              "      <td>0</td>\n",
              "    </tr>\n",
              "    <tr>\n",
              "      <th>1</th>\n",
              "      <td>15810944</td>\n",
              "      <td>Male</td>\n",
              "      <td>35</td>\n",
              "      <td>20000</td>\n",
              "      <td>0</td>\n",
              "    </tr>\n",
              "    <tr>\n",
              "      <th>2</th>\n",
              "      <td>15668575</td>\n",
              "      <td>Female</td>\n",
              "      <td>26</td>\n",
              "      <td>43000</td>\n",
              "      <td>0</td>\n",
              "    </tr>\n",
              "    <tr>\n",
              "      <th>3</th>\n",
              "      <td>15603246</td>\n",
              "      <td>Female</td>\n",
              "      <td>27</td>\n",
              "      <td>57000</td>\n",
              "      <td>0</td>\n",
              "    </tr>\n",
              "    <tr>\n",
              "      <th>4</th>\n",
              "      <td>15804002</td>\n",
              "      <td>Male</td>\n",
              "      <td>19</td>\n",
              "      <td>76000</td>\n",
              "      <td>0</td>\n",
              "    </tr>\n",
              "  </tbody>\n",
              "</table>\n",
              "</div>"
            ],
            "text/plain": [
              "    User ID  Gender  Age  EstimatedSalary  Purchased\n",
              "0  15624510    Male   19            19000          0\n",
              "1  15810944    Male   35            20000          0\n",
              "2  15668575  Female   26            43000          0\n",
              "3  15603246  Female   27            57000          0\n",
              "4  15804002    Male   19            76000          0"
            ]
          },
          "metadata": {
            "tags": []
          },
          "execution_count": 20
        }
      ]
    },
    {
      "cell_type": "code",
      "metadata": {
        "id": "PlURK1igyVXG"
      },
      "source": [
        "df = df.drop('User ID', axis=1)"
      ],
      "execution_count": 21,
      "outputs": []
    },
    {
      "cell_type": "code",
      "metadata": {
        "colab": {
          "base_uri": "https://localhost:8080/",
          "height": 204
        },
        "id": "Lj52SkzJyVXG",
        "outputId": "14225cdf-2a23-4feb-ef87-e96128d86e59"
      },
      "source": [
        "df.head()"
      ],
      "execution_count": 22,
      "outputs": [
        {
          "output_type": "execute_result",
          "data": {
            "text/html": [
              "<div>\n",
              "<style scoped>\n",
              "    .dataframe tbody tr th:only-of-type {\n",
              "        vertical-align: middle;\n",
              "    }\n",
              "\n",
              "    .dataframe tbody tr th {\n",
              "        vertical-align: top;\n",
              "    }\n",
              "\n",
              "    .dataframe thead th {\n",
              "        text-align: right;\n",
              "    }\n",
              "</style>\n",
              "<table border=\"1\" class=\"dataframe\">\n",
              "  <thead>\n",
              "    <tr style=\"text-align: right;\">\n",
              "      <th></th>\n",
              "      <th>Gender</th>\n",
              "      <th>Age</th>\n",
              "      <th>EstimatedSalary</th>\n",
              "      <th>Purchased</th>\n",
              "    </tr>\n",
              "  </thead>\n",
              "  <tbody>\n",
              "    <tr>\n",
              "      <th>0</th>\n",
              "      <td>Male</td>\n",
              "      <td>19</td>\n",
              "      <td>19000</td>\n",
              "      <td>0</td>\n",
              "    </tr>\n",
              "    <tr>\n",
              "      <th>1</th>\n",
              "      <td>Male</td>\n",
              "      <td>35</td>\n",
              "      <td>20000</td>\n",
              "      <td>0</td>\n",
              "    </tr>\n",
              "    <tr>\n",
              "      <th>2</th>\n",
              "      <td>Female</td>\n",
              "      <td>26</td>\n",
              "      <td>43000</td>\n",
              "      <td>0</td>\n",
              "    </tr>\n",
              "    <tr>\n",
              "      <th>3</th>\n",
              "      <td>Female</td>\n",
              "      <td>27</td>\n",
              "      <td>57000</td>\n",
              "      <td>0</td>\n",
              "    </tr>\n",
              "    <tr>\n",
              "      <th>4</th>\n",
              "      <td>Male</td>\n",
              "      <td>19</td>\n",
              "      <td>76000</td>\n",
              "      <td>0</td>\n",
              "    </tr>\n",
              "  </tbody>\n",
              "</table>\n",
              "</div>"
            ],
            "text/plain": [
              "   Gender  Age  EstimatedSalary  Purchased\n",
              "0    Male   19            19000          0\n",
              "1    Male   35            20000          0\n",
              "2  Female   26            43000          0\n",
              "3  Female   27            57000          0\n",
              "4    Male   19            76000          0"
            ]
          },
          "metadata": {
            "tags": []
          },
          "execution_count": 22
        }
      ]
    },
    {
      "cell_type": "markdown",
      "metadata": {
        "id": "8ZgtkTI4yVXG"
      },
      "source": [
        "**Encoding**"
      ]
    },
    {
      "cell_type": "code",
      "metadata": {
        "id": "1ksoQe1WyVXH"
      },
      "source": [
        "LE = LabelEncoder()"
      ],
      "execution_count": 23,
      "outputs": []
    },
    {
      "cell_type": "code",
      "metadata": {
        "id": "g9QfjsBRyVXH"
      },
      "source": [
        "df['Gender'] = LE.fit_transform(df.Gender)"
      ],
      "execution_count": 24,
      "outputs": []
    },
    {
      "cell_type": "code",
      "metadata": {
        "colab": {
          "base_uri": "https://localhost:8080/",
          "height": 204
        },
        "id": "QoX4tgvsyVXH",
        "outputId": "59139fe6-8bbc-41e8-e317-8af2e21b486d"
      },
      "source": [
        "df.head()"
      ],
      "execution_count": 25,
      "outputs": [
        {
          "output_type": "execute_result",
          "data": {
            "text/html": [
              "<div>\n",
              "<style scoped>\n",
              "    .dataframe tbody tr th:only-of-type {\n",
              "        vertical-align: middle;\n",
              "    }\n",
              "\n",
              "    .dataframe tbody tr th {\n",
              "        vertical-align: top;\n",
              "    }\n",
              "\n",
              "    .dataframe thead th {\n",
              "        text-align: right;\n",
              "    }\n",
              "</style>\n",
              "<table border=\"1\" class=\"dataframe\">\n",
              "  <thead>\n",
              "    <tr style=\"text-align: right;\">\n",
              "      <th></th>\n",
              "      <th>Gender</th>\n",
              "      <th>Age</th>\n",
              "      <th>EstimatedSalary</th>\n",
              "      <th>Purchased</th>\n",
              "    </tr>\n",
              "  </thead>\n",
              "  <tbody>\n",
              "    <tr>\n",
              "      <th>0</th>\n",
              "      <td>1</td>\n",
              "      <td>19</td>\n",
              "      <td>19000</td>\n",
              "      <td>0</td>\n",
              "    </tr>\n",
              "    <tr>\n",
              "      <th>1</th>\n",
              "      <td>1</td>\n",
              "      <td>35</td>\n",
              "      <td>20000</td>\n",
              "      <td>0</td>\n",
              "    </tr>\n",
              "    <tr>\n",
              "      <th>2</th>\n",
              "      <td>0</td>\n",
              "      <td>26</td>\n",
              "      <td>43000</td>\n",
              "      <td>0</td>\n",
              "    </tr>\n",
              "    <tr>\n",
              "      <th>3</th>\n",
              "      <td>0</td>\n",
              "      <td>27</td>\n",
              "      <td>57000</td>\n",
              "      <td>0</td>\n",
              "    </tr>\n",
              "    <tr>\n",
              "      <th>4</th>\n",
              "      <td>1</td>\n",
              "      <td>19</td>\n",
              "      <td>76000</td>\n",
              "      <td>0</td>\n",
              "    </tr>\n",
              "  </tbody>\n",
              "</table>\n",
              "</div>"
            ],
            "text/plain": [
              "   Gender  Age  EstimatedSalary  Purchased\n",
              "0       1   19            19000          0\n",
              "1       1   35            20000          0\n",
              "2       0   26            43000          0\n",
              "3       0   27            57000          0\n",
              "4       1   19            76000          0"
            ]
          },
          "metadata": {
            "tags": []
          },
          "execution_count": 25
        }
      ]
    },
    {
      "cell_type": "code",
      "metadata": {
        "colab": {
          "base_uri": "https://localhost:8080/",
          "height": 419
        },
        "id": "WuEiDYVwyVXH",
        "outputId": "911d9ddc-c9ba-496c-d071-e35dbb9aac9c"
      },
      "source": [
        "X = df.iloc[:,:-1]\n",
        "X"
      ],
      "execution_count": 26,
      "outputs": [
        {
          "output_type": "execute_result",
          "data": {
            "text/html": [
              "<div>\n",
              "<style scoped>\n",
              "    .dataframe tbody tr th:only-of-type {\n",
              "        vertical-align: middle;\n",
              "    }\n",
              "\n",
              "    .dataframe tbody tr th {\n",
              "        vertical-align: top;\n",
              "    }\n",
              "\n",
              "    .dataframe thead th {\n",
              "        text-align: right;\n",
              "    }\n",
              "</style>\n",
              "<table border=\"1\" class=\"dataframe\">\n",
              "  <thead>\n",
              "    <tr style=\"text-align: right;\">\n",
              "      <th></th>\n",
              "      <th>Gender</th>\n",
              "      <th>Age</th>\n",
              "      <th>EstimatedSalary</th>\n",
              "    </tr>\n",
              "  </thead>\n",
              "  <tbody>\n",
              "    <tr>\n",
              "      <th>0</th>\n",
              "      <td>1</td>\n",
              "      <td>19</td>\n",
              "      <td>19000</td>\n",
              "    </tr>\n",
              "    <tr>\n",
              "      <th>1</th>\n",
              "      <td>1</td>\n",
              "      <td>35</td>\n",
              "      <td>20000</td>\n",
              "    </tr>\n",
              "    <tr>\n",
              "      <th>2</th>\n",
              "      <td>0</td>\n",
              "      <td>26</td>\n",
              "      <td>43000</td>\n",
              "    </tr>\n",
              "    <tr>\n",
              "      <th>3</th>\n",
              "      <td>0</td>\n",
              "      <td>27</td>\n",
              "      <td>57000</td>\n",
              "    </tr>\n",
              "    <tr>\n",
              "      <th>4</th>\n",
              "      <td>1</td>\n",
              "      <td>19</td>\n",
              "      <td>76000</td>\n",
              "    </tr>\n",
              "    <tr>\n",
              "      <th>...</th>\n",
              "      <td>...</td>\n",
              "      <td>...</td>\n",
              "      <td>...</td>\n",
              "    </tr>\n",
              "    <tr>\n",
              "      <th>395</th>\n",
              "      <td>0</td>\n",
              "      <td>46</td>\n",
              "      <td>41000</td>\n",
              "    </tr>\n",
              "    <tr>\n",
              "      <th>396</th>\n",
              "      <td>1</td>\n",
              "      <td>51</td>\n",
              "      <td>23000</td>\n",
              "    </tr>\n",
              "    <tr>\n",
              "      <th>397</th>\n",
              "      <td>0</td>\n",
              "      <td>50</td>\n",
              "      <td>20000</td>\n",
              "    </tr>\n",
              "    <tr>\n",
              "      <th>398</th>\n",
              "      <td>1</td>\n",
              "      <td>36</td>\n",
              "      <td>33000</td>\n",
              "    </tr>\n",
              "    <tr>\n",
              "      <th>399</th>\n",
              "      <td>0</td>\n",
              "      <td>49</td>\n",
              "      <td>36000</td>\n",
              "    </tr>\n",
              "  </tbody>\n",
              "</table>\n",
              "<p>400 rows × 3 columns</p>\n",
              "</div>"
            ],
            "text/plain": [
              "     Gender  Age  EstimatedSalary\n",
              "0         1   19            19000\n",
              "1         1   35            20000\n",
              "2         0   26            43000\n",
              "3         0   27            57000\n",
              "4         1   19            76000\n",
              "..      ...  ...              ...\n",
              "395       0   46            41000\n",
              "396       1   51            23000\n",
              "397       0   50            20000\n",
              "398       1   36            33000\n",
              "399       0   49            36000\n",
              "\n",
              "[400 rows x 3 columns]"
            ]
          },
          "metadata": {
            "tags": []
          },
          "execution_count": 26
        }
      ]
    },
    {
      "cell_type": "code",
      "metadata": {
        "colab": {
          "base_uri": "https://localhost:8080/"
        },
        "id": "1Td1gqxkyVXI",
        "outputId": "3b445e89-9efa-41e8-821c-037b162340fc"
      },
      "source": [
        "y = df.iloc[:, -1]\n",
        "y"
      ],
      "execution_count": 27,
      "outputs": [
        {
          "output_type": "execute_result",
          "data": {
            "text/plain": [
              "0      0\n",
              "1      0\n",
              "2      0\n",
              "3      0\n",
              "4      0\n",
              "      ..\n",
              "395    1\n",
              "396    1\n",
              "397    1\n",
              "398    0\n",
              "399    1\n",
              "Name: Purchased, Length: 400, dtype: int64"
            ]
          },
          "metadata": {
            "tags": []
          },
          "execution_count": 27
        }
      ]
    },
    {
      "cell_type": "code",
      "metadata": {
        "colab": {
          "base_uri": "https://localhost:8080/"
        },
        "id": "l-gHW9J4yVXI",
        "outputId": "37574e02-bcde-4997-cec4-005d818f6489"
      },
      "source": [
        "X_train, X_test, y_train, y_test = train_test_split(X, y, test_size = 0.20, random_state=1)\n",
        "print(f'X Train:\\n{X_train}\\n')\n",
        "print(f'X Test:\\n{X_test}\\n')\n",
        "print(f'Y Train:\\n{y_train}\\n')\n",
        "print(f'Y Test:\\n{y_test}\\n')"
      ],
      "execution_count": 28,
      "outputs": [
        {
          "output_type": "stream",
          "text": [
            "X Train:\n",
            "     Gender  Age  EstimatedSalary\n",
            "93        0   29            28000\n",
            "23        0   45            22000\n",
            "299       1   46           117000\n",
            "13        1   32            18000\n",
            "90        1   22            81000\n",
            "..      ...  ...              ...\n",
            "255       0   52            90000\n",
            "72        0   20            23000\n",
            "396       1   51            23000\n",
            "235       1   46            79000\n",
            "37        1   30            49000\n",
            "\n",
            "[320 rows x 3 columns]\n",
            "\n",
            "X Test:\n",
            "     Gender  Age  EstimatedSalary\n",
            "398       1   36            33000\n",
            "125       0   39            61000\n",
            "328       1   36           118000\n",
            "339       1   39           122000\n",
            "172       0   26           118000\n",
            "..      ...  ...              ...\n",
            "347       0   54           108000\n",
            "41        0   33            51000\n",
            "180       1   26            16000\n",
            "132       1   30            87000\n",
            "224       0   35            60000\n",
            "\n",
            "[80 rows x 3 columns]\n",
            "\n",
            "Y Train:\n",
            "93     0\n",
            "23     1\n",
            "299    1\n",
            "13     0\n",
            "90     0\n",
            "      ..\n",
            "255    1\n",
            "72     0\n",
            "396    1\n",
            "235    1\n",
            "37     0\n",
            "Name: Purchased, Length: 320, dtype: int64\n",
            "\n",
            "Y Test:\n",
            "398    0\n",
            "125    0\n",
            "328    1\n",
            "339    1\n",
            "172    0\n",
            "      ..\n",
            "347    1\n",
            "41     0\n",
            "180    0\n",
            "132    0\n",
            "224    0\n",
            "Name: Purchased, Length: 80, dtype: int64\n",
            "\n"
          ],
          "name": "stdout"
        }
      ]
    },
    {
      "cell_type": "code",
      "metadata": {
        "id": "Xfifr6tlj77A"
      },
      "source": [
        "scaler = MinMaxScaler()"
      ],
      "execution_count": 29,
      "outputs": []
    },
    {
      "cell_type": "code",
      "metadata": {
        "colab": {
          "base_uri": "https://localhost:8080/"
        },
        "id": "V8D6K2JpFG3B",
        "outputId": "ebc871c5-1097-4f64-e4f1-f3803fff4668"
      },
      "source": [
        "scaler.fit(X_train)"
      ],
      "execution_count": 30,
      "outputs": [
        {
          "output_type": "execute_result",
          "data": {
            "text/plain": [
              "MinMaxScaler(copy=True, feature_range=(0, 1))"
            ]
          },
          "metadata": {
            "tags": []
          },
          "execution_count": 30
        }
      ]
    },
    {
      "cell_type": "code",
      "metadata": {
        "colab": {
          "base_uri": "https://localhost:8080/"
        },
        "id": "yURk6zp7GX3Y",
        "outputId": "44cd5c8f-b022-4a7e-a17b-3496a019618a"
      },
      "source": [
        "X_train = scaler.transform(X_train)\n",
        "X_train"
      ],
      "execution_count": 31,
      "outputs": [
        {
          "output_type": "execute_result",
          "data": {
            "text/plain": [
              "array([[0.        , 0.26190476, 0.0962963 ],\n",
              "       [0.        , 0.64285714, 0.05185185],\n",
              "       [1.        , 0.66666667, 0.75555556],\n",
              "       [1.        , 0.33333333, 0.02222222],\n",
              "       [1.        , 0.0952381 , 0.48888889],\n",
              "       [1.        , 0.16666667, 0.53333333],\n",
              "       [1.        , 0.71428571, 0.13333333],\n",
              "       [1.        , 0.4047619 , 0.31851852],\n",
              "       [1.        , 0.69047619, 0.05925926],\n",
              "       [1.        , 0.19047619, 0.12592593],\n",
              "       [0.        , 0.33333333, 0.88888889],\n",
              "       [1.        , 1.        , 0.14074074],\n",
              "       [0.        , 0.80952381, 0.04444444],\n",
              "       [0.        , 0.47619048, 0.2962963 ],\n",
              "       [1.        , 0.16666667, 0.55555556],\n",
              "       [0.        , 0.95238095, 0.17037037],\n",
              "       [1.        , 0.73809524, 0.54074074],\n",
              "       [0.        , 0.45238095, 0.46666667],\n",
              "       [0.        , 0.4047619 , 0.45925926],\n",
              "       [0.        , 0.38095238, 0.20740741],\n",
              "       [1.        , 0.04761905, 0.25185185],\n",
              "       [1.        , 0.66666667, 0.54074074],\n",
              "       [0.        , 0.30952381, 0.14074074],\n",
              "       [0.        , 0.69047619, 0.11111111],\n",
              "       [1.        , 0.4047619 , 0.25925926],\n",
              "       [1.        , 0.5       , 0.6       ],\n",
              "       [0.        , 0.35714286, 0.72592593],\n",
              "       [1.        , 0.73809524, 0.52592593],\n",
              "       [1.        , 0.64285714, 0.47407407],\n",
              "       [0.        , 0.61904762, 0.17777778],\n",
              "       [1.        , 0.54761905, 0.32592593],\n",
              "       [0.        , 0.57142857, 0.28148148],\n",
              "       [1.        , 0.4047619 , 0.42962963],\n",
              "       [0.        , 0.54761905, 0.42222222],\n",
              "       [0.        , 0.21428571, 0.6       ],\n",
              "       [0.        , 0.28571429, 0.74814815],\n",
              "       [1.        , 0.54761905, 0.27407407],\n",
              "       [1.        , 0.54761905, 0.27407407],\n",
              "       [0.        , 0.04761905, 0.4962963 ],\n",
              "       [0.        , 0.66666667, 0.19259259],\n",
              "       [0.        , 0.21428571, 0.11851852],\n",
              "       [0.        , 0.4047619 , 0.41481481],\n",
              "       [1.        , 0.73809524, 0.0962963 ],\n",
              "       [1.        , 0.4047619 , 0.56296296],\n",
              "       [1.        , 0.45238095, 0.44444444],\n",
              "       [0.        , 0.33333333, 0.75555556],\n",
              "       [0.        , 0.42857143, 0.44444444],\n",
              "       [1.        , 0.04761905, 0.52592593],\n",
              "       [0.        , 0.47619048, 0.25925926],\n",
              "       [0.        , 0.73809524, 0.15555556],\n",
              "       [1.        , 0.52380952, 0.37037037],\n",
              "       [1.        , 0.45238095, 0.45925926],\n",
              "       [0.        , 1.        , 0.22962963],\n",
              "       [0.        , 0.71428571, 0.91111111],\n",
              "       [1.        , 0.52380952, 0.41481481],\n",
              "       [0.        , 0.42857143, 0.35555556],\n",
              "       [1.        , 0.19047619, 0.48888889],\n",
              "       [1.        , 0.35714286, 0.11851852],\n",
              "       [0.        , 0.54761905, 0.26666667],\n",
              "       [0.        , 0.66666667, 0.43703704],\n",
              "       [1.        , 0.        , 0.4962963 ],\n",
              "       [0.        , 0.45238095, 0.13333333],\n",
              "       [1.        , 0.4047619 , 0.28148148],\n",
              "       [0.        , 0.23809524, 0.32592593],\n",
              "       [0.        , 0.45238095, 0.41481481],\n",
              "       [0.        , 0.        , 0.21481481],\n",
              "       [1.        , 0.47619048, 0.34074074],\n",
              "       [0.        , 0.4047619 , 0.37037037],\n",
              "       [1.        , 0.30952381, 0.37777778],\n",
              "       [1.        , 0.69047619, 0.07407407],\n",
              "       [1.        , 0.57142857, 0.65925926],\n",
              "       [1.        , 0.02380952, 0.02962963],\n",
              "       [1.        , 0.07142857, 0.42222222],\n",
              "       [1.        , 0.23809524, 0.12592593],\n",
              "       [1.        , 0.80952381, 1.        ],\n",
              "       [0.        , 0.83333333, 0.65925926],\n",
              "       [1.        , 0.16666667, 0.48148148],\n",
              "       [0.        , 0.19047619, 0.42222222],\n",
              "       [0.        , 0.19047619, 0.        ],\n",
              "       [0.        , 0.52380952, 0.94074074],\n",
              "       [1.        , 0.4047619 , 0.17037037],\n",
              "       [0.        , 0.92857143, 0.79259259],\n",
              "       [1.        , 0.54761905, 0.53333333],\n",
              "       [0.        , 0.14285714, 0.54814815],\n",
              "       [1.        , 0.45238095, 0.27407407],\n",
              "       [1.        , 0.4047619 , 0.68888889],\n",
              "       [1.        , 0.33333333, 0.62962963],\n",
              "       [0.        , 0.4047619 , 0.97777778],\n",
              "       [0.        , 0.02380952, 0.08148148],\n",
              "       [0.        , 0.66666667, 0.4962963 ],\n",
              "       [1.        , 0.69047619, 0.66666667],\n",
              "       [0.        , 0.64285714, 0.22222222],\n",
              "       [1.        , 0.47619048, 0.26666667],\n",
              "       [0.        , 0.45238095, 0.57777778],\n",
              "       [1.        , 0.26190476, 0.20740741],\n",
              "       [0.        , 0.54761905, 0.11111111],\n",
              "       [0.        , 0.52380952, 0.33333333],\n",
              "       [1.        , 0.21428571, 0.54074074],\n",
              "       [1.        , 0.21428571, 0.55555556],\n",
              "       [0.        , 0.5       , 0.41481481],\n",
              "       [0.        , 0.11904762, 0.0962963 ],\n",
              "       [0.        , 0.78571429, 0.97037037],\n",
              "       [1.        , 0.11904762, 0.35555556],\n",
              "       [0.        , 0.45238095, 0.48148148],\n",
              "       [1.        , 0.52380952, 0.23703704],\n",
              "       [0.        , 0.71428571, 0.1037037 ],\n",
              "       [1.        , 0.4047619 , 0.32592593],\n",
              "       [1.        , 0.19047619, 0.11111111],\n",
              "       [1.        , 0.5       , 0.67407407],\n",
              "       [0.        , 0.23809524, 0.51111111],\n",
              "       [0.        , 0.97619048, 0.45185185],\n",
              "       [1.        , 0.52380952, 0.31111111],\n",
              "       [0.        , 0.4047619 , 0.60740741],\n",
              "       [1.        , 0.19047619, 0.52592593],\n",
              "       [0.        , 0.54761905, 0.35555556],\n",
              "       [0.        , 0.26190476, 0.23703704],\n",
              "       [0.        , 0.19047619, 0.01481481],\n",
              "       [0.        , 0.95238095, 0.05925926],\n",
              "       [0.        , 0.28571429, 0.34814815],\n",
              "       [1.        , 0.16666667, 0.13333333],\n",
              "       [0.        , 0.97619048, 0.1037037 ],\n",
              "       [0.        , 0.23809524, 0.16296296],\n",
              "       [1.        , 0.5       , 0.45925926],\n",
              "       [0.        , 0.69047619, 0.68148148],\n",
              "       [0.        , 0.80952381, 0.91111111],\n",
              "       [1.        , 0.26190476, 0.20740741],\n",
              "       [0.        , 0.21428571, 0.9037037 ],\n",
              "       [0.        , 0.14285714, 0.2962963 ],\n",
              "       [0.        , 0.52380952, 0.42222222],\n",
              "       [0.        , 0.07142857, 0.00740741],\n",
              "       [0.        , 0.92857143, 0.08148148],\n",
              "       [1.        , 0.28571429, 0.88888889],\n",
              "       [0.        , 0.71428571, 0.77037037],\n",
              "       [1.        , 0.52380952, 0.31111111],\n",
              "       [1.        , 0.4047619 , 0.44444444],\n",
              "       [0.        , 0.23809524, 0.21481481],\n",
              "       [1.        , 0.45238095, 0.43703704],\n",
              "       [1.        , 0.4047619 , 0.08888889],\n",
              "       [1.        , 0.45238095, 0.47407407],\n",
              "       [1.        , 0.33333333, 0.77777778],\n",
              "       [1.        , 0.26190476, 0.44444444],\n",
              "       [1.        , 0.28571429, 0.01481481],\n",
              "       [1.        , 0.16666667, 0.47407407],\n",
              "       [1.        , 0.52380952, 0.68148148],\n",
              "       [1.        , 0.14285714, 0.02962963],\n",
              "       [0.        , 0.54761905, 0.42222222],\n",
              "       [1.        , 0.47619048, 0.34074074],\n",
              "       [1.        , 0.42857143, 0.95555556],\n",
              "       [1.        , 0.57142857, 0.36296296],\n",
              "       [1.        , 0.71428571, 0.13333333],\n",
              "       [0.        , 0.71428571, 0.11111111],\n",
              "       [1.        , 0.11904762, 0.03703704],\n",
              "       [0.        , 0.88095238, 0.85185185],\n",
              "       [1.        , 0.26190476, 0.98518519],\n",
              "       [1.        , 0.57142857, 0.37037037],\n",
              "       [0.        , 0.21428571, 0.28888889],\n",
              "       [1.        , 0.45238095, 0.2962963 ],\n",
              "       [1.        , 0.16666667, 0.05185185],\n",
              "       [1.        , 0.97619048, 0.94814815],\n",
              "       [1.        , 0.57142857, 0.28888889],\n",
              "       [0.        , 0.21428571, 0.01481481],\n",
              "       [0.        , 0.69047619, 0.25185185],\n",
              "       [1.        , 0.23809524, 0.32592593],\n",
              "       [0.        , 0.35714286, 0.4       ],\n",
              "       [0.        , 0.30952381, 0.39259259],\n",
              "       [0.        , 0.4047619 , 0.05925926],\n",
              "       [1.        , 0.4047619 , 0.05185185],\n",
              "       [0.        , 0.92857143, 0.13333333],\n",
              "       [1.        , 0.28571429, 0.68148148],\n",
              "       [1.        , 0.66666667, 0.05925926],\n",
              "       [0.        , 0.54761905, 0.33333333],\n",
              "       [0.        , 0.35714286, 0.19259259],\n",
              "       [0.        , 0.35714286, 0.33333333],\n",
              "       [0.        , 0.69047619, 0.23703704],\n",
              "       [0.        , 0.23809524, 0.2962963 ],\n",
              "       [1.        , 0.64285714, 0.12592593],\n",
              "       [1.        , 0.4047619 , 0.44444444],\n",
              "       [0.        , 0.97619048, 0.2       ],\n",
              "       [0.        , 0.69047619, 0.25925926],\n",
              "       [0.        , 0.69047619, 0.26666667],\n",
              "       [1.        , 0.4047619 , 0.47407407],\n",
              "       [1.        , 0.5       , 0.2       ],\n",
              "       [1.        , 0.52380952, 0.46666667],\n",
              "       [0.        , 0.11904762, 0.24444444],\n",
              "       [0.        , 0.5       , 0.44444444],\n",
              "       [0.        , 0.4047619 , 0.31111111],\n",
              "       [1.        , 0.88095238, 0.17777778],\n",
              "       [0.        , 0.30952381, 0.41481481],\n",
              "       [1.        , 0.23809524, 0.8       ],\n",
              "       [1.        , 0.57142857, 0.48148148],\n",
              "       [1.        , 0.52380952, 0.32592593],\n",
              "       [1.        , 0.71428571, 0.43703704],\n",
              "       [1.        , 0.07142857, 0.54074074],\n",
              "       [1.        , 0.83333333, 0.42222222],\n",
              "       [0.        , 0.21428571, 0.31851852],\n",
              "       [0.        , 0.4047619 , 0.23703704],\n",
              "       [1.        , 0.23809524, 0.54814815],\n",
              "       [1.        , 0.19047619, 0.48148148],\n",
              "       [0.        , 0.33333333, 0.75555556],\n",
              "       [0.        , 0.57142857, 0.44444444],\n",
              "       [0.        , 0.35714286, 0.99259259],\n",
              "       [0.        , 0.54761905, 0.48148148],\n",
              "       [1.        , 0.30952381, 0.31851852],\n",
              "       [1.        , 0.5       , 0.88148148],\n",
              "       [1.        , 0.21428571, 0.03703704],\n",
              "       [0.        , 0.26190476, 0.5037037 ],\n",
              "       [1.        , 0.02380952, 0.40740741],\n",
              "       [1.        , 0.02380952, 0.51851852],\n",
              "       [1.        , 0.26190476, 0.34074074],\n",
              "       [0.        , 0.5       , 0.88148148],\n",
              "       [1.        , 0.30952381, 0.45185185],\n",
              "       [1.        , 0.54761905, 0.42222222],\n",
              "       [0.        , 0.19047619, 0.48148148],\n",
              "       [1.        , 0.52380952, 0.34074074],\n",
              "       [0.        , 0.4047619 , 0.07407407],\n",
              "       [0.        , 0.71428571, 0.6       ],\n",
              "       [1.        , 0.57142857, 0.99259259],\n",
              "       [1.        , 0.23809524, 0.47407407],\n",
              "       [0.        , 0.78571429, 0.88148148],\n",
              "       [0.        , 0.35714286, 0.0962963 ],\n",
              "       [1.        , 0.57142857, 0.28888889],\n",
              "       [1.        , 0.64285714, 0.05185185],\n",
              "       [0.        , 0.45238095, 0.31111111],\n",
              "       [1.        , 0.38095238, 0.71851852],\n",
              "       [1.        , 0.4047619 , 0.17777778],\n",
              "       [0.        , 0.0952381 , 0.08888889],\n",
              "       [0.        , 0.4047619 , 0.42222222],\n",
              "       [0.        , 0.5       , 0.32592593],\n",
              "       [1.        , 0.04761905, 0.43703704],\n",
              "       [0.        , 0.66666667, 0.12592593],\n",
              "       [0.        , 0.19047619, 0.20740741],\n",
              "       [0.        , 0.26190476, 0.5037037 ],\n",
              "       [0.        , 0.88095238, 0.81481481],\n",
              "       [0.        , 0.45238095, 0.97037037],\n",
              "       [0.        , 0.64285714, 0.85925926],\n",
              "       [1.        , 0.35714286, 0.20740741],\n",
              "       [1.        , 0.54761905, 0.22222222],\n",
              "       [0.        , 0.57142857, 0.47407407],\n",
              "       [0.        , 0.45238095, 0.9037037 ],\n",
              "       [1.        , 0.14285714, 0.51111111],\n",
              "       [1.        , 0.33333333, 0.02222222],\n",
              "       [0.        , 0.9047619 , 0.65925926],\n",
              "       [0.        , 0.73809524, 0.17777778],\n",
              "       [0.        , 0.23809524, 0.51851852],\n",
              "       [0.        , 0.83333333, 0.94814815],\n",
              "       [1.        , 0.28571429, 0.54814815],\n",
              "       [1.        , 0.92857143, 0.33333333],\n",
              "       [1.        , 0.52380952, 0.44444444],\n",
              "       [1.        , 0.54761905, 0.47407407],\n",
              "       [0.        , 0.04761905, 0.4962963 ],\n",
              "       [0.        , 0.0952381 , 0.2962963 ],\n",
              "       [1.        , 0.4047619 , 0.54074074],\n",
              "       [1.        , 0.85714286, 0.40740741],\n",
              "       [0.        , 0.30952381, 0.        ],\n",
              "       [0.        , 0.76190476, 0.15555556],\n",
              "       [1.        , 0.57142857, 0.37037037],\n",
              "       [1.        , 0.38095238, 0.20740741],\n",
              "       [0.        , 0.57142857, 0.68888889],\n",
              "       [0.        , 0.85714286, 0.08148148],\n",
              "       [0.        , 0.02380952, 0.04444444],\n",
              "       [0.        , 0.42857143, 0.25925926],\n",
              "       [1.        , 0.45238095, 0.40740741],\n",
              "       [0.        , 0.42857143, 0.82222222],\n",
              "       [1.        , 0.69047619, 0.03703704],\n",
              "       [0.        , 0.28571429, 0.47407407],\n",
              "       [0.        , 0.97619048, 0.5037037 ],\n",
              "       [1.        , 0.26190476, 0.48148148],\n",
              "       [0.        , 0.5952381 , 0.71851852],\n",
              "       [0.        , 0.47619048, 0.48148148],\n",
              "       [1.        , 0.95238095, 0.95555556],\n",
              "       [1.        , 0.42857143, 0.81481481],\n",
              "       [1.        , 0.73809524, 0.0962963 ],\n",
              "       [1.        , 0.        , 0.27407407],\n",
              "       [1.        , 0.28571429, 0.        ],\n",
              "       [0.        , 0.97619048, 0.54074074],\n",
              "       [0.        , 0.21428571, 0.31111111],\n",
              "       [1.        , 0.47619048, 0.41481481],\n",
              "       [0.        , 0.30952381, 0.54814815],\n",
              "       [1.        , 0.69047619, 0.14074074],\n",
              "       [1.        , 0.30952381, 0.43703704],\n",
              "       [1.        , 0.45238095, 0.42222222],\n",
              "       [1.        , 0.52380952, 0.31111111],\n",
              "       [1.        , 0.97619048, 0.85185185],\n",
              "       [1.        , 0.73809524, 0.37037037],\n",
              "       [1.        , 0.71428571, 0.55555556],\n",
              "       [0.        , 0.66666667, 0.05185185],\n",
              "       [0.        , 0.85714286, 0.65925926],\n",
              "       [1.        , 0.4047619 , 0.03703704],\n",
              "       [0.        , 0.73809524, 0.93333333],\n",
              "       [1.        , 0.71428571, 0.19259259],\n",
              "       [1.        , 0.4047619 , 0.2962963 ],\n",
              "       [1.        , 0.42857143, 0.33333333],\n",
              "       [0.        , 0.33333333, 1.        ],\n",
              "       [0.        , 0.        , 0.39259259],\n",
              "       [1.        , 0.14285714, 0.2962963 ],\n",
              "       [0.        , 0.57142857, 0.55555556],\n",
              "       [1.        , 0.47619048, 0.32592593],\n",
              "       [0.        , 1.        , 0.68888889],\n",
              "       [0.        , 0.0952381 , 0.35555556],\n",
              "       [0.        , 0.14285714, 0.12592593],\n",
              "       [1.        , 0.66666667, 0.32592593],\n",
              "       [0.        , 0.71428571, 0.88148148],\n",
              "       [0.        , 0.54761905, 0.42222222],\n",
              "       [0.        , 0.76190476, 0.21481481],\n",
              "       [1.        , 0.47619048, 0.41481481],\n",
              "       [1.        , 0.14285714, 0.05925926],\n",
              "       [1.        , 0.4047619 , 0.34074074],\n",
              "       [0.        , 0.45238095, 0.48148148],\n",
              "       [0.        , 0.14285714, 0.08888889],\n",
              "       [0.        , 0.19047619, 0.51111111],\n",
              "       [0.        , 0.38095238, 0.07407407],\n",
              "       [0.        , 0.42857143, 0.28888889],\n",
              "       [0.        , 0.07142857, 0.39259259],\n",
              "       [0.        , 0.54761905, 0.41481481],\n",
              "       [1.        , 1.        , 0.2       ],\n",
              "       [0.        , 0.80952381, 0.55555556],\n",
              "       [0.        , 0.04761905, 0.05925926],\n",
              "       [1.        , 0.78571429, 0.05925926],\n",
              "       [1.        , 0.66666667, 0.47407407],\n",
              "       [1.        , 0.28571429, 0.25185185]])"
            ]
          },
          "metadata": {
            "tags": []
          },
          "execution_count": 31
        }
      ]
    },
    {
      "cell_type": "code",
      "metadata": {
        "colab": {
          "base_uri": "https://localhost:8080/"
        },
        "id": "qa0HeFxjFG5E",
        "outputId": "b18840cc-b0ec-49a8-b8b0-0cd9c9786885"
      },
      "source": [
        "X_test = scaler.transform(X_test)\n",
        "X_test"
      ],
      "execution_count": 32,
      "outputs": [
        {
          "output_type": "execute_result",
          "data": {
            "text/plain": [
              "array([[1.        , 0.42857143, 0.13333333],\n",
              "       [0.        , 0.5       , 0.34074074],\n",
              "       [1.        , 0.42857143, 0.76296296],\n",
              "       [1.        , 0.5       , 0.79259259],\n",
              "       [0.        , 0.19047619, 0.76296296],\n",
              "       [0.        , 0.47619048, 0.37037037],\n",
              "       [0.        , 0.04761905, 0.15555556],\n",
              "       [1.        , 0.73809524, 0.54814815],\n",
              "       [1.        , 0.30952381, 0.02222222],\n",
              "       [1.        , 0.71428571, 0.93333333],\n",
              "       [0.        , 0.38095238, 0.42222222],\n",
              "       [0.        , 0.5       , 0.42962963],\n",
              "       [1.        , 0.4047619 , 0.42222222],\n",
              "       [0.        , 0.71428571, 0.85925926],\n",
              "       [0.        , 0.83333333, 0.4962963 ],\n",
              "       [1.        , 0.9047619 , 0.87407407],\n",
              "       [1.        , 1.        , 0.5037037 ],\n",
              "       [1.        , 0.21428571, 0.31851852],\n",
              "       [0.        , 0.23809524, 0.53333333],\n",
              "       [1.        , 1.        , 0.64444444],\n",
              "       [0.        , 0.52380952, 0.44444444],\n",
              "       [0.        , 0.76190476, 0.54074074],\n",
              "       [0.        , 0.61904762, 0.91851852],\n",
              "       [1.        , 0.69047619, 0.20740741],\n",
              "       [1.        , 0.64285714, 0.08148148],\n",
              "       [1.        , 0.19047619, 0.        ],\n",
              "       [0.        , 0.95238095, 0.23703704],\n",
              "       [1.        , 0.73809524, 0.43703704],\n",
              "       [0.        , 0.83333333, 0.14074074],\n",
              "       [0.        , 0.80952381, 0.73333333],\n",
              "       [1.        , 0.5       , 0.2       ],\n",
              "       [1.        , 0.02380952, 0.45185185],\n",
              "       [0.        , 0.        , 0.52592593],\n",
              "       [1.        , 0.92857143, 0.43703704],\n",
              "       [0.        , 0.21428571, 0.51111111],\n",
              "       [1.        , 0.28571429, 0.48148148],\n",
              "       [1.        , 0.0952381 , 0.02222222],\n",
              "       [0.        , 0.33333333, 0.52592593],\n",
              "       [0.        , 0.76190476, 0.03703704],\n",
              "       [1.        , 0.02380952, 0.07407407],\n",
              "       [0.        , 0.69047619, 0.95555556],\n",
              "       [0.        , 0.95238095, 0.63703704],\n",
              "       [1.        , 0.38095238, 0.74074074],\n",
              "       [0.        , 0.11904762, 0.37777778],\n",
              "       [1.        , 0.9047619 , 0.33333333],\n",
              "       [0.        , 0.30952381, 0.76296296],\n",
              "       [0.        , 0.71428571, 0.14814815],\n",
              "       [0.        , 0.69047619, 0.72592593],\n",
              "       [0.        , 0.5       , 0.47407407],\n",
              "       [0.        , 0.80952381, 0.17037037],\n",
              "       [1.        , 0.14285714, 0.31851852],\n",
              "       [1.        , 0.45238095, 0.28148148],\n",
              "       [0.        , 0.57142857, 0.48148148],\n",
              "       [1.        , 0.66666667, 0.0962963 ],\n",
              "       [1.        , 0.57142857, 0.42962963],\n",
              "       [0.        , 0.45238095, 0.34814815],\n",
              "       [1.        , 1.        , 0.2       ],\n",
              "       [1.        , 0.42857143, 0.27407407],\n",
              "       [0.        , 0.95238095, 0.59259259],\n",
              "       [1.        , 0.5952381 , 0.84444444],\n",
              "       [1.        , 0.21428571, 0.54814815],\n",
              "       [0.        , 0.11904762, 0.4962963 ],\n",
              "       [0.        , 0.47619048, 0.71851852],\n",
              "       [0.        , 0.4047619 , 0.25925926],\n",
              "       [1.        , 0.42857143, 0.62222222],\n",
              "       [1.        , 0.45238095, 0.95555556],\n",
              "       [0.        , 0.19047619, 0.14814815],\n",
              "       [0.        , 0.57142857, 0.40740741],\n",
              "       [0.        , 0.5952381 , 0.87407407],\n",
              "       [0.        , 0.47619048, 0.25925926],\n",
              "       [0.        , 0.66666667, 0.6       ],\n",
              "       [0.        , 0.4047619 , 0.21481481],\n",
              "       [0.        , 0.47619048, 0.72592593],\n",
              "       [1.        , 0.5       , 0.41481481],\n",
              "       [0.        , 0.19047619, 0.27407407],\n",
              "       [0.        , 0.85714286, 0.68888889],\n",
              "       [0.        , 0.35714286, 0.26666667],\n",
              "       [1.        , 0.19047619, 0.00740741],\n",
              "       [1.        , 0.28571429, 0.53333333],\n",
              "       [0.        , 0.4047619 , 0.33333333]])"
            ]
          },
          "metadata": {
            "tags": []
          },
          "execution_count": 32
        }
      ]
    },
    {
      "cell_type": "markdown",
      "metadata": {
        "id": "_VB4b09roPhq"
      },
      "source": [
        "**Fitting Decision Tree Classification to the Training set**"
      ]
    },
    {
      "cell_type": "code",
      "metadata": {
        "id": "0UxhDc2lnqKu"
      },
      "source": [
        "dtree = DecisionTreeClassifier(criterion='entropy', max_depth=7)"
      ],
      "execution_count": 61,
      "outputs": []
    },
    {
      "cell_type": "code",
      "metadata": {
        "colab": {
          "base_uri": "https://localhost:8080/"
        },
        "id": "ulaakHWOyk7-",
        "outputId": "53e18028-2faa-4c9c-953b-c22d3fca11e4"
      },
      "source": [
        "dtree.fit(X_train, y_train)"
      ],
      "execution_count": 62,
      "outputs": [
        {
          "output_type": "execute_result",
          "data": {
            "text/plain": [
              "DecisionTreeClassifier(ccp_alpha=0.0, class_weight=None, criterion='entropy',\n",
              "                       max_depth=7, max_features=None, max_leaf_nodes=None,\n",
              "                       min_impurity_decrease=0.0, min_impurity_split=None,\n",
              "                       min_samples_leaf=1, min_samples_split=2,\n",
              "                       min_weight_fraction_leaf=0.0, presort='deprecated',\n",
              "                       random_state=None, splitter='best')"
            ]
          },
          "metadata": {
            "tags": []
          },
          "execution_count": 62
        }
      ]
    },
    {
      "cell_type": "markdown",
      "metadata": {
        "id": "XOl6_ERWoYh2"
      },
      "source": [
        "**Predicting the Test set results**"
      ]
    },
    {
      "cell_type": "code",
      "metadata": {
        "colab": {
          "base_uri": "https://localhost:8080/"
        },
        "id": "gZWHWQ67yk98",
        "outputId": "258755fe-0304-4fc4-e949-afb3d1764aa5"
      },
      "source": [
        "dtree.predict(X_test)"
      ],
      "execution_count": 63,
      "outputs": [
        {
          "output_type": "execute_result",
          "data": {
            "text/plain": [
              "array([0, 0, 1, 1, 0, 0, 0, 1, 0, 1, 0, 0, 0, 1, 0, 0, 0, 0, 0, 1, 0, 1,\n",
              "       1, 1, 1, 0, 1, 0, 1, 1, 0, 0, 0, 1, 0, 0, 0, 0, 1, 0, 1, 1, 1, 0,\n",
              "       1, 0, 1, 1, 0, 1, 0, 0, 0, 1, 0, 0, 1, 0, 1, 1, 0, 0, 0, 0, 1, 1,\n",
              "       0, 0, 1, 0, 1, 0, 0, 0, 0, 1, 0, 0, 0, 0])"
            ]
          },
          "metadata": {
            "tags": []
          },
          "execution_count": 63
        }
      ]
    },
    {
      "cell_type": "code",
      "metadata": {
        "colab": {
          "base_uri": "https://localhost:8080/"
        },
        "id": "uPLjifS3zMhb",
        "outputId": "9ee353e6-590d-4437-9a9d-52c7f6e956dd"
      },
      "source": [
        "dtree.score(X_test, y_test)*100"
      ],
      "execution_count": 64,
      "outputs": [
        {
          "output_type": "execute_result",
          "data": {
            "text/plain": [
              "83.75"
            ]
          },
          "metadata": {
            "tags": []
          },
          "execution_count": 64
        }
      ]
    },
    {
      "cell_type": "markdown",
      "metadata": {
        "id": "pqaQ_HTZogaZ"
      },
      "source": [
        "**Making the Confusion Matrix**"
      ]
    },
    {
      "cell_type": "code",
      "metadata": {
        "id": "DdqNOMK8nqSs",
        "colab": {
          "base_uri": "https://localhost:8080/"
        },
        "outputId": "11fc8e7f-6d0f-4064-c496-c8f1c0bc36dd"
      },
      "source": [
        "cm = confusion_matrix(y_test, dtree.predict(X_test))\n",
        "cm"
      ],
      "execution_count": 65,
      "outputs": [
        {
          "output_type": "execute_result",
          "data": {
            "text/plain": [
              "array([[42,  6],\n",
              "       [ 7, 25]])"
            ]
          },
          "metadata": {
            "tags": []
          },
          "execution_count": 65
        }
      ]
    },
    {
      "cell_type": "markdown",
      "metadata": {
        "id": "Ko5EDqqiopBl"
      },
      "source": [
        "**Visualising the results**"
      ]
    },
    {
      "cell_type": "code",
      "metadata": {
        "id": "uqmwBaVm3u6v"
      },
      "source": [
        "import numpy as np\n",
        "import matplotlib.pyplot as plt\n",
        "import pandas as pd\n",
        "\n",
        "def plot_decision_boundaries(X, y, model_class, **model_params):\n",
        "    \"\"\"\n",
        "    Function to plot the decision boundaries of a classification model.\n",
        "    This uses just the first two columns of the data for fitting \n",
        "    the model as we need to find the predicted value for every point in \n",
        "    scatter plot.\n",
        "    Arguments:\n",
        "            X: Feature data as a NumPy-type array.\n",
        "            y: Label data as a NumPy-type array.\n",
        "            model_class: A Scikit-learn ML estimator class \n",
        "            e.g. GaussianNB (imported from sklearn.naive_bayes) or\n",
        "            LogisticRegression (imported from sklearn.linear_model)\n",
        "            **model_params: Model parameters to be passed on to the ML estimator\n",
        "    \n",
        "    Typical code example:\n",
        "            plt.figure()\n",
        "            plt.title(\"KNN decision boundary with neighbros: 5\",fontsize=16)\n",
        "            plot_decision_boundaries(X_train,y_train,KNeighborsClassifier,n_neighbors=5)\n",
        "            plt.show()\n",
        "    \"\"\"\n",
        "    try:\n",
        "        X = np.array(X)\n",
        "        y = np.array(y).flatten()\n",
        "    except:\n",
        "        print(\"Coercing input data to NumPy arrays failed\")\n",
        "    # Reduces to the first two columns of data\n",
        "    reduced_data = X[:, :2]\n",
        "    # Instantiate the model object\n",
        "    model = model_class(**model_params)\n",
        "    # Fits the model with the reduced data\n",
        "    model.fit(reduced_data, y)\n",
        "\n",
        "    # Step size of the mesh. Decrease to increase the quality of the VQ.\n",
        "    h = .02     # point in the mesh [x_min, m_max]x[y_min, y_max].    \n",
        "\n",
        "    # Plot the decision boundary. For that, we will assign a color to each\n",
        "    x_min, x_max = reduced_data[:, 0].min() - 1, reduced_data[:, 0].max() + 1\n",
        "    y_min, y_max = reduced_data[:, 1].min() - 1, reduced_data[:, 1].max() + 1\n",
        "    # Meshgrid creation\n",
        "    xx, yy = np.meshgrid(np.arange(x_min, x_max, h), np.arange(y_min, y_max, h))\n",
        "\n",
        "    # Obtain labels for each point in mesh using the model.\n",
        "    Z = model.predict(np.c_[xx.ravel(), yy.ravel()])    \n",
        "\n",
        "    x_min, x_max = X[:, 0].min() - 1, X[:, 0].max() + 1\n",
        "    y_min, y_max = X[:, 1].min() - 1, X[:, 1].max() + 1\n",
        "    xx, yy = np.meshgrid(np.arange(x_min, x_max, 0.1),\n",
        "                         np.arange(y_min, y_max, 0.1))\n",
        "\n",
        "    # Predictions to obtain the classification results\n",
        "    Z = model.predict(np.c_[xx.ravel(), yy.ravel()]).reshape(xx.shape)\n",
        "\n",
        "    # Plotting\n",
        "    plt.contourf(xx, yy, Z, alpha=0.4)\n",
        "    plt.scatter(X[:, 0], X[:, 1], c=y, alpha=0.8)\n",
        "    plt.xlabel(\"Feature-1\",fontsize=15)\n",
        "    plt.ylabel(\"Feature-2\",fontsize=15)\n",
        "    plt.xticks(fontsize=14)\n",
        "    plt.yticks(fontsize=14)\n",
        "    return plt"
      ],
      "execution_count": 67,
      "outputs": []
    },
    {
      "cell_type": "code",
      "metadata": {
        "id": "y7C-xZjFnqVC",
        "colab": {
          "base_uri": "https://localhost:8080/",
          "height": 1000
        },
        "outputId": "c9fb4d08-b93a-4030-aae5-99647811bc37"
      },
      "source": [
        "plot_tree(dtree)"
      ],
      "execution_count": 66,
      "outputs": [
        {
          "output_type": "execute_result",
          "data": {
            "text/plain": [
              "[Text(417.0053571428572, 611.5500000000001, 'X[1] <= 0.631\\nentropy = 0.931\\nsamples = 320\\nvalue = [209, 111]'),\n",
              " Text(179.35714285714286, 530.01, 'X[2] <= 0.559\\nentropy = 0.645\\nsamples = 237\\nvalue = [198, 39]'),\n",
              " Text(71.74285714285715, 448.47, 'X[1] <= 0.44\\nentropy = 0.218\\nsamples = 201\\nvalue = [194, 7]'),\n",
              " Text(35.871428571428574, 366.93, 'entropy = 0.0\\nsamples = 134\\nvalue = [134, 0]'),\n",
              " Text(107.61428571428573, 366.93, 'X[2] <= 0.389\\nentropy = 0.483\\nsamples = 67\\nvalue = [60, 7]'),\n",
              " Text(71.74285714285715, 285.39000000000004, 'entropy = 0.0\\nsamples = 35\\nvalue = [35, 0]'),\n",
              " Text(143.4857142857143, 285.39000000000004, 'X[2] <= 0.507\\nentropy = 0.758\\nsamples = 32\\nvalue = [25, 7]'),\n",
              " Text(107.61428571428573, 203.85000000000002, 'X[1] <= 0.536\\nentropy = 0.65\\nsamples = 30\\nvalue = [25, 5]'),\n",
              " Text(71.74285714285715, 122.31000000000006, 'X[2] <= 0.411\\nentropy = 0.811\\nsamples = 20\\nvalue = [15, 5]'),\n",
              " Text(35.871428571428574, 40.76999999999998, 'entropy = 0.0\\nsamples = 1\\nvalue = [0, 1]'),\n",
              " Text(107.61428571428573, 40.76999999999998, 'entropy = 0.742\\nsamples = 19\\nvalue = [15, 4]'),\n",
              " Text(143.4857142857143, 122.31000000000006, 'entropy = 0.0\\nsamples = 10\\nvalue = [10, 0]'),\n",
              " Text(179.35714285714286, 203.85000000000002, 'entropy = 0.0\\nsamples = 2\\nvalue = [0, 2]'),\n",
              " Text(286.9714285714286, 448.47, 'X[2] <= 0.767\\nentropy = 0.503\\nsamples = 36\\nvalue = [4, 32]'),\n",
              " Text(251.10000000000002, 366.93, 'X[2] <= 0.685\\nentropy = 0.764\\nsamples = 18\\nvalue = [4, 14]'),\n",
              " Text(215.22857142857146, 285.39000000000004, 'entropy = 0.0\\nsamples = 10\\nvalue = [0, 10]'),\n",
              " Text(286.9714285714286, 285.39000000000004, 'X[1] <= 0.488\\nentropy = 1.0\\nsamples = 8\\nvalue = [4, 4]'),\n",
              " Text(251.10000000000002, 203.85000000000002, 'X[2] <= 0.704\\nentropy = 0.918\\nsamples = 6\\nvalue = [4, 2]'),\n",
              " Text(215.22857142857146, 122.31000000000006, 'entropy = 0.0\\nsamples = 1\\nvalue = [1, 0]'),\n",
              " Text(286.9714285714286, 122.31000000000006, 'X[0] <= 0.5\\nentropy = 0.971\\nsamples = 5\\nvalue = [3, 2]'),\n",
              " Text(251.10000000000002, 40.76999999999998, 'entropy = 0.811\\nsamples = 4\\nvalue = [3, 1]'),\n",
              " Text(322.84285714285716, 40.76999999999998, 'entropy = 0.0\\nsamples = 1\\nvalue = [0, 1]'),\n",
              " Text(322.84285714285716, 203.85000000000002, 'entropy = 0.0\\nsamples = 2\\nvalue = [0, 2]'),\n",
              " Text(322.84285714285716, 366.93, 'entropy = 0.0\\nsamples = 18\\nvalue = [0, 18]'),\n",
              " Text(654.6535714285715, 530.01, 'X[2] <= 0.196\\nentropy = 0.564\\nsamples = 83\\nvalue = [11, 72]'),\n",
              " Text(502.20000000000005, 448.47, 'X[2] <= 0.056\\nentropy = 0.201\\nsamples = 32\\nvalue = [1, 31]'),\n",
              " Text(466.3285714285715, 366.93, 'X[0] <= 0.5\\nentropy = 0.722\\nsamples = 5\\nvalue = [1, 4]'),\n",
              " Text(430.4571428571429, 285.39000000000004, 'X[2] <= 0.048\\nentropy = 0.918\\nsamples = 3\\nvalue = [1, 2]'),\n",
              " Text(394.5857142857143, 203.85000000000002, 'entropy = 0.0\\nsamples = 1\\nvalue = [0, 1]'),\n",
              " Text(466.3285714285715, 203.85000000000002, 'X[1] <= 0.655\\nentropy = 1.0\\nsamples = 2\\nvalue = [1, 1]'),\n",
              " Text(430.4571428571429, 122.31000000000006, 'entropy = 0.0\\nsamples = 1\\nvalue = [0, 1]'),\n",
              " Text(502.20000000000005, 122.31000000000006, 'entropy = 0.0\\nsamples = 1\\nvalue = [1, 0]'),\n",
              " Text(502.20000000000005, 285.39000000000004, 'entropy = 0.0\\nsamples = 2\\nvalue = [0, 2]'),\n",
              " Text(538.0714285714286, 366.93, 'entropy = 0.0\\nsamples = 27\\nvalue = [0, 27]'),\n",
              " Text(807.1071428571429, 448.47, 'X[2] <= 0.515\\nentropy = 0.714\\nsamples = 51\\nvalue = [10, 41]'),\n",
              " Text(717.4285714285714, 366.93, 'X[2] <= 0.485\\nentropy = 0.985\\nsamples = 21\\nvalue = [9, 12]'),\n",
              " Text(681.5571428571429, 285.39000000000004, 'X[1] <= 0.798\\nentropy = 0.949\\nsamples = 19\\nvalue = [7, 12]'),\n",
              " Text(609.8142857142858, 203.85000000000002, 'X[1] <= 0.726\\nentropy = 1.0\\nsamples = 12\\nvalue = [6, 6]'),\n",
              " Text(573.9428571428572, 122.31000000000006, 'X[2] <= 0.296\\nentropy = 0.971\\nsamples = 10\\nvalue = [4, 6]'),\n",
              " Text(538.0714285714286, 40.76999999999998, 'entropy = 0.722\\nsamples = 5\\nvalue = [1, 4]'),\n",
              " Text(609.8142857142858, 40.76999999999998, 'entropy = 0.971\\nsamples = 5\\nvalue = [3, 2]'),\n",
              " Text(645.6857142857143, 122.31000000000006, 'entropy = 0.0\\nsamples = 2\\nvalue = [2, 0]'),\n",
              " Text(753.3000000000001, 203.85000000000002, 'X[2] <= 0.215\\nentropy = 0.592\\nsamples = 7\\nvalue = [1, 6]'),\n",
              " Text(717.4285714285714, 122.31000000000006, 'X[1] <= 0.988\\nentropy = 1.0\\nsamples = 2\\nvalue = [1, 1]'),\n",
              " Text(681.5571428571429, 40.76999999999998, 'entropy = 0.0\\nsamples = 1\\nvalue = [1, 0]'),\n",
              " Text(753.3000000000001, 40.76999999999998, 'entropy = 0.0\\nsamples = 1\\nvalue = [0, 1]'),\n",
              " Text(789.1714285714286, 122.31000000000006, 'entropy = 0.0\\nsamples = 5\\nvalue = [0, 5]'),\n",
              " Text(753.3000000000001, 285.39000000000004, 'entropy = 0.0\\nsamples = 2\\nvalue = [2, 0]'),\n",
              " Text(896.7857142857143, 366.93, 'X[2] <= 0.87\\nentropy = 0.211\\nsamples = 30\\nvalue = [1, 29]'),\n",
              " Text(860.9142857142858, 285.39000000000004, 'entropy = 0.0\\nsamples = 20\\nvalue = [0, 20]'),\n",
              " Text(932.657142857143, 285.39000000000004, 'X[2] <= 0.896\\nentropy = 0.469\\nsamples = 10\\nvalue = [1, 9]'),\n",
              " Text(896.7857142857143, 203.85000000000002, 'X[1] <= 0.75\\nentropy = 1.0\\nsamples = 2\\nvalue = [1, 1]'),\n",
              " Text(860.9142857142858, 122.31000000000006, 'entropy = 0.0\\nsamples = 1\\nvalue = [0, 1]'),\n",
              " Text(932.657142857143, 122.31000000000006, 'entropy = 0.0\\nsamples = 1\\nvalue = [1, 0]'),\n",
              " Text(968.5285714285715, 203.85000000000002, 'entropy = 0.0\\nsamples = 8\\nvalue = [0, 8]')]"
            ]
          },
          "metadata": {
            "tags": []
          },
          "execution_count": 66
        },
        {
          "output_type": "display_data",
          "data": {
            "image/png": "[encoded data removed]",
            "text/plain": [
              "<Figure size 1296x864 with 1 Axes>"
            ]
          },
          "metadata": {
            "tags": [],
            "needs_background": "light"
          }
        }
      ]
    },
    {
      "cell_type": "markdown",
      "metadata": {
        "id": "DUVWBDqn4z9r"
      },
      "source": [
        "**Visualising the Train set results**"
      ]
    },
    {
      "cell_type": "code",
      "metadata": {
        "colab": {
          "base_uri": "https://localhost:8080/",
          "height": 740
        },
        "id": "j_Sr7IGt3u9D",
        "outputId": "fddc5056-ffca-4569-cbc7-5f4c4c517794"
      },
      "source": [
        "plot_decision_boundaries(X_train[:,1:], y_train, DecisionTreeClassifier)"
      ],
      "execution_count": 74,
      "outputs": [
        {
          "output_type": "execute_result",
          "data": {
            "text/plain": [
              "<module 'matplotlib.pyplot' from '/usr/local/lib/python3.7/dist-packages/matplotlib/pyplot.py'>"
            ]
          },
          "metadata": {
            "tags": []
          },
          "execution_count": 74
        },
        {
          "output_type": "display_data",
          "data": {
            "image/png": "[encoded data removed]",
            "text/plain": [
              "<Figure size 1296x864 with 1 Axes>"
            ]
          },
          "metadata": {
            "tags": [],
            "needs_background": "light"
          }
        }
      ]
    },
    {
      "cell_type": "markdown",
      "metadata": {
        "id": "HsJMtDFf44UB"
      },
      "source": [
        "**Visualising the Test set results**"
      ]
    },
    {
      "cell_type": "code",
      "metadata": {
        "colab": {
          "base_uri": "https://localhost:8080/",
          "height": 740
        },
        "id": "Gfrj9sMC44UC",
        "outputId": "dc132eba-7bd6-41ae-95fa-ccd0a8b4e233"
      },
      "source": [
        "plot_decision_boundaries(X_test[:,1:], y_test, DecisionTreeClassifier)"
      ],
      "execution_count": 76,
      "outputs": [
        {
          "output_type": "execute_result",
          "data": {
            "text/plain": [
              "<module 'matplotlib.pyplot' from '/usr/local/lib/python3.7/dist-packages/matplotlib/pyplot.py'>"
            ]
          },
          "metadata": {
            "tags": []
          },
          "execution_count": 76
        },
        {
          "output_type": "display_data",
          "data": {
            "image/png": "[encoded data removed]",
            "text/plain": [
              "<Figure size 1296x864 with 1 Axes>"
            ]
          },
          "metadata": {
            "tags": [],
            "needs_background": "light"
          }
        }
      ]
    },
    {
      "cell_type": "code",
      "metadata": {
        "id": "d4ZRmE2n5fH-"
      },
      "source": [
        ""
      ],
      "execution_count": null,
      "outputs": []
    }
  ]
}